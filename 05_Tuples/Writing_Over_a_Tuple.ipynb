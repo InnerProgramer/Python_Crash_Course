{
 "cells": [
  {
   "cell_type": "markdown",
   "id": "6965825d",
   "metadata": {},
   "source": [
    "# **Writing Over a Tuple**\n",
    "Although you can’t modify a tuple, you can assign a new value to a variable\n",
    "that represents a tuple. For example, if we wanted to change the dimensions\n",
    "of this rectangle, we could redefine the entire tuple:"
   ]
  },
  {
   "cell_type": "code",
   "execution_count": null,
   "id": "23ca9938",
   "metadata": {},
   "outputs": [
    {
     "name": "stdout",
     "output_type": "stream",
     "text": [
      "Original Dimensions:\n",
      "200\n",
      "50\n",
      "\n",
      "Modified Dimensions:\n",
      "400\n",
      "100\n"
     ]
    }
   ],
   "source": [
    "dimensions = (200,50)\n",
    "print(\"Original Dimensions:\")\n",
    "for dimension in dimensions:\n",
    "    print(dimension)\n",
    "\n",
    "print(\"\\nModified Dimensions:\")\n",
    "dimensions = (400,100)\n",
    "for dimension in dimensions:\n",
    "    print(dimension)\n",
    "\n",
    "# The first four lines define the original tuple and print the initial dimensions.\n",
    "# We then associate a new tuple with the variable dimensions, and print the\n",
    "# new values. Python doesn’t raise any errors this time, because reassigning a\n",
    "# variable is valid:\n",
    "\n",
    "\n",
    "# When compared with lists, tuples are simple data structures. Use them when\n",
    "# you want to store a set of values that should not be changed throughout the\n",
    "# life of a program."
   ]
  }
 ],
 "metadata": {
  "kernelspec": {
   "display_name": "Python 3",
   "language": "python",
   "name": "python3"
  },
  "language_info": {
   "codemirror_mode": {
    "name": "ipython",
    "version": 3
   },
   "file_extension": ".py",
   "mimetype": "text/x-python",
   "name": "python",
   "nbconvert_exporter": "python",
   "pygments_lexer": "ipython3",
   "version": "3.13.5"
  }
 },
 "nbformat": 4,
 "nbformat_minor": 5
}
