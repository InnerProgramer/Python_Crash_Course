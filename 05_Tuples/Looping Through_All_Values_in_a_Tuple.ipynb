{
 "cells": [
  {
   "cell_type": "markdown",
   "id": "435b9771",
   "metadata": {},
   "source": [
    "# **Looping Through All Values in a Tuple**\n",
    "You can loop over all the values in a tuple using a for loop, just as you did\n",
    "with a list:"
   ]
  },
  {
   "cell_type": "code",
   "execution_count": null,
   "id": "10d7fa25",
   "metadata": {},
   "outputs": [
    {
     "name": "stdout",
     "output_type": "stream",
     "text": [
      "200\n",
      "50\n"
     ]
    }
   ],
   "source": [
    "dimensions = (200,50)\n",
    "for dimesion in dimensions:\n",
    "    print(dimesion)\n",
    "\n",
    "# Python returns all the elements in the tuple, just as it would for a list:"
   ]
  }
 ],
 "metadata": {
  "kernelspec": {
   "display_name": "Python 3",
   "language": "python",
   "name": "python3"
  },
  "language_info": {
   "codemirror_mode": {
    "name": "ipython",
    "version": 3
   },
   "file_extension": ".py",
   "mimetype": "text/x-python",
   "name": "python",
   "nbconvert_exporter": "python",
   "pygments_lexer": "ipython3",
   "version": "3.13.5"
  }
 },
 "nbformat": 4,
 "nbformat_minor": 5
}
