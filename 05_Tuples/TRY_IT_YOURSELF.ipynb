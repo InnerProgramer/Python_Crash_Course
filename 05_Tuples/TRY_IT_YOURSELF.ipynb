{
 "cells": [
  {
   "cell_type": "markdown",
   "id": "b4438abd",
   "metadata": {},
   "source": [
    "# **TRY IT YOURSELF**\n"
   ]
  },
  {
   "cell_type": "markdown",
   "id": "4495404d",
   "metadata": {},
   "source": [
    "# 1 Buffet:\n",
    "A buffet-style restaurant offers only five basic foods. Think of five simple\n",
    "foods, and store them in a tuple.\n",
    "Use a for loop to print each food the restaurant offers.\n",
    "Try to modify one of the items, and make sure that Python rejects the change.\n",
    "The restaurant changes its menu, replacing two of the items with different foods. Add a\n",
    "line that rewrites the tuple, and then use a for loop to print each of the items on the\n",
    "revised menu."
   ]
  },
  {
   "cell_type": "code",
   "execution_count": 6,
   "id": "0549dadb",
   "metadata": {},
   "outputs": [
    {
     "name": "stdout",
     "output_type": "stream",
     "text": [
      "Pizza\n",
      "Pasta\n",
      "Salad\n",
      "Soup\n",
      "Sandwich\n"
     ]
    }
   ],
   "source": [
    "Basic_Foods = ('Pizza', 'Pasta', 'Salad', 'Soup', 'Sandwich')\n",
    "for BF in Basic_Foods:\n",
    "    print(BF)\n"
   ]
  },
  {
   "cell_type": "markdown",
   "id": "dc0946d6",
   "metadata": {},
   "source": [
    "# Trying to change the tuple\n"
   ]
  },
  {
   "cell_type": "code",
   "execution_count": null,
   "id": "08917f46",
   "metadata": {},
   "outputs": [
    {
     "ename": "TypeError",
     "evalue": "'tuple' object does not support item assignment",
     "output_type": "error",
     "traceback": [
      "\u001b[31m---------------------------------------------------------------------------\u001b[39m",
      "\u001b[31mTypeError\u001b[39m                                 Traceback (most recent call last)",
      "\u001b[36mCell\u001b[39m\u001b[36m \u001b[39m\u001b[32mIn[7]\u001b[39m\u001b[32m, line 1\u001b[39m\n\u001b[32m----> \u001b[39m\u001b[32m1\u001b[39m \u001b[43mBasic_Foods\u001b[49m\u001b[43m[\u001b[49m\u001b[32;43m1\u001b[39;49m\u001b[43m]\u001b[49m = \u001b[33m'\u001b[39m\u001b[33mMacaroni\u001b[39m\u001b[33m'\u001b[39m\n",
      "\u001b[31mTypeError\u001b[39m: 'tuple' object does not support item assignment"
     ]
    }
   ],
   "source": [
    "Basic_Foods[1] = 'Macaroni'     # This cause the error"
   ]
  },
  {
   "cell_type": "markdown",
   "id": "23857717",
   "metadata": {},
   "source": [
    "# Replacing the menu"
   ]
  },
  {
   "cell_type": "code",
   "execution_count": 13,
   "id": "9652d0de",
   "metadata": {},
   "outputs": [
    {
     "name": "stdout",
     "output_type": "stream",
     "text": [
      "Old Menu:\n",
      "Pizza\n",
      "Pasta\n",
      "Salad\n",
      "Soup\n",
      "Sandwich\n",
      "\n",
      "New Menu:\n",
      "Garlic Bread\n",
      "Fruit Salad\n",
      "Grilled Chicken\n",
      "Fried Rice\n",
      "Macaroni\n"
     ]
    }
   ],
   "source": [
    "print(\"Old Menu:\")\n",
    "Basic_Foods = ('Pizza', 'Pasta', 'Salad', 'Soup', 'Sandwich')\n",
    "for BF in Basic_Foods:\n",
    "    print(BF)\n",
    "\n",
    "\n",
    "print(\"\\nNew Menu:\")\n",
    "Basic_Foods = ('Garlic Bread', 'Fruit Salad', 'Grilled Chicken', 'Fried Rice', 'Macaroni')\n",
    "for BF in Basic_Foods:\n",
    "    print(BF)\n",
    "\n",
    "\n"
   ]
  }
 ],
 "metadata": {
  "kernelspec": {
   "display_name": "Python 3",
   "language": "python",
   "name": "python3"
  },
  "language_info": {
   "codemirror_mode": {
    "name": "ipython",
    "version": 3
   },
   "file_extension": ".py",
   "mimetype": "text/x-python",
   "name": "python",
   "nbconvert_exporter": "python",
   "pygments_lexer": "ipython3",
   "version": "3.13.5"
  }
 },
 "nbformat": 4,
 "nbformat_minor": 5
}
