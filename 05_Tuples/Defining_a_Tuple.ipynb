{
 "cells": [
  {
   "cell_type": "markdown",
   "id": "b61d13c6",
   "metadata": {},
   "source": [
    "# **Tuples**\n",
    "Lists work well for storing collections of items that can change throughout\n",
    "the life of a program. The ability to modify lists is particularly important\n",
    "when you’re working with a list of users on a website or a list of characters\n",
    "in a game. However, sometimes you’ll want to create a list of items that\n",
    "cannot change. Tuples allow you to do just that. Python refers to values that\n",
    "cannot change as immutable, and an immutable list is called a tuple."
   ]
  },
  {
   "cell_type": "markdown",
   "id": "71da7c4b",
   "metadata": {},
   "source": [
    "## Defining a Tuple\n",
    "A tuple looks just like a list, except you use parentheses instead of square\n",
    "brackets. Once you define a tuple, you can access individual elements by\n",
    "using each item’s index, just as you would for a list.\n",
    "For example, if we have a rectangle that should always be a certain size, we\n",
    "can ensure that its size doesn’t change by putting the dimensions into a\n",
    "tuple:\n"
   ]
  },
  {
   "cell_type": "code",
   "execution_count": 2,
   "id": "41a3b8b4",
   "metadata": {},
   "outputs": [
    {
     "name": "stdout",
     "output_type": "stream",
     "text": [
      "200\n",
      "50\n"
     ]
    }
   ],
   "source": [
    "dimensions = (200, 50)\n",
    "print(dimensions[0])\n",
    "print(dimensions[1])\n",
    "\n",
    "\n",
    "# We define the tuple dimensions, using parentheses instead of square\n",
    "# brackets. Then we print each element in the tuple individually, using the\n",
    "# same syntax we’ve been using to access elements in a list:\n"
   ]
  },
  {
   "cell_type": "markdown",
   "id": "6163efe3",
   "metadata": {},
   "source": [
    "Let’s see what happens if we try to change one of the items in the tuple\n",
    "dimensions:\n"
   ]
  },
  {
   "cell_type": "code",
   "execution_count": null,
   "id": "7092a0fe",
   "metadata": {},
   "outputs": [],
   "source": [
    "dimensions = (200, 50)\n",
    "dimensions[0] = 34 \n",
    "\n",
    "# This code tries to change the value of the first dimension, but Python\n",
    "# returns a type error. Because we’re trying to alter a tuple, which can’t be\n",
    "# done to that type of object, Python tells us we can’t assign a new value to an\n",
    "# item in a tuple:\n",
    "\n",
    "\n",
    "# This is beneficial because we want Python to raise an error when a line of\n",
    "# # code tries to change the dimensions of the rectangle."
   ]
  },
  {
   "cell_type": "markdown",
   "id": "ebf95c79",
   "metadata": {},
   "source": [
    "## NOTE\n",
    "Tuples are technically defined by the presence of a comma; the\n",
    "parentheses make them look neater and more readable. If you want\n",
    "to define a tuple with one element, you need to include a trailing\n",
    "comma:\n"
   ]
  },
  {
   "cell_type": "code",
   "execution_count": null,
   "id": "d0d0ab31",
   "metadata": {},
   "outputs": [
    {
     "name": "stdout",
     "output_type": "stream",
     "text": [
      "(3,)\n"
     ]
    }
   ],
   "source": [
    "my_t = (3,)\n",
    "print(my_t)\n",
    "\n",
    "# It doesn’t often make sense to build a tuple with one element, but\n",
    "# this can happen when tuples are generated automatically."
   ]
  }
 ],
 "metadata": {
  "kernelspec": {
   "display_name": "Python 3",
   "language": "python",
   "name": "python3"
  },
  "language_info": {
   "codemirror_mode": {
    "name": "ipython",
    "version": 3
   },
   "file_extension": ".py",
   "mimetype": "text/x-python",
   "name": "python",
   "nbconvert_exporter": "python",
   "pygments_lexer": "ipython3",
   "version": "3.13.5"
  }
 },
 "nbformat": 4,
 "nbformat_minor": 5
}
