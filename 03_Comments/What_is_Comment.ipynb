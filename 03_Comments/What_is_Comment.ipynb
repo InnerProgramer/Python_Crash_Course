{
 "cells": [
  {
   "cell_type": "markdown",
   "id": "9eaf4562",
   "metadata": {},
   "source": [
    "# **Comments** \n",
    "Comments are an extremely useful feature in most programming languages.\n",
    "Everything you’ve written in your programs so far is Python code. As your\n",
    "programs become longer and more complicated, you should add notes\n",
    "within your programs that describe your overall approach to the problem\n",
    "you’re solving. A comment allows you to write notes in your spoken\n",
    "language, within your programs."
   ]
  },
  {
   "cell_type": "code",
   "execution_count": null,
   "id": "b17908c9",
   "metadata": {},
   "outputs": [
    {
     "name": "stdout",
     "output_type": "stream",
     "text": [
      "Hello Python people!\n"
     ]
    }
   ],
   "source": [
    "# How Do You Write Comments?\n",
    "# In Python, the hash symbol (#) is used to write comments.\n",
    "# Anything following the hash symbol on a line is ignored by the Python interpreter.\n",
    "# In fact, the lines you're reading now are also comments!\n",
    "# For example:\n",
    "\n",
    "# Say hello to everyone.\n",
    "print(\"Hello Python people!\")    # Result = \"Hello Python people!\"\n"
   ]
  },
  {
   "cell_type": "markdown",
   "id": "5abe6a4b",
   "metadata": {},
   "source": [
    "##### **What Kinds of Comments Should You Write?**\n",
    "The main reason to write comments is to explain what your code is supposed to do and how you are making it work. When you’re in the middle of working on a project, you understand how all of the pieces fit together. But when you return to a project after some time away, you’ll likely have forgotten some of the details. You can always study your code for a while\n",
    "and figure out how segments were supposed to work, but writing good comments can save you time by summarizing your overall approach clearly. If you want to become a professional programmer or collaborate with other programmers, you should write meaningful comments. Today, most software is written collaboratively, whether by a group of employees at one\n",
    "company or a group of people working together on an open source project. Skilled programmers expect to see comments in code, so it’s best to start adding descriptive comments to your programs now. Writing clear, concise comments in your code is one of the most beneficial habits you can form as a new programmer. When you’re deciding whether to write a comment, ask yourself if you had to consider several approaches before coming up with a reasonable way to make something work; if so, write a comment about your solution. It’s much easier to delete extra comments later than to go back and write comments for a sparsely commented program. From now on, I’ll use comments in examples throughout this book to help explain sections of code."
   ]
  }
 ],
 "metadata": {
  "kernelspec": {
   "display_name": "Python 3",
   "language": "python",
   "name": "python3"
  },
  "language_info": {
   "codemirror_mode": {
    "name": "ipython",
    "version": 3
   },
   "file_extension": ".py",
   "mimetype": "text/x-python",
   "name": "python",
   "nbconvert_exporter": "python",
   "pygments_lexer": "ipython3",
   "version": "3.13.5"
  }
 },
 "nbformat": 4,
 "nbformat_minor": 5
}
