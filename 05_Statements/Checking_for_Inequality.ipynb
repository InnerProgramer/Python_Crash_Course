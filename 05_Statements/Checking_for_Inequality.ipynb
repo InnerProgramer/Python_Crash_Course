{
 "cells": [
  {
   "cell_type": "markdown",
   "id": "423295c2",
   "metadata": {},
   "source": [
    "# **Checking for Inequality**\n",
    "When you want to determine whether two values are not equal, you can use\n",
    "the inequality operator (!=). Let’s use another if statement to examine how\n",
    "to use the inequality operator. We’ll store a requested pizza topping in a\n",
    "variable and then print a message if the person did not order anchovies:"
   ]
  },
  {
   "cell_type": "code",
   "execution_count": 7,
   "id": "9cf17a1c",
   "metadata": {},
   "outputs": [
    {
     "name": "stdout",
     "output_type": "stream",
     "text": [
      "Hole the anchovies\n"
     ]
    }
   ],
   "source": [
    "requested_topping = 'mushrooms'\n",
    "if requested_topping != 'anchovies':\n",
    "    print(\"Hole the anchovies\")"
   ]
  },
  {
   "cell_type": "markdown",
   "id": "b22a0103",
   "metadata": {},
   "source": [
    "## This code compares the value of requested_topping to the value 'anchovies'. If these two values do not match, Python returns True and executes the code following the if statement. If the two values match,Python returns False and does not run the code following the if statement.Because the value of requested_topping is not 'anchovies', the print()function is executed: Hold the anchovies! Most of the conditional expressions you write will test for equality, but sometimes you’ll find it more efficient to test for inequality.\n"
   ]
  }
 ],
 "metadata": {
  "kernelspec": {
   "display_name": "Python 3",
   "language": "python",
   "name": "python3"
  },
  "language_info": {
   "codemirror_mode": {
    "name": "ipython",
    "version": 3
   },
   "file_extension": ".py",
   "mimetype": "text/x-python",
   "name": "python",
   "nbconvert_exporter": "python",
   "pygments_lexer": "ipython3",
   "version": "3.13.5"
  }
 },
 "nbformat": 4,
 "nbformat_minor": 5
}
