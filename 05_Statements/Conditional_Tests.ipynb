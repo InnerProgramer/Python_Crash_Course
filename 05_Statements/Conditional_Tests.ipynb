{
 "cells": [
  {
   "cell_type": "markdown",
   "id": "56efbf84",
   "metadata": {},
   "source": [
    "# **Conditional Tests**\n",
    "At the heart of every if statement is an expression that can be evaluated as\n",
    "True or False and is called a conditional test. Python uses the values True\n",
    "and False to decide whether the code in an if statement should be\n",
    "executed. If a conditional test evaluates to True, Python executes the code\n",
    "following the if statement. If the test evaluates to False, Python ignores\n",
    "the code following the if statement."
   ]
  },
  {
   "cell_type": "markdown",
   "id": "1a54d34c",
   "metadata": {},
   "source": [
    "## **Checking for Equality**\n",
    "Most conditional tests compare the current value of a variable to a specific\n",
    "value of interest. The simplest conditional test checks whether the value of\n",
    "a variable is equal to the value of interest:"
   ]
  },
  {
   "cell_type": "code",
   "execution_count": 18,
   "id": "3fba7b4c",
   "metadata": {},
   "outputs": [
    {
     "data": {
      "text/plain": [
       "True"
      ]
     },
     "execution_count": 18,
     "metadata": {},
     "output_type": "execute_result"
    }
   ],
   "source": [
    "# We use the euqality checker like this\n",
    "car = ['bmw'] \n",
    "car = 'bmw'\n",
    "car == 'bmw'  # Return True"
   ]
  },
  {
   "cell_type": "markdown",
   "id": "08373cb6",
   "metadata": {},
   "source": [
    "# 1.\n",
    "# The first line sets the value of car to 'bmw' using a single equal sign, as you’ve seen many times already. The next line checks whether the value of car is 'bmw' by using a double equal sign (==). This equality operator returns True if the values on the left and right side of the operator match, and False if they don’t match. The values in this example match, so Python returns True.\n",
    "\n",
    "# 2. \n",
    "# A single equal sign is really a statement; you might read the first line of code here as “Set the value of car equal to 'audi'.” On the other hand, a double equal sign asks a question: “Is the value of car equal to 'bmw'?” Most programming languages use equal signs in this way.\n"
   ]
  },
  {
   "cell_type": "markdown",
   "id": "787b9683",
   "metadata": {},
   "source": [
    "## **Ignoring Case When Checking for Equality**\n",
    "Testing for equality is case sensitive in Python. For example, two values\n",
    "with different capitalization are not considered equal:"
   ]
  },
  {
   "cell_type": "code",
   "execution_count": 19,
   "id": "0973213f",
   "metadata": {},
   "outputs": [
    {
     "data": {
      "text/plain": [
       "False"
      ]
     },
     "execution_count": 19,
     "metadata": {},
     "output_type": "execute_result"
    }
   ],
   "source": [
    "car = 'Audi'\n",
    "car == 'audi'"
   ]
  },
  {
   "cell_type": "markdown",
   "id": "1410dbba",
   "metadata": {},
   "source": [
    "## If case matters, this behavior is advantageous. But if case doesn’t matter and instead you just want to test the value of a variable, you can convert the variable’s value to lowercase before doing the comparison:\n"
   ]
  },
  {
   "cell_type": "code",
   "execution_count": 20,
   "id": "176333ab",
   "metadata": {},
   "outputs": [
    {
     "data": {
      "text/plain": [
       "True"
      ]
     },
     "execution_count": 20,
     "metadata": {},
     "output_type": "execute_result"
    }
   ],
   "source": [
    "car = 'Audi'\n",
    "car.lower() == 'audi'"
   ]
  },
  {
   "cell_type": "markdown",
   "id": "4fbfc731",
   "metadata": {},
   "source": [
    "This test will return True no matter how the value 'Audi' is formatted\n",
    "because the test is now case insensitive. The lower() method doesn’t\n",
    "change the value that was originally stored in car, so you can do this kind\n",
    "of comparison without affecting the original variable:"
   ]
  },
  {
   "cell_type": "code",
   "execution_count": null,
   "id": "4b1caa67",
   "metadata": {},
   "outputs": [
    {
     "data": {
      "text/plain": [
       "False"
      ]
     },
     "execution_count": 22,
     "metadata": {},
     "output_type": "execute_result"
    }
   ],
   "source": [
    "car = 'Audi'\n",
    "car.lower() == 'audi'"
   ]
  },
  {
   "cell_type": "markdown",
   "id": "d697472f",
   "metadata": {},
   "source": [
    "We first assign the capitalized string 'Audi' to the variable car. Then, we\n",
    "convert the value of car to lowercase and compare the lowercase value to\n",
    "the string 'audi'. The two strings match, so Python returns True. We can\n",
    "see that the value stored in car has not been affected by the lower()\n",
    "method.\n",
    "Websites enforce certain rules for the data that users enter in a manner\n",
    "similar to this. For example, a site might use a conditional test like this to\n",
    "ensure that every user has a truly unique username, not just a variation on\n",
    "the capitalization of another person’s username. When someone submits a\n",
    "new username, that new username is converted to lowercase and compared\n",
    "to the lowercase versions of all existing usernames. During this check, a\n",
    "username like 'John' will be rejected if any variation of 'john' is already\n",
    "in use."
   ]
  }
 ],
 "metadata": {
  "kernelspec": {
   "display_name": "Python 3",
   "language": "python",
   "name": "python3"
  },
  "language_info": {
   "codemirror_mode": {
    "name": "ipython",
    "version": 3
   },
   "file_extension": ".py",
   "mimetype": "text/x-python",
   "name": "python",
   "nbconvert_exporter": "python",
   "pygments_lexer": "ipython3",
   "version": "3.13.5"
  }
 },
 "nbformat": 4,
 "nbformat_minor": 5
}
