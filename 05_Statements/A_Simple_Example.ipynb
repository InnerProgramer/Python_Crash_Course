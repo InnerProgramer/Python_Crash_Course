{
 "cells": [
  {
   "cell_type": "markdown",
   "id": "12a97ab4",
   "metadata": {},
   "source": [
    "# **A Simple Example**\n",
    "The following example shows how if tests let you respond to special\n",
    "situations correctly. Imagine you have a list of cars and you want to print\n",
    "out the name of each car. Car names are proper names, so the names of\n",
    "most cars should be printed in title case. However, the value 'bmw' should\n",
    "be printed in all uppercase. The following code loops through a list of car\n",
    "names and looks for the value 'bmw'. Whenever the value is 'bmw', it’s\n",
    "printed in uppercase instead of title case:\n"
   ]
  },
  {
   "cell_type": "code",
   "execution_count": 4,
   "id": "1043b214",
   "metadata": {},
   "outputs": [
    {
     "name": "stdout",
     "output_type": "stream",
     "text": [
      "Audi\n",
      "BMW\n",
      "Subaru\n",
      "Toyota\n"
     ]
    }
   ],
   "source": [
    "cars = ['audi', 'bmw', 'subaru', 'toyota']\n",
    "\n",
    "for car in cars:\n",
    "    if car == 'bmw':\n",
    "        print(car.upper())\n",
    "    else:\n",
    "        print(car.title())"
   ]
  },
  {
   "cell_type": "markdown",
   "id": "5c68f621",
   "metadata": {},
   "source": [
    "The loop in this example first checks if the current value of car is 'bmw'.\n",
    "If it is, the value is printed in uppercase. If the value of car is anything\n",
    "other than 'bmw', it’s printed in title case:\n",
    "Audi\n",
    "BMW\n",
    "Subaru\n",
    "Toyota\n",
    "This example combines a number of the concepts you’ll learn about in this\n",
    "chapter. Let’s begin by looking at the kinds of tests you can use to examine\n",
    "the conditions in your program.\n"
   ]
  }
 ],
 "metadata": {
  "kernelspec": {
   "display_name": "Python 3",
   "language": "python",
   "name": "python3"
  },
  "language_info": {
   "codemirror_mode": {
    "name": "ipython",
    "version": 3
   },
   "file_extension": ".py",
   "mimetype": "text/x-python",
   "name": "python",
   "nbconvert_exporter": "python",
   "pygments_lexer": "ipython3",
   "version": "3.13.5"
  }
 },
 "nbformat": 4,
 "nbformat_minor": 5
}
