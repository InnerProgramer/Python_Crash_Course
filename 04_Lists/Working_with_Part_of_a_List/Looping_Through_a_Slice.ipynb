{
 "cells": [
  {
   "cell_type": "markdown",
   "id": "917aed2d",
   "metadata": {},
   "source": [
    "# **Looping Through a Slice**\n",
    "You can use a slice in a for loop if you want to loop through a subset of the\n",
    "elements in a list. In the next example, we loop through the first three\n",
    "players and print their names as part of a simple roster:"
   ]
  },
  {
   "cell_type": "code",
   "execution_count": 5,
   "id": "cf17507b",
   "metadata": {},
   "outputs": [
    {
     "name": "stdout",
     "output_type": "stream",
     "text": [
      "Here are the first three players on my team:\n",
      "Charles\n",
      "Martina\n",
      "Michael\n"
     ]
    }
   ],
   "source": [
    "players = ['charles', 'martina', 'michael', 'florence','eli']\n",
    "\n",
    "print(\"Here are the first three players on my team:\")\n",
    "for team in players[:3]:\n",
    "    print(team.title())\n",
    "    \n",
    "    # Instead of looping through the entire list of players, Python loops through only the first three names\n",
    "\n"
   ]
  }
 ],
 "metadata": {
  "kernelspec": {
   "display_name": "Python 3",
   "language": "python",
   "name": "python3"
  },
  "language_info": {
   "codemirror_mode": {
    "name": "ipython",
    "version": 3
   },
   "file_extension": ".py",
   "mimetype": "text/x-python",
   "name": "python",
   "nbconvert_exporter": "python",
   "pygments_lexer": "ipython3",
   "version": "3.13.5"
  }
 },
 "nbformat": 4,
 "nbformat_minor": 5
}
