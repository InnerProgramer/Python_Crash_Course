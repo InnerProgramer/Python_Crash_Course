{
 "cells": [
  {
   "cell_type": "markdown",
   "id": "b2378b18",
   "metadata": {},
   "source": [
    "# **Slicing a List**\n",
    "To make a slice, you specify the index of the first and last elements you\n",
    "want to work with. As with the range() function, Python stops one item\n",
    "before the second index you specify. To output the first three elements in a\n",
    "list, you would request indices 0 through 3, which would return elements 0,\n",
    "1, and 2.\n"
   ]
  },
  {
   "cell_type": "code",
   "execution_count": 7,
   "id": "8a413c11",
   "metadata": {},
   "outputs": [
    {
     "name": "stdout",
     "output_type": "stream",
     "text": [
      "['charles', 'martian', 'michael']\n",
      "['martian', 'michael', 'florence']\n"
     ]
    }
   ],
   "source": [
    "# The following example involves a list of players on a team:\n",
    "players = ['charles','martian','michael','florence','eli']\n",
    "print(players[0:3])\n",
    "\n",
    "# This code prints a slice of the list. The output retains the structure of the list, and includes the first three players in the list: ['charles', 'martina', 'michael']\n",
    "\n",
    "# You can generate any subset of a list. For example, if you want the second, third, and fourth items in a list, you would start the slice at index 1 and end it at index 4:\n",
    "\n",
    "players = ['charles','martian','michael','florence','eli']\n",
    "print(players[1:4])\n",
    "# This time the slice starts with 'martina' and ends with 'florence':\n",
    "# ['martina', 'michael', 'florence']"
   ]
  },
  {
   "cell_type": "markdown",
   "id": "1d0a045a",
   "metadata": {},
   "source": [
    "If you omit the first index in a slice, Python automatically starts your slice\n",
    "at the beginning of the list:\n"
   ]
  },
  {
   "cell_type": "code",
   "execution_count": 8,
   "id": "1f1d1ed8",
   "metadata": {},
   "outputs": [
    {
     "name": "stdout",
     "output_type": "stream",
     "text": [
      "['charles', 'martian', 'michael', 'florence']\n",
      "['michael', 'florence', 'eli']\n"
     ]
    }
   ],
   "source": [
    "players = ['charles','martian','michael','florence','eli']\n",
    "print(players[:4]) \n",
    "# Without a starting index, Python starts at the beginning of the list:\n",
    "# ['charles', 'martina', 'michael', 'florence']\n",
    "\n",
    "# A similar syntax works if you want a slice that includes the end of a list. For example, if you want all items from the third item through the last item, you can start with index 2 and omit the second index:\n",
    "\n",
    "players = ['charles','martian','michael','florence','eli']\n",
    "print(players[2:]) \n",
    "# Python returns all items from the third item through the end of the list:\n",
    "# ['michael', 'florence', 'eli']"
   ]
  },
  {
   "cell_type": "markdown",
   "id": "affd761e",
   "metadata": {},
   "source": [
    "This syntax allows you to output all of the elements from any point in your\n",
    "list to the end, regardless of the length of the list. Recall that a negative\n",
    "index returns an element a certain distance from the end of a list; therefore,\n",
    "you can output any slice from the end of a list. For example, if we want to\n",
    "output the last three players on the roster, we can use the slice\n",
    "players[-3:]:\n"
   ]
  },
  {
   "cell_type": "code",
   "execution_count": 9,
   "id": "3125cf95",
   "metadata": {},
   "outputs": [
    {
     "name": "stdout",
     "output_type": "stream",
     "text": [
      "['michael', 'florence', 'eli']\n"
     ]
    }
   ],
   "source": [
    "players = ['charles','martian','michael','florence','eli']\n",
    "print(players[-3:])"
   ]
  },
  {
   "cell_type": "markdown",
   "id": "b42118ef",
   "metadata": {},
   "source": [
    "This prints the names of the last three players and will continue to work as\n",
    "the list of players changes in size."
   ]
  }
 ],
 "metadata": {
  "kernelspec": {
   "display_name": "Python 3",
   "language": "python",
   "name": "python3"
  },
  "language_info": {
   "codemirror_mode": {
    "name": "ipython",
    "version": 3
   },
   "file_extension": ".py",
   "mimetype": "text/x-python",
   "name": "python",
   "nbconvert_exporter": "python",
   "pygments_lexer": "ipython3",
   "version": "3.13.5"
  }
 },
 "nbformat": 4,
 "nbformat_minor": 5
}
