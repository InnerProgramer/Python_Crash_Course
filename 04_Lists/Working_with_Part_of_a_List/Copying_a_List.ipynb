{
 "cells": [
  {
   "cell_type": "markdown",
   "id": "8e438748",
   "metadata": {},
   "source": [
    "# **Copying a List**\n",
    "Often, you’ll want to start with an existing list and make an entirely new list\n",
    "based on the first one. Let’s explore how copying a list works and examine\n",
    "one situation in which copying a list is useful.\n",
    "To copy a list, you can make a slice that includes the entire original list by\n",
    "omitting the first index and the second index ([:]). This tells Python to\n",
    "make a slice that starts at the first item and ends with the last item,\n",
    "producing a copy of the entire list.\n",
    "For example, imagine we have a list of our favorite foods and want to make\n",
    "a separate list of foods that a friend likes. This friend likes everything in our\n",
    "list so far, so we can create their list by copying ours:\n"
   ]
  },
  {
   "cell_type": "code",
   "execution_count": null,
   "id": "b950581d",
   "metadata": {},
   "outputs": [
    {
     "name": "stdout",
     "output_type": "stream",
     "text": [
      "My favorite foods are:\n",
      "['pizza', 'falafel', 'carrot cake']\n",
      "\n",
      "My friend's favorite foods are:\n",
      "['pizza', 'falafel', 'carrot cake']\n"
     ]
    }
   ],
   "source": [
    "my_foods = ['pizza', 'falafel', 'carrot cake']\n",
    "friend_foods = my_foods[:]\n",
    "\n",
    "print(\"My favorite foods are:\")\n",
    "print(my_foods)\n",
    "\n",
    "print(\"\\nMy friend's favorite foods are:\")\n",
    "print(friend_foods)\n",
    "\n",
    "\n",
    "# First, we make a list of the foods we like called my_foods. Then we make a\n",
    "# new list called friend_foods. We make a copy of my_foods by asking for a\n",
    "# slice of my_foods without specifying any indices ❶, and assign the copy to\n",
    "# friend_foods. When we print each list, we see that they both contain the\n",
    "# same foods:"
   ]
  },
  {
   "cell_type": "markdown",
   "id": "1fc3c026",
   "metadata": {},
   "source": [
    "To prove that we actually have two separate lists, we’ll add a new food to\n",
    "each list and show that each list keeps track of the appropriate person’s\n",
    "favorite foods:"
   ]
  },
  {
   "cell_type": "code",
   "execution_count": 4,
   "id": "71eb472b",
   "metadata": {},
   "outputs": [
    {
     "name": "stdout",
     "output_type": "stream",
     "text": [
      "My favorite foods are:\n",
      "['pizza', 'falafel', 'carrot cake']\n",
      "\n",
      "My frined's facorite foods are:\n",
      "['pizza', 'falafel', 'carrot cake', 'ice cream']\n"
     ]
    }
   ],
   "source": [
    "my_foods = ['pizza', 'falafel', 'carrot cake']\n",
    "friend_foods = my_foods[:]\n",
    "friend_foods.append('ice cream')\n",
    "\n",
    "print(\"My favorite foods are:\")\n",
    "print(my_foods)\n",
    "\n",
    "print(\"\\nMy frined's facorite foods are:\")\n",
    "print(friend_foods)"
   ]
  },
  {
   "cell_type": "code",
   "execution_count": null,
   "id": "dab0500e",
   "metadata": {},
   "outputs": [
    {
     "name": "stdout",
     "output_type": "stream",
     "text": [
      "My favorite foods are:\n",
      "['pizza', 'falafel', 'carrot cake', 'cannoli']\n",
      "\n",
      "My frined's facorite foods are:\n",
      "['pizza', 'falafel', 'carrot cake', 'ice cream']\n"
     ]
    }
   ],
   "source": [
    "my_foods = ['pizza', 'falafel', 'carrot cake']\n",
    "friend_foods = my_foods[:]\n",
    "friend_foods.append('ice cream')\n",
    "my_foods.append('cannoli')\n",
    "\n",
    "print(\"My favorite foods are:\")\n",
    "print(my_foods)\n",
    "\n",
    "print(\"\\nMy frined's facorite foods are:\")\n",
    "print(friend_foods)\n",
    "\n",
    "\n",
    "# We copy the original items in my_foods to the new list friend_foods, as we\n",
    "# did in the previous example Next, we add a new food to each list: we\n",
    "# add 'cannoli' to my_foods and we add 'ice cream' to friend_foods\n",
    "# We then print the two lists to see whether each of these foods is in the\n",
    "# appropriate list:\n"
   ]
  },
  {
   "cell_type": "markdown",
   "id": "4eb36b47",
   "metadata": {},
   "source": [
    "The output shows that 'cannoli' now appears in our list of favorite foods\n",
    "but 'ice cream' does not. We can see that 'ice cream' now appears in\n",
    "our friend’s list but 'cannoli' does not. If we had simply set friend_foods\n",
    "equal to my_foods, we would not produce two separate lists. For example,\n",
    "here’s what happens when you try to copy a list without using a slice:"
   ]
  },
  {
   "cell_type": "code",
   "execution_count": null,
   "id": "4e6b8bdb",
   "metadata": {},
   "outputs": [
    {
     "name": "stdout",
     "output_type": "stream",
     "text": [
      "My favorite foods are:\n",
      "['pizza', 'falafel', 'carrot cake', 'cannoli', 'ice cream']\n",
      "\n",
      "My friend's favorite foods are:\n",
      "['pizza', 'falafel', 'carrot cake', 'cannoli', 'ice cream']\n"
     ]
    }
   ],
   "source": [
    "my_foods = ['pizza', 'falafel', 'carrot cake']\n",
    "\n",
    "# This doesn't work:\n",
    "friend_foods = my_foods\n",
    "\n",
    "my_foods.append('cannoli')\n",
    "friend_foods.append('ice cream')\n",
    "\n",
    "print(\"My favorite foods are:\")\n",
    "print(my_foods)\n",
    "\n",
    "print(\"\\nMy friend's favorite foods are:\")\n",
    "print(friend_foods)\n"
   ]
  },
  {
   "cell_type": "markdown",
   "id": "1f405bc9",
   "metadata": {},
   "source": [
    "We can do it like this by using slicing method"
   ]
  },
  {
   "cell_type": "code",
   "execution_count": 2,
   "id": "219920e2",
   "metadata": {},
   "outputs": [
    {
     "name": "stdout",
     "output_type": "stream",
     "text": [
      "My favorite foods are:\n",
      "['pizza', 'falafel', 'carrot cake', 'cannoli']\n",
      "\n",
      "My friend's favorite foods are:\n",
      "['pizza', 'falafel', 'carrot cake', 'ice cream']\n"
     ]
    }
   ],
   "source": [
    "my_foods = ['pizza', 'falafel', 'carrot cake']\n",
    "\n",
    "# This doesn't work:\n",
    "friend_foods = my_foods[:3]\n",
    "\n",
    "my_foods.append('cannoli')\n",
    "friend_foods.append('ice cream')\n",
    "\n",
    "print(\"My favorite foods are:\")\n",
    "print(my_foods)\n",
    "\n",
    "print(\"\\nMy friend's favorite foods are:\")\n",
    "print(friend_foods)\n"
   ]
  }
 ],
 "metadata": {
  "kernelspec": {
   "display_name": "Python 3",
   "language": "python",
   "name": "python3"
  },
  "language_info": {
   "codemirror_mode": {
    "name": "ipython",
    "version": 3
   },
   "file_extension": ".py",
   "mimetype": "text/x-python",
   "name": "python",
   "nbconvert_exporter": "python",
   "pygments_lexer": "ipython3",
   "version": "3.13.5"
  }
 },
 "nbformat": 4,
 "nbformat_minor": 5
}
