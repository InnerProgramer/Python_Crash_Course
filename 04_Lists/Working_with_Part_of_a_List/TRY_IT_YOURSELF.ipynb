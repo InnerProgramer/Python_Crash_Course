{
 "cells": [
  {
   "cell_type": "markdown",
   "id": "9fbe9d32",
   "metadata": {},
   "source": [
    "# **TRY IT YOURSELF**"
   ]
  },
  {
   "cell_type": "markdown",
   "id": "e5e0c72f",
   "metadata": {},
   "source": [
    "# 1. Slices: \n",
    "Using one of the programs you wrote in this chapter, add several lines to\n",
    "the end of the program that do the following:\n",
    "Print the message The first three items in the list are:. Then use a slice to print the first\n",
    "three items from that program’s list.\n",
    "Print the message Three items from the middle of the list are:. Then use a slice to print\n",
    "three items from the middle of the list.\n",
    "Print the message The last three items in the list are:. Then use a slice to print the last\n",
    "three items in the list.\n"
   ]
  },
  {
   "cell_type": "code",
   "execution_count": 9,
   "id": "555920be",
   "metadata": {},
   "outputs": [
    {
     "name": "stdout",
     "output_type": "stream",
     "text": [
      "First Two item of the list: \n",
      "['apple', 'banana']\n",
      "\n",
      "Second Two item of the list: \n",
      "['cherry', 'date']\n",
      "\n",
      "Third Two item of the list: \n",
      "['fig', 'grape']\n"
     ]
    }
   ],
   "source": [
    "my_list = ['apple', 'banana', 'cherry', 'date', 'fig', 'grape']\n",
    "\n",
    "print(\"First Two item of the list: \")\n",
    "print(my_list[0:2])\n",
    "\n",
    "print(\"\\nSecond Two item of the list: \")\n",
    "print(my_list[2:4])\n",
    "\n",
    "print(\"\\nThird Two item of the list: \")\n",
    "print(my_list[4:])"
   ]
  },
  {
   "cell_type": "markdown",
   "id": "94f45f91",
   "metadata": {},
   "source": [
    "# 2 .My Pizzas, Your Pizzas:\n",
    "Start with your program from Exercise 4-1 (page 56).\n",
    "Make a copy of the list of pizzas, and call it friend_pizzas. Then, do the following:\n",
    "Add a new pizza to the original list.\n",
    "Add a different pizza to the list friend_pizzas.\n",
    "Prove that you have two separate lists. Print the message My favorite pizzas are:, and\n",
    "then use a for loop to print the first list. Print the message My friend’s favorite pizzas\n",
    "are:, and then use a for loop to print the second list. Make sure each new pizza is\n",
    "stored in the appropriate list.\n"
   ]
  },
  {
   "cell_type": "code",
   "execution_count": 14,
   "id": "0b8637b4",
   "metadata": {},
   "outputs": [
    {
     "name": "stdout",
     "output_type": "stream",
     "text": [
      "I Love these pizzas: \n",
      "['Pepperoni', 'bbq chicken pizza', 'Sicilian pizza', 'New York style pizza']\n",
      "\n",
      "My friend love these pizzas: \n",
      "['Pepperoni', 'bbq chicken pizza', 'Sicilian pizza', 'Neapolitan pizza']\n"
     ]
    }
   ],
   "source": [
    "my_pizzas = ['Pepperoni', 'bbq chicken pizza', 'Sicilian pizza']\n",
    "my_friend = my_pizzas[:4]\n",
    "my_pizzas.append('New York style pizza')\n",
    "my_friend.append('Neapolitan pizza')\n",
    "\n",
    "print(\"I Love these pizzas: \")\n",
    "print(my_pizzas)\n",
    "\n",
    "\n",
    "print(\"\\nMy friend love these pizzas: \")\n",
    "print(my_friend)"
   ]
  },
  {
   "cell_type": "markdown",
   "id": "52e695d5",
   "metadata": {},
   "source": [
    "# 3. More Loops:\n",
    "All versions of foods.py in this section have avoided using for\n",
    "loops when printing, to save space. Choose a version of foods.py, and write two for\n",
    "loops to print each list of foods."
   ]
  },
  {
   "cell_type": "code",
   "execution_count": null,
   "id": "adabf0c8",
   "metadata": {},
   "outputs": [
    {
     "name": "stdout",
     "output_type": "stream",
     "text": [
      "I Love these pizzas: \n",
      "Pepperoni\n",
      "bbq chicken pizza\n",
      "Sicilian pizza\n",
      "New York style pizza\n",
      "\n",
      "My friend love these pizzas: \n",
      "Pepperoni\n",
      "bbq chicken pizza\n",
      "Sicilian pizza\n",
      "Neapolitan pizza\n"
     ]
    }
   ],
   "source": [
    "my_pizzas = ['Pepperoni', 'bbq chicken pizza', 'Sicilian pizza']\n",
    "my_friend = my_pizzas[:4]\n",
    "my_pizzas.append('New York style pizza')\n",
    "my_friend.append('Neapolitan pizza')\n",
    "\n",
    "print(\"I Love these pizzas: \")\n",
    "for mp in my_pizzas:\n",
    "    print(mp)\n",
    "\n",
    "\n",
    "print(\"\\nMy friend love these pizzas: \")\n",
    "for mf in my_friend:\n",
    "    print(mf)"
   ]
  }
 ],
 "metadata": {
  "kernelspec": {
   "display_name": "Python 3",
   "language": "python",
   "name": "python3"
  },
  "language_info": {
   "codemirror_mode": {
    "name": "ipython",
    "version": 3
   },
   "file_extension": ".py",
   "mimetype": "text/x-python",
   "name": "python",
   "nbconvert_exporter": "python",
   "pygments_lexer": "ipython3",
   "version": "3.13.5"
  }
 },
 "nbformat": 4,
 "nbformat_minor": 5
}
