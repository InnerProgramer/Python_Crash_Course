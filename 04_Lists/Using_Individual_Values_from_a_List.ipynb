{
 "cells": [
  {
   "cell_type": "markdown",
   "id": "d06bc0fb",
   "metadata": {},
   "source": [
    "# **Using Individual Values from a List**\n",
    "You can use individual values from a list just as you would any other\n",
    "variable. For example, you can use f-strings to create a message based on a\n",
    "value from a list.\n"
   ]
  },
  {
   "cell_type": "code",
   "execution_count": 6,
   "id": "f928f8fb",
   "metadata": {},
   "outputs": [
    {
     "name": "stdout",
     "output_type": "stream",
     "text": [
      "My first bicycle was a Specialized.\n"
     ]
    }
   ],
   "source": [
    "# Let’s try pulling the first bicycle from the list and composing a message using that value:\n",
    "bicycles = ['trek', 'cannondale', 'redline', 'specialized']\n",
    "message = (f\"My first bicycle was a {bicycles[-1].title()}.\")\n",
    "print(message)"
   ]
  },
  {
   "cell_type": "markdown",
   "id": "7d2b42f2",
   "metadata": {},
   "source": [
    "We build a sentence using the value at bicycles[0] and assign it to the\n",
    "variable message. The output is a simple sentence about the first bicycle in\n",
    "the list: My first bicycle was a Specialized."
   ]
  }
 ],
 "metadata": {
  "kernelspec": {
   "display_name": "Python 3",
   "language": "python",
   "name": "python3"
  },
  "language_info": {
   "codemirror_mode": {
    "name": "ipython",
    "version": 3
   },
   "file_extension": ".py",
   "mimetype": "text/x-python",
   "name": "python",
   "nbconvert_exporter": "python",
   "pygments_lexer": "ipython3",
   "version": "3.13.5"
  }
 },
 "nbformat": 4,
 "nbformat_minor": 5
}
