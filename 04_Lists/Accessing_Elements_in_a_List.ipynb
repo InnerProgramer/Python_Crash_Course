{
 "cells": [
  {
   "cell_type": "markdown",
   "id": "e964b127",
   "metadata": {},
   "source": [
    "# **Accessing Elements in a List**\n",
    " Lists are ordered collections, so you can access any element in a list by\n",
    "telling Python the position, or index, of the item desired. To access an\n",
    "element in a list, write the name of the list followed by the index of the item\n",
    "enclosed in square brackets.\n",
    " If you ask Python to print a list, Python returns its representation of the list, including the square brackets: ['trek', 'cannondale', 'redline', 'specialized'] Because this isn’t the output you want your users to see, let’s learn how to access the individual items in a list. \n"
   ]
  },
  {
   "cell_type": "code",
   "execution_count": 2,
   "id": "2befec34",
   "metadata": {},
   "outputs": [
    {
     "name": "stdout",
     "output_type": "stream",
     "text": [
      "trek\n"
     ]
    }
   ],
   "source": [
    "# For example, let’s pull out the first bicycle in the list bicycles:\n",
    "bicycles = ['trek', 'cannondale', 'redline', 'specialized']\n",
    "print(bicycles[0]) # print's 'trek' \n",
    "\n",
    "# When we ask for a single item from a list, Python returns just that element  without square brackets: 'trek'\n"
   ]
  },
  {
   "cell_type": "markdown",
   "id": "aaa802dd",
   "metadata": {},
   "source": [
    "##### This is the result you want your users to see: clean, neatly formatted output. You can also use the string methods from Chapter 2 on any element in this list. For example, you can format the element 'trek' to look more presentable by using the title() method:"
   ]
  },
  {
   "cell_type": "code",
   "execution_count": 4,
   "id": "0bfa993e",
   "metadata": {},
   "outputs": [
    {
     "name": "stdout",
     "output_type": "stream",
     "text": [
      "Trek\n"
     ]
    }
   ],
   "source": [
    "bicycles = ['trek', 'cannondale', 'redline', 'specialized']\n",
    "print(bicycles[0].title())                                    #This example produces the same output as the preceding example, except 'Trek' is capitalized"
   ]
  }
 ],
 "metadata": {
  "kernelspec": {
   "display_name": "Python 3",
   "language": "python",
   "name": "python3"
  },
  "language_info": {
   "codemirror_mode": {
    "name": "ipython",
    "version": 3
   },
   "file_extension": ".py",
   "mimetype": "text/x-python",
   "name": "python",
   "nbconvert_exporter": "python",
   "pygments_lexer": "ipython3",
   "version": "3.13.5"
  }
 },
 "nbformat": 4,
 "nbformat_minor": 5
}
