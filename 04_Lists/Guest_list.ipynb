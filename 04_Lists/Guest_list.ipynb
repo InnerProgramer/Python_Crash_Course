{
 "cells": [
  {
   "cell_type": "markdown",
   "id": "830a5082",
   "metadata": {},
   "source": [
    "# **Guest List**\n",
    "If you could invite anyone, living or deceased, to dinner, who would\n",
    "you invite? Make a list that includes at least three people you’d like to invite to dinner.\n",
    "Then use your list to print a message to each person, inviting them to dinner."
   ]
  },
  {
   "cell_type": "code",
   "execution_count": null,
   "id": "b5d9c148",
   "metadata": {},
   "outputs": [
    {
     "name": "stdout",
     "output_type": "stream",
     "text": [
      "Dear Elon Musk I’d be honored to have you at dinner!\n",
      "Dear Xi Jinping I’d be honored to have you at dinner!\n",
      "Dear Cristiano Ronaldo I’d be honored to have you at dinner!\n",
      "\n",
      "Unfortunately, Xi Jinping can’t make it to dinner.\n",
      "\n",
      "Dear Elon Musk I’d be honored to have you at dinner!\n",
      "Dear Jeff Bezos I’d be honored to have you at dinner!\n",
      "Dear Cristiano Ronaldo I’d be honored to have you at dinner!\n"
     ]
    }
   ],
   "source": [
    "# Here's how to solve this question :\n",
    "\n",
    "guest_list = ['Elon Musk' , 'Xi Jinping' , 'Cristiano Ronaldo']\n",
    "\n",
    "print(f\"Dear {guest_list[0].title()} I’d be honored to have you at dinner!\")\n",
    "print(f\"Dear {guest_list[1].title()} I’d be honored to have you at dinner!\")\n",
    "print(f\"Dear {guest_list[2].title()} I’d be honored to have you at dinner!\\n\")\n",
    "\n",
    "\n",
    "# Changing Guest List: You just heard that one of your guests can’t make the dinner, so you need to send out a new set of invitations. You’ll have to think of someone else to invite. Start with your program from Exercise 3-4. Add a print() call at the end of your program, stating the name of the guest who can’t make it. Modify your list, replacing the name of the guest who can’t make it with the name of the new person you are inviting. Print a second set of invitation messages, one for each person who is still in your list.\n",
    "\n",
    "\n",
    "print(\"Unfortunately, Xi Jinping can’t make it to dinner.\")\n",
    "\n",
    "guest_list[1] = 'Jeff Bezos'\n",
    "\n",
    "print(f\"\\nDear {guest_list[0].title()} I’d be honored to have you at dinner!\")\n",
    "print(f\"Dear {guest_list[1].title()} I’d be honored to have you at dinner!\")\n",
    "print(f\"Dear {guest_list[2].title()} I’d be honored to have you at dinner!\")\n"
   ]
  }
 ],
 "metadata": {
  "kernelspec": {
   "display_name": "Python 3",
   "language": "python",
   "name": "python3"
  },
  "language_info": {
   "codemirror_mode": {
    "name": "ipython",
    "version": 3
   },
   "file_extension": ".py",
   "mimetype": "text/x-python",
   "name": "python",
   "nbconvert_exporter": "python",
   "pygments_lexer": "ipython3",
   "version": "3.13.5"
  }
 },
 "nbformat": 4,
 "nbformat_minor": 5
}
