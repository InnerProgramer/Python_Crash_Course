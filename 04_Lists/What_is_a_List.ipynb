{
 "cells": [
  {
   "cell_type": "markdown",
   "id": "286cb9da",
   "metadata": {},
   "source": [
    "# **What is a List**\n",
    "A list is a collection of items in a particular order. You can make a list that\n",
    "includes the letters of the alphabet, the digits from 0 to 9, or the names of\n",
    "all the people in your family. You can put anything you want into a list, and\n",
    "the items in your list don’t have to be related in any particular way. Because\n",
    "a list usually contains more than one element, it’s a good idea to make the\n",
    "name of your list plural, such as letters, digits, or names.\n",
    "In Python, square brackets ([]) indicate a list, and individual elements in\n",
    "the list are separated by commas. Here’s a simple example of a list that contains a few kinds of bicycles:\n",
    "\n"
   ]
  },
  {
   "cell_type": "code",
   "execution_count": 2,
   "id": "299e5bb6",
   "metadata": {},
   "outputs": [
    {
     "name": "stdout",
     "output_type": "stream",
     "text": [
      "['trek', 'cannondale', 'redline', 'specialized']\n"
     ]
    }
   ],
   "source": [
    "bicycles = ['trek', 'cannondale', 'redline', 'specialized']\n",
    "print(bicycles)"
   ]
  }
 ],
 "metadata": {
  "kernelspec": {
   "display_name": "Python 3",
   "language": "python",
   "name": "python3"
  },
  "language_info": {
   "codemirror_mode": {
    "name": "ipython",
    "version": 3
   },
   "file_extension": ".py",
   "mimetype": "text/x-python",
   "name": "python",
   "nbconvert_exporter": "python",
   "pygments_lexer": "ipython3",
   "version": "3.13.5"
  }
 },
 "nbformat": 4,
 "nbformat_minor": 5
}
