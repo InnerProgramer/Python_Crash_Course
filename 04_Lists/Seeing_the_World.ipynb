{
 "cells": [
  {
   "cell_type": "markdown",
   "id": "1d8ece37",
   "metadata": {},
   "source": [
    "# **Seeing the World**\n",
    "Think of at least five places in the world you’d like to visit.\n",
    "Store the locations in a list. Make sure the list is not in alphabetical order.\n",
    "Print your list in its original order. Don’t worry about printing the list neatly; just print it\n",
    "as a raw Python list.\n",
    "Use sorted() to print your list in alphabetical order without modifying the actual list.\n",
    "Show that your list is still in its original order by printing it.\n",
    "Use sorted() to print your list in reverse-alphabetical order without changing the order\n",
    "of the original list.\n",
    "Show that your list is still in its original order by printing it again.\n",
    "Use reverse() to change the order of your list. Print the list to show that its order has\n",
    "changed.\n",
    "Use reverse() to change the order of your list again. Print the list to show it’s back to its\n",
    "original order.\n",
    "Use sort() to change your list so it’s stored in alphabetical order. Print the list to show\n",
    "that its order has been changed.\n",
    "Use sort() to change your list so it’s stored in reverse-alphabetical order. Print the list\n",
    "to show that its order has changed."
   ]
  },
  {
   "cell_type": "code",
   "execution_count": 51,
   "id": "4832047a",
   "metadata": {},
   "outputs": [
    {
     "name": "stdout",
     "output_type": "stream",
     "text": [
      "['Paris', 'London', 'Tokyo', 'Denmark', 'Florida']\n",
      "\n",
      "List after using the sorted method\n",
      "['Denmark', 'Florida', 'London', 'Paris', 'Tokyo']\n",
      "\n",
      "This is the original list and it is still the same\n",
      "['Paris', 'London', 'Tokyo', 'Denmark', 'Florida']\n",
      "\n",
      "List after using the sorted method in reverse order\n",
      "['Tokyo', 'Paris', 'London', 'Florida', 'Denmark']\n",
      "\n",
      "This is the original list and it is still the same\n",
      "['Paris', 'London', 'Tokyo', 'Denmark', 'Florida']\n",
      "\n",
      "List after using the reverse method\n",
      "['Florida', 'Denmark', 'Tokyo', 'London', 'Paris']\n",
      "\n",
      "List after using the reverse method again\n",
      "['Paris', 'London', 'Tokyo', 'Denmark', 'Florida']\n",
      "\n",
      "This is the list after using the sort method (permanent alphabetical order)\n",
      "['Denmark', 'Florida', 'London', 'Paris', 'Tokyo']\n",
      "\n",
      "This is the list after using the reverse method permanently\n",
      "['Tokyo', 'Paris', 'London', 'Florida', 'Denmark']\n"
     ]
    }
   ],
   "source": [
    "Five_places = ['Paris', 'London', 'Tokyo', 'Denmark', 'Florida']\n",
    "print(Five_places)\n",
    "\n",
    "# Printing list in alphabetical order without modifying the actual list.\n",
    "print(\"\\nList after using the sorted method\")\n",
    "print(sorted(Five_places))\n",
    "\n",
    "# Printing the list to show that the original list is not changed.\n",
    "print(\"\\nThis is the original list and it is still the same\")\n",
    "print(Five_places)\n",
    "\n",
    "# Printing list in reverse-alphabetical order without changing the original list.\n",
    "print(\"\\nList after using the sorted method in reverse order\")\n",
    "print(sorted(Five_places, reverse=True))\n",
    "\n",
    "# Printing the list to show that the original list is not changed.\n",
    "print(\"\\nThis is the original list and it is still the same\")\n",
    "print(Five_places)\n",
    "\n",
    "# Printing list as it flips backward (the last place becomes first, and the first becomes last).\n",
    "print(\"\\nList after using the reverse method\")\n",
    "Five_places.reverse()\n",
    "print(Five_places)\n",
    "\n",
    "# Printing reverse method again so it becomes as it was in the first place.\n",
    "print(\"\\nList after using the reverse method again\")\n",
    "Five_places.reverse()\n",
    "print(Five_places)\n",
    "\n",
    "# Using sort() method to sort the list permanently in alphabetical order.\n",
    "print(\"\\nThis is the list after using the sort method (permanent alphabetical order)\")\n",
    "Five_places.sort()\n",
    "print(Five_places)\n",
    "\n",
    "# Using reverse() to reverse the list permanently.\n",
    "print(\"\\nThis is the list after using the reverse method permanently\")\n",
    "Five_places.sort(reverse=True)\n",
    "print(Five_places)\n",
    "\n"
   ]
  }
 ],
 "metadata": {
  "kernelspec": {
   "display_name": "Python 3",
   "language": "python",
   "name": "python3"
  },
  "language_info": {
   "codemirror_mode": {
    "name": "ipython",
    "version": 3
   },
   "file_extension": ".py",
   "mimetype": "text/x-python",
   "name": "python",
   "nbconvert_exporter": "python",
   "pygments_lexer": "ipython3",
   "version": "3.13.5"
  }
 },
 "nbformat": 4,
 "nbformat_minor": 5
}
