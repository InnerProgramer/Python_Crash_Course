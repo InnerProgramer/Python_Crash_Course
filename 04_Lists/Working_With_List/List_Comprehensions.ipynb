{
 "cells": [
  {
   "cell_type": "markdown",
   "id": "eae7ec70",
   "metadata": {},
   "source": [
    "# **List Comprehensions**\n",
    "The approach described earlier for generating the list squares consisted of\n",
    "using three or four lines of code. A list comprehension allows you to\n",
    "generate this same list in just one line of code. A list comprehension\n",
    "combines the for loop and the creation of new elements into one line, and\n",
    "automatically appends each new element. List comprehensions are not\n",
    "always presented to beginners, but I’ve included them here because you’ll\n",
    "most likely see them as soon as you start looking at other people’s code."
   ]
  },
  {
   "cell_type": "code",
   "execution_count": null,
   "id": "4cbbb6cb",
   "metadata": {},
   "outputs": [
    {
     "name": "stdout",
     "output_type": "stream",
     "text": [
      "[1, 4, 9, 16, 25, 36, 49, 64, 81, 100]\n"
     ]
    }
   ],
   "source": [
    "# The following example builds the same list of square numbers you saw earlier but uses a list comprehension:\n",
    "squares = [value **2 for value in range(1,11)]\n",
    "print(squares)\n",
    "\n",
    "\n",
    "# To use this syntax, begin with a descriptive name for the list, such as\n",
    "# squares. Next, open a set of square brackets and define the expression for\n",
    "# the values you want to store in the new list. In this example the expression\n",
    "# is value**2, which raises the value to the second power. Then, write a for\n",
    "# loop to generate the numbers you want to feed into the expression, and\n",
    "# close the square brackets. The for loop in this example is for value in\n",
    "# range(1, 11), which feeds the values 1 through 10 into the expression\n",
    "# value**2. Note that no colon is used at the end of the for statement.\n"
   ]
  }
 ],
 "metadata": {
  "kernelspec": {
   "display_name": "Python 3",
   "language": "python",
   "name": "python3"
  },
  "language_info": {
   "codemirror_mode": {
    "name": "ipython",
    "version": 3
   },
   "file_extension": ".py",
   "mimetype": "text/x-python",
   "name": "python",
   "nbconvert_exporter": "python",
   "pygments_lexer": "ipython3",
   "version": "3.13.5"
  }
 },
 "nbformat": 4,
 "nbformat_minor": 5
}
