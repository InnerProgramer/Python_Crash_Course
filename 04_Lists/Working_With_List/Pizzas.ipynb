{
 "cells": [
  {
   "cell_type": "markdown",
   "id": "68a29a66",
   "metadata": {},
   "source": [
    "# **TRY IT YOURSELF**\n"
   ]
  },
  {
   "cell_type": "markdown",
   "id": "c26be58b",
   "metadata": {},
   "source": [
    "## **Pizzas:**\n",
    "### Think of at least three kinds of your favorite pizza. Store these pizza names in a list, and then use a for loop to print the name of each pizza. Modify your for loop to print a sentence using the name of the pizza, instead of printing just the name of the pizza. For each pizza, you should have one line of output containing a simple statement like I like pepperoni pizza. Add a line at the end of your program, outside the for loop, that states how much you like pizza. The output should consist of three or more lines about the kinds of pizza you like and then an additional sentence, such as I really love pizza!\n"
   ]
  },
  {
   "cell_type": "code",
   "execution_count": null,
   "id": "22e7d126",
   "metadata": {},
   "outputs": [
    {
     "name": "stdout",
     "output_type": "stream",
     "text": [
      "Pepperoni\n",
      "bbq chicken pizza\n",
      "Sicilian pizza\n",
      "Pepperoni\n",
      "I Love PepperoniSo Much\n",
      "bbq chicken pizza\n",
      "I Love Bbq Chicken PizzaSo Much\n",
      "Sicilian pizza\n",
      "I Love Sicilian PizzaSo Much\n",
      "\n",
      "I enjoy all kinds of pizzas, each with its own unique taste.\n",
      "Pizza is my go-to comfort food.\n",
      "If there’s pizza, I’m already happy!\n",
      "I really love pizza!\n"
     ]
    }
   ],
   "source": [
    "# Printing the name of pizzas through the for loop\n",
    "\n",
    "pizzas = ['Pepperoni', 'bbq chicken pizza', 'Sicilian pizza']\n",
    "for piazza in pizzas:\n",
    "    print(piazza)\n",
    "\n",
    "# Printing the pizzas with a statement  \n",
    "pizzas = ['Pepperoni', 'bbq chicken pizza', 'Sicilian pizza']\n",
    "for piazza in pizzas:\n",
    "    print(piazza)\n",
    "    print(f\"I Love {piazza.title()}So Much\")\n",
    "    \n",
    "# Printing the Extra lines that where not in the for loop \n",
    "\n",
    "print(\"\\nI enjoy all kinds of pizzas, each with its own unique taste.\")\n",
    "print(\"Pizza is my go-to comfort food.\")\n",
    "print(\"If there’s pizza, I’m already happy!\")\n",
    "print(\"I really love pizza!\")"
   ]
  }
 ],
 "metadata": {
  "kernelspec": {
   "display_name": "Python 3",
   "language": "python",
   "name": "python3"
  },
  "language_info": {
   "codemirror_mode": {
    "name": "ipython",
    "version": 3
   },
   "file_extension": ".py",
   "mimetype": "text/x-python",
   "name": "python",
   "nbconvert_exporter": "python",
   "pygments_lexer": "ipython3",
   "version": "3.13.5"
  }
 },
 "nbformat": 4,
 "nbformat_minor": 5
}
