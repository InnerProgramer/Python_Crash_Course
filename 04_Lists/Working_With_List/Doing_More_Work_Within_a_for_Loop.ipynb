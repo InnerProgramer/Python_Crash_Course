{
 "cells": [
  {
   "cell_type": "markdown",
   "id": "43878a46",
   "metadata": {},
   "source": [
    "# **Doing_More_Work_Within_a_for_Loop.ipynb**\n",
    "You can do just about anything with each item in a for loop. Let’s build on\n",
    "the previous example by printing a message to each magician, telling them\n",
    "that they performed a great trick:\n"
   ]
  },
  {
   "cell_type": "code",
   "execution_count": null,
   "id": "55c15250",
   "metadata": {},
   "outputs": [
    {
     "name": "stdout",
     "output_type": "stream",
     "text": [
      "Alice, that was a great trick!\n",
      "David, that was a great trick!\n",
      "Carolina, that was a great trick!\n"
     ]
    }
   ],
   "source": [
    "magicians = ['alice', 'david', 'carolina']\n",
    "for magician in magicians:\n",
    "    print(f\"{magician.title()}, that was a great trick!\")"
   ]
  },
  {
   "cell_type": "markdown",
   "id": "eb6285ef",
   "metadata": {},
   "source": [
    "The only difference in this code is where we compose a message to each\n",
    "magician, starting with that magician’s name. The first time through the\n",
    "loop the value of magician is 'alice', so Python starts the first message\n",
    "with the name 'Alice'. The second time through, the message will begin\n",
    "with 'David', and the third time through, the message will begin with\n",
    "'Carolina'.\n"
   ]
  },
  {
   "cell_type": "code",
   "execution_count": null,
   "id": "5231bfb6",
   "metadata": {},
   "outputs": [
    {
     "name": "stdout",
     "output_type": "stream",
     "text": [
      "Alice, that was a great trick!\n",
      "I can't wait to see your next trick,Alice.\n",
      "\n",
      "David, that was a great trick!\n",
      "I can't wait to see your next trick,David.\n",
      "\n",
      "Carolina, that was a great trick!\n",
      "I can't wait to see your next trick,Carolina.\n",
      "\n"
     ]
    }
   ],
   "source": [
    "# You can also write as many lines of code as you like in the for loop. Every\n",
    "# indented line following the line for magician in magicians is considered\n",
    "# inside the loop, and each indented line is executed once for each value in\n",
    "# the list. Therefore, you can do as much work as you like with each value in\n",
    "# the list.\n",
    "# Let’s add a second line to our message, telling each magician that we’re\n",
    "# looking forward to their next trick:\n",
    "\n",
    "magicians = ['alice', 'david', 'carolina']\n",
    "for magician in magicians:\n",
    "    print(f\"{magician.title()}, that was a great trick!\")\n",
    "    print(f\"I can't wait to see your next trick,{magician.title()}.\\n\")  # Because we have indented both calls to print(), each line will be executed once for every magician in the list. The newline (\"\\n\") in the second"
   ]
  }
 ],
 "metadata": {
  "kernelspec": {
   "display_name": "Python 3",
   "language": "python",
   "name": "python3"
  },
  "language_info": {
   "codemirror_mode": {
    "name": "ipython",
    "version": 3
   },
   "file_extension": ".py",
   "mimetype": "text/x-python",
   "name": "python",
   "nbconvert_exporter": "python",
   "pygments_lexer": "ipython3",
   "version": "3.13.5"
  }
 },
 "nbformat": 4,
 "nbformat_minor": 5
}
