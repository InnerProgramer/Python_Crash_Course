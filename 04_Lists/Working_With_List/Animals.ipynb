{
 "cells": [
  {
   "cell_type": "markdown",
   "id": "157e6ad3",
   "metadata": {},
   "source": [
    "# **TRY IT YOURSELF**\n",
    "\n"
   ]
  },
  {
   "cell_type": "markdown",
   "id": "d8e740ad",
   "metadata": {},
   "source": [
    "## Animals\n",
    "Think of at least three different animals that have a common\n",
    "characteristic. Store the names of these animals in a list, and then use a for loop to\n",
    "print out the name of each animal.\n",
    "Modify your program to print a statement about each animal, such as A dog would\n",
    "make a great pet.\n",
    "Add a line at the end of your program, stating what these animals have in common.\n",
    "You could print a sentence, such as Any of these animals would make a great pet!"
   ]
  },
  {
   "cell_type": "code",
   "execution_count": null,
   "id": "84a86249",
   "metadata": {},
   "outputs": [
    {
     "name": "stdout",
     "output_type": "stream",
     "text": [
      "Dog\n",
      "A Dog is a good pet.\n",
      "Cat\n",
      "A Cat is a good pet.\n",
      "Rabbit\n",
      "A Rabbit is a good pet.\n",
      "\n",
      "Any of these animals would make a loving and friendly pet!\n"
     ]
    }
   ],
   "source": [
    "# Printing 3 common characteristic animals in list using for loop\n",
    "\n",
    "animals = ['Dog', 'Cat', 'Rabbit']\n",
    "for animal in animals:\n",
    "    print(animal)\n",
    "    print(f\"A {animal} is a good pet.\") # Printing Line for each animal\n",
    "\n",
    "# Last line what was common on them \n",
    "print(\"\\nAny of these animals would make a loving and friendly pet!\")"
   ]
  }
 ],
 "metadata": {
  "kernelspec": {
   "display_name": "Python 3",
   "language": "python",
   "name": "python3"
  },
  "language_info": {
   "codemirror_mode": {
    "name": "ipython",
    "version": 3
   },
   "file_extension": ".py",
   "mimetype": "text/x-python",
   "name": "python",
   "nbconvert_exporter": "python",
   "pygments_lexer": "ipython3",
   "version": "3.13.5"
  }
 },
 "nbformat": 4,
 "nbformat_minor": 5
}
