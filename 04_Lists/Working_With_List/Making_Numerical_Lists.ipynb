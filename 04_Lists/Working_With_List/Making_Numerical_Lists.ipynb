{
 "cells": [
  {
   "cell_type": "markdown",
   "id": "860281b4",
   "metadata": {},
   "source": [
    "# **Making Numerical Lists** \n",
    "Many reasons exist to store a set of numbers. For example, you’ll need to\n",
    "keep track of the positions of each character in a game, and you might want\n",
    "to keep track of a player’s high scores as well. In data visualizations, you’ll\n",
    "almost always work with sets of numbers, such as temperatures, distances,\n",
    "population sizes, or latitude and longitude values, among other types of\n",
    "numerical sets.\n",
    "Lists are ideal for storing sets of numbers, and Python provides a variety of\n",
    "tools to help you work efficiently with lists of numbers. Once you\n",
    "understand how to use these tools effectively, your code will work well\n",
    "even when your lists contain millions of items."
   ]
  },
  {
   "cell_type": "markdown",
   "id": "774550c0",
   "metadata": {},
   "source": [
    "## **Using the range() Function**\n",
    "Python’s range() function makes it easy to generate a series of numbers.\n",
    "For example, you can use the range() function to print a series of numbers\n",
    "like this:"
   ]
  },
  {
   "cell_type": "code",
   "execution_count": 3,
   "id": "b9ada18b",
   "metadata": {},
   "outputs": [
    {
     "name": "stdout",
     "output_type": "stream",
     "text": [
      "1\n",
      "2\n",
      "3\n",
      "4\n",
      "1\n",
      "2\n",
      "3\n",
      "4\n",
      "5\n",
      "0\n",
      "1\n",
      "2\n",
      "3\n",
      "4\n",
      "5\n"
     ]
    }
   ],
   "source": [
    "for value in range(1,5):\n",
    "    print(value)  # Although this code looks like it should print the numbers from 1 to 5, it doesn’t print the number 5:\n",
    "\n",
    "\n",
    "\n",
    "# # In this example, range() prints only the numbers 1 through 4. This is\n",
    "# another result of the off-by-one behavior you’ll see often in programming\n",
    "# languages. The range() function causes Python to start counting at the first\n",
    "# value you give it, and it stops when it reaches the second value you provide.\n",
    "# Because it stops at that second value, the output never contains the end\n",
    "# value, which would have been 5 in this case.\n",
    "# To print the numbers from 1 to 5, you would use range(1, 6):\n",
    "\n",
    "for value in range(1,6): \n",
    "    print(value) # This time the output starts at 1 and ends at 5:\n",
    "\n",
    "\n",
    "# You can also pass range() only one argument, and it will start the sequence\n",
    "# of numbers at 0. For example, range(6) would return the numbers from 0\n",
    "# through 5.\n",
    "\n",
    "for value in range(6):\n",
    "    print(value)"
   ]
  },
  {
   "cell_type": "markdown",
   "id": "eb769654",
   "metadata": {},
   "source": []
  }
 ],
 "metadata": {
  "kernelspec": {
   "display_name": "Python 3",
   "language": "python",
   "name": "python3"
  },
  "language_info": {
   "codemirror_mode": {
    "name": "ipython",
    "version": 3
   },
   "file_extension": ".py",
   "mimetype": "text/x-python",
   "name": "python",
   "nbconvert_exporter": "python",
   "pygments_lexer": "ipython3",
   "version": "3.13.5"
  }
 },
 "nbformat": 4,
 "nbformat_minor": 5
}
