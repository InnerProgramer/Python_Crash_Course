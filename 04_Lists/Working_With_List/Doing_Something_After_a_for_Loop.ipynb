{
 "cells": [
  {
   "cell_type": "markdown",
   "id": "1e25724c",
   "metadata": {},
   "source": [
    "# **Doing Something After a for Loop**\n",
    "What happens once a for loop has finished executing? Usually, you’ll want\n",
    "to summarize a block of output or move on to other work that your program\n",
    "must accomplish.\n",
    "Any lines of code after the for loop that are not indented are executed once\n",
    "without repetition. Let’s write a thank you to the group of magicians as a\n",
    "whole, thanking them for putting on an excellent show. To display this\n",
    "group message after all of the individual messages have been printed, we\n",
    "place the thank you message after the for loop, without indentation:"
   ]
  },
  {
   "cell_type": "code",
   "execution_count": null,
   "id": "e3ee8181",
   "metadata": {},
   "outputs": [
    {
     "name": "stdout",
     "output_type": "stream",
     "text": [
      "Alice, that was a great trick!\n",
      "I can't wait to see your next trick, Alice.\n",
      "\n",
      "Thank you, everyone. That was a great magic show!\n",
      "David, that was a great trick!\n",
      "I can't wait to see your next trick, David.\n",
      "\n",
      "Thank you, everyone. That was a great magic show!\n",
      "Carolina, that was a great trick!\n",
      "I can't wait to see your next trick, Carolina.\n",
      "\n",
      "Thank you, everyone. That was a great magic show!\n"
     ]
    }
   ],
   "source": [
    "magicians = ['alice', 'david', 'carolina']\n",
    "for magician in magicians:\n",
    " print(f\"{magician.title()}, that was a great trick!\")\n",
    " print(f\"I can't wait to see your next trick,{magician.title()}.\\n\")\n",
    "\n",
    "print(\"Thank you, everyone. That was a great magic show!\")  \n",
    "\n",
    "# The first two calls to print() are repeated once for each magician in the list, as you saw earlier. However, because the last line is not indented, it’s printed only once:\n"
   ]
  }
 ],
 "metadata": {
  "kernelspec": {
   "display_name": "Python 3",
   "language": "python",
   "name": "python3"
  },
  "language_info": {
   "codemirror_mode": {
    "name": "ipython",
    "version": 3
   },
   "file_extension": ".py",
   "mimetype": "text/x-python",
   "name": "python",
   "nbconvert_exporter": "python",
   "pygments_lexer": "ipython3",
   "version": "3.13.5"
  }
 },
 "nbformat": 4,
 "nbformat_minor": 5
}
