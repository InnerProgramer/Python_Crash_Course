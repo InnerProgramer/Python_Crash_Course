{
 "cells": [
  {
   "cell_type": "markdown",
   "id": "5e5b3f75",
   "metadata": {},
   "source": [
    "# **Looping Through an Entire List**\n",
    "You’ll often want to run through all entries in a list, performing the same\n",
    "task with each item. For example, in a game you might want to move every\n",
    "element on the screen by the same amount. In a list of numbers, you might\n",
    "want to perform the same statistical operation on every element. Or perhaps\n",
    "you’ll want to display each headline from a list of articles on a website.\n",
    "When you want to do the same action with every item in a list, you can use\n",
    "Python’s for loop.\n",
    "Say we have a list of magicians’ names, and we want to print out each name\n",
    "in the list. We could do this by retrieving each name from the list\n",
    "individually, but this approach could cause several problems. For one, it\n",
    "would be repetitive to do this with a long list of names. Also, we’d have to\n",
    "change our code each time the list’s length changed. Using a for loop\n",
    "avoids both of these issues by letting Python manage these issues internally.\n"
   ]
  },
  {
   "cell_type": "code",
   "execution_count": 1,
   "id": "d5f571df",
   "metadata": {},
   "outputs": [
    {
     "name": "stdout",
     "output_type": "stream",
     "text": [
      "alice\n",
      "david\n",
      "carolina\n"
     ]
    }
   ],
   "source": [
    "# Let’s use a for loop to print out each name in a list of magicians:\n",
    "\n",
    "magicians = ['alice', 'david', 'carolina']\n",
    "for magician in magicians:\n",
    "    print(magician)"
   ]
  },
  {
   "cell_type": "markdown",
   "id": "29cda8c7",
   "metadata": {},
   "source": [
    "We begin by defining a list, just as we did in introduction. Then we define a\n",
    "for loop. This line tells Python to pull a name from the list magicians, and\n",
    "associate it with the variable magician. Next, we tell Python to print the\n",
    "name that’s just been assigned to magician. Python then repeats these last\n",
    "two lines, once for each name in the list. It might help to read this code as\n",
    "“For every magician in the list of magicians, print the magician’s name.”\n",
    "The output is a simple printout of each name in the list:\n",
    " \n",
    "alice\n",
    "\n",
    "david\n",
    "\n",
    "carolina\n"
   ]
  }
 ],
 "metadata": {
  "kernelspec": {
   "display_name": "Python 3",
   "language": "python",
   "name": "python3"
  },
  "language_info": {
   "codemirror_mode": {
    "name": "ipython",
    "version": 3
   },
   "file_extension": ".py",
   "mimetype": "text/x-python",
   "name": "python",
   "nbconvert_exporter": "python",
   "pygments_lexer": "ipython3",
   "version": "3.13.5"
  }
 },
 "nbformat": 4,
 "nbformat_minor": 5
}
