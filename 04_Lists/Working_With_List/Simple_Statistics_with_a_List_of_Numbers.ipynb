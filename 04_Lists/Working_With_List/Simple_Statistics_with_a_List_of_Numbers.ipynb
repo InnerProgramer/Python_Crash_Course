{
 "cells": [
  {
   "cell_type": "markdown",
   "id": "5c02e369",
   "metadata": {},
   "source": [
    "# **Simple Statistics with a List of Numbers**\n",
    "A few Python functions are helpful when working with lists of numbers. For example, you can easily find the minimum, maximum, and sum of a list of numbers:"
   ]
  },
  {
   "cell_type": "code",
   "execution_count": 6,
   "id": "51c0ee44",
   "metadata": {},
   "outputs": [
    {
     "name": "stdout",
     "output_type": "stream",
     "text": [
      "0\n",
      "9\n",
      "45\n"
     ]
    }
   ],
   "source": [
    "digits = [1, 2, 3, 4, 5, 6, 7, 8, 9, 0]\n",
    "# Shows the smallest number\n",
    "print(min(digits))\n",
    "# Shows the largest number\n",
    "print(max(digits))\n",
    "# Shows the total sum\n",
    "print(sum(digits)) \n",
    "\n"
   ]
  }
 ],
 "metadata": {
  "kernelspec": {
   "display_name": "Python 3",
   "language": "python",
   "name": "python3"
  },
  "language_info": {
   "codemirror_mode": {
    "name": "ipython",
    "version": 3
   },
   "file_extension": ".py",
   "mimetype": "text/x-python",
   "name": "python",
   "nbconvert_exporter": "python",
   "pygments_lexer": "ipython3",
   "version": "3.13.5"
  }
 },
 "nbformat": 4,
 "nbformat_minor": 5
}
