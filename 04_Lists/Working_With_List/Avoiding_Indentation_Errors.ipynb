{
 "cells": [
  {
   "cell_type": "markdown",
   "id": "8cd406f7",
   "metadata": {},
   "source": [
    "# **Avoiding Indentation Errors**\n",
    "Python uses indentation to determine how a line, or group of lines, is related\n",
    "to the rest of the program. In the previous examples, the lines that printed\n",
    "messages to individual magicians were part of the for loop because they\n",
    "were indented. Python’s use of indentation makes code very easy to read.\n",
    "Basically, it uses whitespace to force you to write neatly formatted code\n",
    "with a clear visual structure. In longer Python programs, you’ll notice\n",
    "blocks of code indented at a few different levels. These indentation levels\n",
    "help you gain a general sense of the overall program’s organization.\n",
    "\n",
    "As you begin to write code that relies on proper indentation, you’ll need to\n",
    "watch for a few common indentation errors. For example, people\n",
    "sometimes indent lines of code that don’t need to be indented or forget to\n",
    "indent lines that need to be indented. Seeing examples of these errors now\n",
    "will help you avoid them in the future and correct them when they do\n",
    "appear in your own programs.\n",
    "\n",
    "Let’s examine some of the more common indentation errors."
   ]
  },
  {
   "cell_type": "markdown",
   "id": "5a164c4b",
   "metadata": {},
   "source": [
    "## **Forgetting to Indent**\n"
   ]
  },
  {
   "cell_type": "code",
   "execution_count": null,
   "id": "9f8b86c3",
   "metadata": {},
   "outputs": [
    {
     "ename": "IndentationError",
     "evalue": "expected an indented block after 'for' statement on line 3 (2240760449.py, line 4)",
     "output_type": "error",
     "traceback": [
      "  \u001b[36mCell\u001b[39m\u001b[36m \u001b[39m\u001b[32mIn[1]\u001b[39m\u001b[32m, line 4\u001b[39m\n\u001b[31m    \u001b[39m\u001b[31mprint(magicians)        # The call to print() ❶ should be indented, but it’s not. When Python\u001b[39m\n    ^\n\u001b[31mIndentationError\u001b[39m\u001b[31m:\u001b[39m expected an indented block after 'for' statement on line 3\n"
     ]
    }
   ],
   "source": [
    "# Always indent the line after the for statement in a loop. If you forget, Python will remind you:\n",
    "magicians = ['alice', 'david', 'carolina']\n",
    "for magician in magicians:\n",
    "print(magicians)        # The call to print() should be indented, but it’s not. When Python\n",
    "                        # expects an indented block and doesn’t find one, it lets you know which line\n",
    "                        # it had a problem with: \n",
    "\n",
    "                        # File \"magicians.py\", line \n",
    "                        # print(magician)\n",
    "                        # ^\n",
    "                        # IndentationError: expected an indented block after 'for'\n",
    "                        # statement on line 2\n",
    "\n",
    "# -----------------------------------------------------------------------------------------------------\n",
    "\n",
    "# You can usually resolve this kind of indentation error by indenting the line or lines immediately after the for statement.\n"
   ]
  },
  {
   "cell_type": "markdown",
   "id": "91956cc4",
   "metadata": {},
   "source": [
    "## **Forgetting to Indent Additional Lines**\n",
    "Sometimes your loop will run without any errors but won’t produce the\n",
    "expected result. This can happen when you’re trying to do several tasks in a\n",
    "loop and you forget to indent some of its lines.\n",
    "For example, this is what happens when we forget to indent the second line\n",
    "in the loop that tells each magician we’re looking forward to their next\n",
    "trick:\n"
   ]
  },
  {
   "cell_type": "code",
   "execution_count": null,
   "id": "31a06b19",
   "metadata": {},
   "outputs": [
    {
     "name": "stdout",
     "output_type": "stream",
     "text": [
      "Alice, that was a great trick!\n",
      "David, that was a great trick!\n",
      "Carolina, that was a great trick!\n",
      "I can't wait to see your next trick,Carolina.\n",
      "\n"
     ]
    }
   ],
   "source": [
    "magicians = ['alice', 'david', 'carolina']\n",
    "for magician in magicians:\n",
    "    print(f\"{magician.title()}, that was a great trick!\")\n",
    "print(f\"I can't wait to see your next trick,{magician.title()}.\\n\")\n",
    "\n",
    "\n",
    "# The second call to print() ❶ is supposed to be indented, but because\n",
    "# Python finds at least one indented line after the for statement, it doesn’t\n",
    "# report an error. As a result, the first print() call is executed once for each\n",
    "# name in the list because it is indented. The second print() call is not\n",
    "# indented, so it is executed only once after the loop has finished running.\n",
    "# Because the final value associated with magician is 'carolina', she is the\n",
    "# only one who receives the “looking forward to the next trick” message:\n",
    "# _______________________________________________________________________________\n",
    "# Alice, that was a great trick!\n",
    "# David, that was a great trick!\n",
    "# Carolina, that was a great trick!\n",
    "# I can't wait to see your next trick, Carolina.\n",
    "# _______________________________________________________________________________\n",
    "# This is a logical error. The syntax is valid Python code, but the code does\n",
    "# not produce the desired result because a problem occurs in its logic. If you\n",
    "# expect to see a certain action repeated once for each item in a list and it’s\n",
    "# executed only once, determine whether you need to simply indent a line or\n",
    "# a group of lines."
   ]
  },
  {
   "cell_type": "markdown",
   "id": "6ad1f556",
   "metadata": {},
   "source": [
    "## **Indenting Unnecessarily**\n",
    "If you accidentally indent a line that doesn’t need to be indented, Python\n",
    "informs you about the unexpected indent:\n"
   ]
  },
  {
   "cell_type": "code",
   "execution_count": null,
   "id": "7dd732f3",
   "metadata": {},
   "outputs": [],
   "source": [
    "Hello Python world!\"\n",
    "  print(message)            # We don’t need to indent the print() call, because it isn’t part of a loop;\n",
    "                            # hence, Python reports that error:\n",
    "\n",
    "                            # File \"hello_world.py\", line 2\n",
    "                            #  print(message)\n",
    "                            #  ^\n",
    "                            # IndentationError: unexpected indent\n",
    "\n",
    "# ----------------------------------------------------------------------------------------------------\n",
    "\n",
    "# You can avoid unexpected indentation errors by indenting only when you\n",
    "# have a specific reason to do so. In the programs you’re writing at this point,\n",
    "# the only lines you should indent are the actions you want to repeat for each\n",
    "# item in a for loop.\n",
    "                            "
   ]
  },
  {
   "cell_type": "markdown",
   "id": "c2cd7401",
   "metadata": {},
   "source": [
    "## **Indenting Unnecessarily After the Loop**\n",
    "If you accidentally indent code that should run after a loop has finished, that\n",
    "code will be repeated once for each item in the list. Sometimes this prompts\n",
    "Python to report an error, but often this will result in a logical error.\n",
    "For example, let’s see what happens when we accidentally indent the line\n",
    "that thanked the magicians as a group for putting on a good show:"
   ]
  },
  {
   "cell_type": "code",
   "execution_count": null,
   "id": "65e3d00f",
   "metadata": {},
   "outputs": [
    {
     "name": "stdout",
     "output_type": "stream",
     "text": [
      "Alice, that was a great trick!\n",
      "I can't wait to see your next trick,Alice.\n",
      "\n",
      "Thank you everyone, that was a great magic show!\n",
      "David, that was a great trick!\n",
      "I can't wait to see your next trick,David.\n",
      "\n",
      "Thank you everyone, that was a great magic show!\n",
      "Carolina, that was a great trick!\n",
      "I can't wait to see your next trick,Carolina.\n",
      "\n",
      "Thank you everyone, that was a great magic show!\n"
     ]
    }
   ],
   "source": [
    "magicians = ['alice', 'david', 'carolina']\n",
    "for magician in magicians:\n",
    " print(f\"{magician.title()}, that was a great trick!\")\n",
    " print(f\"I can't wait to see your next trick,{magician.title()}.\\n\")\n",
    " print(\"Thank you everyone, that was a great magic show!\")\n",
    "\n",
    "\n",
    "# Because the last line is indented, it’s printed once for each person in the list:\n",
    "\n",
    "\n",
    "# This is another logical error, similar to the one in “Forgetting to Indent\n",
    "# Additional Lines” on page 54. Because Python doesn’t know what you’re\n",
    "# trying to accomplish with your code, it will run all code that is written in\n",
    "# valid syntax. If an action is repeated many times when it should be executed\n",
    "# only once, you probably need to unindent the code for that action."
   ]
  },
  {
   "cell_type": "markdown",
   "id": "9dfdbad9",
   "metadata": {},
   "source": [
    "# **Forgetting the Colon**\n",
    "The colon at the end of a for statement tells Python to interpret the next\n",
    "line as the start of a loop."
   ]
  },
  {
   "cell_type": "code",
   "execution_count": null,
   "id": "9d0facc3",
   "metadata": {},
   "outputs": [],
   "source": [
    "magicians = ['alice', 'david', 'carolina']\n",
    "for magician in magicians\n",
    " print(magician)\n",
    "\n",
    "\n",
    "# If you accidentally forget the colon ❶, you’ll get a syntax error because\n",
    "# Python doesn’t know exactly what you’re trying to do:\n",
    "\n",
    "#  File \"magicians.py\", line 2\n",
    "#  for magician in magicians\n",
    "#  ^\n",
    "# SyntaxError: expected ':'\n",
    "\n",
    "# ----------------------------------------------------------------------------------\n",
    "\n",
    "# Python doesn’t know if you simply forgot the colon, or if you meant to\n",
    "# write additional code to set up a more complex loop. If the interpreter can\n",
    "# identify a possible fix it will suggest one, like adding a colon at the end of a\n",
    "# line, as it does here with the response expected ':'. Some errors have\n",
    "# easy, obvious fixes, thanks to the suggestions in Python’s tracebacks. Some\n",
    "# errors are much harder to resolve, even when the eventual fix only involves\n",
    "# a single character. Don’t feel bad when a small fix takes a long time to find;\n",
    "# you are absolutely not alone in this experience.\n"
   ]
  }
 ],
 "metadata": {
  "kernelspec": {
   "display_name": "Python 3",
   "language": "python",
   "name": "python3"
  },
  "language_info": {
   "codemirror_mode": {
    "name": "ipython",
    "version": 3
   },
   "file_extension": ".py",
   "mimetype": "text/x-python",
   "name": "python",
   "nbconvert_exporter": "python",
   "pygments_lexer": "ipython3",
   "version": "3.13.5"
  }
 },
 "nbformat": 4,
 "nbformat_minor": 5
}
