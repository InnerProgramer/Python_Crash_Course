{
 "cells": [
  {
   "cell_type": "markdown",
   "id": "e9316270",
   "metadata": {},
   "source": [
    "# **Using range() to Make a List of Numbers**\n",
    "If you want to make a list of numbers, you can convert the results of\n",
    "range() directly into a list using the list() function. When you wrap\n",
    "list() around a call to the range() function, the output will be a list of\n",
    "numbers.\n"
   ]
  },
  {
   "cell_type": "code",
   "execution_count": 8,
   "id": "b5d457c6",
   "metadata": {},
   "outputs": [
    {
     "name": "stdout",
     "output_type": "stream",
     "text": [
      "[3, 4, 5, 6, 7, 8]\n"
     ]
    }
   ],
   "source": [
    "# In the example in the previous section, we simply printed out a series of numbers. We can use list() to convert that same set of numbers into a list:\n",
    "numbers = list(range(3,9))\n",
    "print(numbers)"
   ]
  },
  {
   "cell_type": "markdown",
   "id": "85e6ca3b",
   "metadata": {},
   "source": [
    "We can also use the range() function to tell Python to skip numbers in a\n",
    "given range. If you pass a third argument to range(), Python uses that value\n",
    "as a step size when generating numbers"
   ]
  },
  {
   "cell_type": "code",
   "execution_count": 9,
   "id": "0a2eeb89",
   "metadata": {},
   "outputs": [
    {
     "name": "stdout",
     "output_type": "stream",
     "text": [
      "[2, 4, 6, 8, 10]\n"
     ]
    }
   ],
   "source": [
    "# For example, here’s how to list the even numbers between 1 and 10:\n",
    "even_numbers = list(range(2,11,2))\n",
    "print(even_numbers)\n",
    "\n",
    "# In this example, the range() function starts with the value 2 and then adds\n",
    "# 2 to that value. It adds 2 repeatedly until it reaches or passes the end value,\n",
    "# 11, and produces this result:"
   ]
  },
  {
   "cell_type": "markdown",
   "id": "9bbd9b5f",
   "metadata": {},
   "source": [
    "You can create almost any set of numbers you want to using the range()\n",
    "function. For example, consider how you might make a list of the first 10\n",
    "square numbers (that is, the square of each integer from 1 through 10). In\n",
    "Python, two asterisks (**) represent exponents. Here’s how you might put\n",
    "the first 10 square numbers into a list:"
   ]
  },
  {
   "cell_type": "code",
   "execution_count": 19,
   "id": "52cc3b3d",
   "metadata": {},
   "outputs": [
    {
     "name": "stdout",
     "output_type": "stream",
     "text": [
      "[1, 4, 9, 16, 25, 36, 49, 64, 81, 100]\n"
     ]
    }
   ],
   "source": [
    "squares = []\n",
    "for value in range(1,11):\n",
    "    square = value **2\n",
    "    squares.append(square)\n",
    "\n",
    "print(squares)   \n",
    "\n",
    "# We start with an empty list called squares. Then, we tell Python to loop\n",
    "# through each value from 1 to 10 using the range() function. Inside the\n",
    "# loop, the current value is raised to the second power and assigned to the\n",
    "# variable square ❶. Each new value of square is then appended to the list\n",
    "# squares ❷. Finally, when the loop has finished running, the list of squares\n",
    "# is printed:\n"
   ]
  },
  {
   "cell_type": "markdown",
   "id": "43640330",
   "metadata": {},
   "source": [
    "To write this code more concisely, omit the temporary variable square and append each new value directly to the list:\n"
   ]
  },
  {
   "cell_type": "code",
   "execution_count": 18,
   "id": "dfd72e5f",
   "metadata": {},
   "outputs": [
    {
     "name": "stdout",
     "output_type": "stream",
     "text": [
      "[1, 4, 9, 16, 25, 36, 49, 64, 81, 100]\n"
     ]
    }
   ],
   "source": [
    "squares = []\n",
    "for value in range(1,11):\n",
    "    squares.append(value **2)\n",
    "\n",
    "print(squares)\n",
    "\n",
    "# This line does the same work as the lines inside the for loop in the previous\n",
    "# listing. Each value in the loop is raised to the second power and then\n",
    "# immediately appended to the list of squares.\n",
    "# You can use either of these approaches when you’re making more complex\n",
    "# lists. Sometimes using a temporary variable makes your code easier to read;\n",
    "# other times it makes the code unnecessarily long. Focus first on writing\n",
    "# code that you understand clearly, and does what you want it to do. Then\n",
    "# look for more efficient approaches as you review your code.\n"
   ]
  }
 ],
 "metadata": {
  "kernelspec": {
   "display_name": "Python 3",
   "language": "python",
   "name": "python3"
  },
  "language_info": {
   "codemirror_mode": {
    "name": "ipython",
    "version": 3
   },
   "file_extension": ".py",
   "mimetype": "text/x-python",
   "name": "python",
   "nbconvert_exporter": "python",
   "pygments_lexer": "ipython3",
   "version": "3.13.5"
  }
 },
 "nbformat": 4,
 "nbformat_minor": 5
}
