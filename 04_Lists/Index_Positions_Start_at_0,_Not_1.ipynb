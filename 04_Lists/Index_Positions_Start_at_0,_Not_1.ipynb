{
 "cells": [
  {
   "cell_type": "markdown",
   "id": "f22f0594",
   "metadata": {},
   "source": [
    "# **Index Positions Start at 0, Not 1**\n",
    "Python considers the first item in a list to be at position 0, not position 1.\n",
    "This is true of most programming languages, and the reason has to do with\n",
    "how the list operations are implemented at a lower level. If you’re receiving\n",
    "unexpected results, ask yourself if you’re making a simple but common offby-one error.\n",
    "The second item in a list has an index of 1. Using this counting system, you\n",
    "can get any element you want from a list by subtracting one from its\n",
    "position in the list. For instance, to access the fourth item in a list, you\n",
    "request the item at index 3.\n"
   ]
  },
  {
   "cell_type": "code",
   "execution_count": 2,
   "id": "a9ae2ad2",
   "metadata": {},
   "outputs": [
    {
     "name": "stdout",
     "output_type": "stream",
     "text": [
      "cannondale\n",
      "specialized\n"
     ]
    }
   ],
   "source": [
    "# The following asks for the bicycles at index 1 and index 3:\n",
    "bicycles = ['trek', 'cannondale', 'redline', 'specialized']\n",
    "print(bicycles[1])\n",
    "print(bicycles[3])   # This code returns the second and fourth bicycles in the list: cannondale\n",
    "                                                                                   # specialized"
   ]
  },
  {
   "cell_type": "markdown",
   "id": "1d1d2e91",
   "metadata": {},
   "source": [
    "##### Python has a special syntax for accessing the last element in a list. If you ask for the item at index -1, Python always returns the last item in the list:"
   ]
  },
  {
   "cell_type": "code",
   "execution_count": null,
   "id": "aa4da0cb",
   "metadata": {},
   "outputs": [
    {
     "name": "stdout",
     "output_type": "stream",
     "text": [
      "specialized\n"
     ]
    }
   ],
   "source": [
    "bicycles = ['trek', 'cannondale', 'redline', 'specialized']\n",
    "print(bicycles[-1]) # This code returns the value 'specialized'. This syntax is quite useful,\n",
    "                    # because you’ll often want to access the last items in a list without knowing\n",
    "                    # exactly how long the list is. This convention extends to other negative index\n",
    "                    # values as well. The index -2 returns the second item from the end of the list,\n",
    "                    # the index -3 returns the third item from the end, and so forth."
   ]
  }
 ],
 "metadata": {
  "kernelspec": {
   "display_name": "Python 3",
   "language": "python",
   "name": "python3"
  },
  "language_info": {
   "codemirror_mode": {
    "name": "ipython",
    "version": 3
   },
   "file_extension": ".py",
   "mimetype": "text/x-python",
   "name": "python",
   "nbconvert_exporter": "python",
   "pygments_lexer": "ipython3",
   "version": "3.13.5"
  }
 },
 "nbformat": 4,
 "nbformat_minor": 5
}
