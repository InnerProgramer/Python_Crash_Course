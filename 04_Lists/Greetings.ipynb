{
 "cells": [
  {
   "cell_type": "markdown",
   "id": "ec9a0420",
   "metadata": {},
   "source": [
    "# **Greetings**\n",
    "Start with the list you used in Exercise Names, but instead of just printing\n",
    "each person’s name, print a message to them. The text of each message should be the\n",
    "same, but each message should be personalized with the person’s name."
   ]
  },
  {
   "cell_type": "code",
   "execution_count": 18,
   "id": "98698db8",
   "metadata": {},
   "outputs": [
    {
     "name": "stdout",
     "output_type": "stream",
     "text": [
      "Elon Musk , I really admire your work.\n",
      "Cristiano Ronaldo , I really admire your work.\n",
      "Albert Einstein , I really admire your work.\n",
      "Bill Gates , I really admire your work.\n",
      "Taylor Swift , I really admire your work.\n"
     ]
    }
   ],
   "source": [
    "# Here's how we solve this question\n",
    "names = ['Elon Musk', 'Cristiano Ronaldo', 'Albert Einstein', 'Bill Gates', 'Taylor Swift']\n",
    "\n",
    "message = \"I really admire your work.\"\n",
    "\n",
    "a = (f\"{names[0]} , {message}\")\n",
    "b = (f\"{names[1]} , {message}\")\n",
    "c = (f\"{names[2]} , {message}\")\n",
    "d = (f\"{names[3]} , {message}\")\n",
    "e = (f\"{names[4]} , {message}\")\n",
    "\n",
    "print(a)\n",
    "print(b)\n",
    "print(c)\n",
    "print(d)\n",
    "print(e)\n",
    "\n"
   ]
  }
 ],
 "metadata": {
  "kernelspec": {
   "display_name": "Python 3",
   "language": "python",
   "name": "python3"
  },
  "language_info": {
   "codemirror_mode": {
    "name": "ipython",
    "version": 3
   },
   "file_extension": ".py",
   "mimetype": "text/x-python",
   "name": "python",
   "nbconvert_exporter": "python",
   "pygments_lexer": "ipython3",
   "version": "3.13.5"
  }
 },
 "nbformat": 4,
 "nbformat_minor": 5
}
