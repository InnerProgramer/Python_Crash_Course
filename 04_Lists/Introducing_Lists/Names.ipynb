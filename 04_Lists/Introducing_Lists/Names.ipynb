{
 "cells": [
  {
   "cell_type": "markdown",
   "id": "a898d31f",
   "metadata": {},
   "source": [
    "# **Names**\n",
    "Store the names of a few of your friends in a list called names. Print each\n",
    "person’s name by accessing each element in the list, one at a time.\n"
   ]
  },
  {
   "cell_type": "code",
   "execution_count": 21,
   "id": "8b768fd6",
   "metadata": {},
   "outputs": [
    {
     "name": "stdout",
     "output_type": "stream",
     "text": [
      "Elon Musk\n",
      "Cristiano Ronaldo\n",
      "Albert Einstein\n",
      "Bill Gates\n",
      "Taylor Swift\n"
     ]
    }
   ],
   "source": [
    "# Here's how we solve this question\n",
    "names = ['Elon Musk', 'Cristiano Ronaldo', 'Albert Einstein', 'Bill Gates', 'Taylor Swift']\n",
    "print(names[0])\n",
    "print(names[1])\n",
    "print(names[2])\n",
    "print(names[3])\n",
    "print(names[4])\n"
   ]
  }
 ],
 "metadata": {
  "kernelspec": {
   "display_name": "Python 3",
   "language": "python",
   "name": "python3"
  },
  "language_info": {
   "codemirror_mode": {
    "name": "ipython",
    "version": 3
   },
   "file_extension": ".py",
   "mimetype": "text/x-python",
   "name": "python",
   "nbconvert_exporter": "python",
   "pygments_lexer": "ipython3",
   "version": "3.13.5"
  }
 },
 "nbformat": 4,
 "nbformat_minor": 5
}
