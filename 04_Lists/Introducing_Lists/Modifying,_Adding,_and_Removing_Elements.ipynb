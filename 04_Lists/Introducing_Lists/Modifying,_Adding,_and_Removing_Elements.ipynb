{
 "cells": [
  {
   "cell_type": "markdown",
   "id": "d77404a9",
   "metadata": {},
   "source": [
    "# **Modifying, Adding, and Removing Elements**\n",
    "Most lists you create will be dynamic, meaning you’ll build a list and then\n",
    "add and remove elements from it as your program runs its course. For\n",
    "example, you might create a game in which a player has to shoot aliens out\n",
    "of the sky. You could store the initial set of aliens in a list and then remove\n",
    "an alien from the list each time one is shot down. Each time a new alien\n",
    "appears on the screen, you add it to the list. Your list of aliens will increase\n",
    "and decrease in length throughout the course of the game.\n"
   ]
  },
  {
   "cell_type": "markdown",
   "id": "4641349a",
   "metadata": {},
   "source": [
    "### **Modifying Elements in a List**\n",
    "The syntax for modifying an element is similar to the syntax for accessing\n",
    "an element in a list. To change an element, use the name of the list followed\n",
    "by the index of the element you want to change, and then provide the new\n",
    "value you want that item to have.\n"
   ]
  },
  {
   "cell_type": "code",
   "execution_count": 10,
   "id": "e9437032",
   "metadata": {},
   "outputs": [
    {
     "name": "stdout",
     "output_type": "stream",
     "text": [
      "['honda', 'yamaha', 'suzuki']\n",
      "['honda', 'ducati', 'suzuki']\n"
     ]
    }
   ],
   "source": [
    "#For example, say we have a list of motorcycles and the first item in the list is 'honda'. We can change the value of this first item after the list has been created:\n",
    "\n",
    "motorcycles = ['honda', 'yamaha', 'suzuki']\n",
    "print(motorcycles)\n",
    "motorcycles[1] = 'ducati'\n",
    "print(motorcycles)"
   ]
  },
  {
   "cell_type": "markdown",
   "id": "a8ef5eca",
   "metadata": {},
   "source": [
    "### Adding Elements to a List\n",
    "You might want to add a new element to a list for many reasons. For\n",
    "example, you might want to make new aliens appear in a game, add new\n",
    "data to a visualization, or add new registered users to a website you’ve\n",
    "built. Python provides several ways to add new data to existing lists."
   ]
  },
  {
   "cell_type": "code",
   "execution_count": 11,
   "id": "93c25909",
   "metadata": {},
   "outputs": [
    {
     "name": "stdout",
     "output_type": "stream",
     "text": [
      "['honda', 'yamaha', 'suzuki']\n",
      "['honda', 'yamaha', 'suzuki', 'ducati']\n"
     ]
    }
   ],
   "source": [
    "# Appending Elements to the End of a List\n",
    "# The simplest way to add a new element to a list is to append the item to the\n",
    "# list. When you append an item to a list, the new element is added to the end\n",
    "# of the list. Using the same list we had in the previous example, we’ll add\n",
    "# the new element 'ducati' to the end of the list:\n",
    "\n",
    "motorcycles = ['honda', 'yamaha', 'suzuki']\n",
    "print(motorcycles)\n",
    "motorcycles.append('ducati')\n",
    "print(motorcycles)\n",
    "\n",
    "# Here the append() method adds 'ducati' to the end of the list, without affecting any of the other elements in the list:"
   ]
  },
  {
   "cell_type": "markdown",
   "id": "39288677",
   "metadata": {},
   "source": [
    "The append() method makes it easy to build lists dynamically. For\n",
    "example, you can start with an empty list and then add items to the list\n",
    "using a series of append() calls. Using an empty list, let’s add the elements\n",
    "'honda', 'yamaha', and 'suzuki' to the list:\n"
   ]
  },
  {
   "cell_type": "code",
   "execution_count": 14,
   "id": "bd4d27bd",
   "metadata": {},
   "outputs": [
    {
     "name": "stdout",
     "output_type": "stream",
     "text": [
      "['Yamaha', 'Honda', 'Suzuki']\n"
     ]
    }
   ],
   "source": [
    "motorcycles = []\n",
    "\n",
    "motorcycles.append('Yamaha')\n",
    "motorcycles.append('Honda')\n",
    "motorcycles.append('Suzuki')\n",
    "\n",
    "print(motorcycles)"
   ]
  },
  {
   "cell_type": "markdown",
   "id": "eb210b85",
   "metadata": {},
   "source": [
    "### Removing Elements from a List\n",
    "Often, you’ll want to remove an item or a set of items from a list. For\n",
    "example, when a player shoots down an alien from the sky, you’ll most\n",
    "likely want to remove it from the list of active aliens. Or when a user\n",
    "decides to cancel their account on a web application you created, you’ll\n",
    "want to remove that user from the list of active users. You can remove an\n",
    "item according to its position in the list or according to its value."
   ]
  },
  {
   "cell_type": "code",
   "execution_count": null,
   "id": "ed47d33c",
   "metadata": {},
   "outputs": [
    {
     "name": "stdout",
     "output_type": "stream",
     "text": [
      "['honda', 'yamaha', 'suzuki']\n",
      "['honda', 'suzuki']\n"
     ]
    }
   ],
   "source": [
    "# Removing an Item Using the del Statement\n",
    "\n",
    "motorcycles = ['honda', 'yamaha', 'suzuki']\n",
    "print(motorcycles)\n",
    "\n",
    "del motorcycles[1]\n",
    "print(motorcycles)"
   ]
  },
  {
   "cell_type": "markdown",
   "id": "4dbbc076",
   "metadata": {},
   "source": [
    "### Removing an Item Using the pop() Method\n",
    "Sometimes you’ll want to use the value of an item after you remove it from\n",
    "a list. For example, you might want to get the x and y position of an alien\n",
    "that was just shot down, so you can draw an explosion at that position. In a\n",
    "web application, you might want to remove a user from a list of active\n",
    "members and then add that user to a list of inactive members.\n",
    "The pop() method removes the last item in a list, but it lets you work with\n",
    "that item after removing it. The term pop comes from thinking of a list as a\n",
    "stack of items and popping one item off the top of the stack. In this analogy,\n",
    "the top of a stack corresponds to the end of a list."
   ]
  },
  {
   "cell_type": "code",
   "execution_count": 21,
   "id": "bdbb18b7",
   "metadata": {},
   "outputs": [
    {
     "name": "stdout",
     "output_type": "stream",
     "text": [
      "['honda', 'yamaha', 'suzuki']\n",
      "['honda', 'yamaha']\n",
      "suzuki\n"
     ]
    }
   ],
   "source": [
    "#Let’s pop a motorcycle from the list of motorcycles:\n",
    "\n",
    "motorcycles = ['honda', 'yamaha', 'suzuki']\n",
    "print(motorcycles)\n",
    "\n",
    "\n",
    "motorcycles_popped = motorcycles.pop(2)\n",
    "print(motorcycles)\n",
    "print(motorcycles_popped)\n"
   ]
  },
  {
   "cell_type": "code",
   "execution_count": 27,
   "id": "1d9646f6",
   "metadata": {},
   "outputs": [
    {
     "name": "stdout",
     "output_type": "stream",
     "text": [
      "The last motorcycle I owned was a Suzuki\n"
     ]
    }
   ],
   "source": [
    "motorcycles = ['honda', 'yamaha', 'suzuki']\n",
    "\n",
    "last_owned = motorcycles.pop()\n",
    "print(f\"The last motorcycle I owned was a {last_owned.title()}\")"
   ]
  },
  {
   "cell_type": "markdown",
   "id": "30731bdd",
   "metadata": {},
   "source": [
    "### Popping Items from Any Position in a List\n",
    "You can use pop() to remove an item from any position in a list by\n",
    "including the index of the item you want to remove in parentheses:"
   ]
  },
  {
   "cell_type": "code",
   "execution_count": null,
   "id": "ee1a74dd",
   "metadata": {},
   "outputs": [
    {
     "name": "stdout",
     "output_type": "stream",
     "text": [
      "The last motorcycle I owned was a Honda\n"
     ]
    }
   ],
   "source": [
    "motorcycles = ['honda', 'yamaha', 'suzuki']\n",
    "\n",
    "last_owned = motorcycles.pop(0)\n",
    "print(f\"The last motorcycle I owned was a {last_owned.title()}\")           # Remember that each time you use pop(), the item you work with is no longer stored in the list."
   ]
  },
  {
   "cell_type": "markdown",
   "id": "db5c4e7c",
   "metadata": {},
   "source": [
    "### Removing an Item by Value\n",
    "Sometimes you won’t know the position of the value you want to remove\n",
    "from a list. If you only know the value of the item you want to remove, you\n",
    "can use the remove() method.\n",
    "For example, say we want to remove the value 'ducati' from the list of\n",
    "motorcycles:"
   ]
  },
  {
   "cell_type": "code",
   "execution_count": 38,
   "id": "8e08e9f7",
   "metadata": {},
   "outputs": [
    {
     "name": "stdout",
     "output_type": "stream",
     "text": [
      "['honda', 'yamaha', 'suzuki', 'ducati']\n",
      "['honda', 'yamaha', 'suzuki']\n"
     ]
    }
   ],
   "source": [
    "motorcycles = ['honda', 'yamaha', 'suzuki', 'ducati']\n",
    "print(motorcycles)\n",
    "\n",
    "motorcycles.remove('ducati')\n",
    "print(motorcycles)"
   ]
  },
  {
   "cell_type": "code",
   "execution_count": null,
   "id": "21cfea26",
   "metadata": {},
   "outputs": [
    {
     "name": "stdout",
     "output_type": "stream",
     "text": [
      "['honda', 'yamaha', 'suzuki', 'ducati']\n",
      "['honda', 'yamaha', 'suzuki']\n",
      "\n",
      "A Ducati is not soo expencive for me\n"
     ]
    }
   ],
   "source": [
    "motorcycles = ['honda' , 'yamaha' , 'suzuki' , 'ducati']\n",
    "print(motorcycles)\n",
    "\n",
    "not_expencive = 'ducati'\n",
    "motorcycles.remove(not_expencive)\n",
    "print(motorcycles)\n",
    "\n",
    "print(f\"\\nA {not_expencive.title()} is not soo expencive for me.\")\n",
    "\n",
    "# The remove() method deletes only the first occurrence of the value you specify. If there’s a possibility the value appears more than once in the list, you’ll need to use a loop to make sure all occurrences of the value are removed."
   ]
  }
 ],
 "metadata": {
  "kernelspec": {
   "display_name": "Python 3",
   "language": "python",
   "name": "python3"
  },
  "language_info": {
   "codemirror_mode": {
    "name": "ipython",
    "version": 3
   },
   "file_extension": ".py",
   "mimetype": "text/x-python",
   "name": "python",
   "nbconvert_exporter": "python",
   "pygments_lexer": "ipython3",
   "version": "3.13.5"
  }
 },
 "nbformat": 4,
 "nbformat_minor": 5
}
