{
 "cells": [
  {
   "cell_type": "markdown",
   "id": "171b8835",
   "metadata": {},
   "source": [
    "# Printing a List in Reverse Order\n",
    "To reverse the original order of a list, you can use the reverse() method. If\n",
    "we originally stored the list of cars in chronological order according to\n",
    "when we owned them, we could easily rearrange the list into reversechronological order:"
   ]
  },
  {
   "cell_type": "code",
   "execution_count": null,
   "id": "d4500a39",
   "metadata": {},
   "outputs": [
    {
     "name": "stdout",
     "output_type": "stream",
     "text": [
      "['bmw', 'audi', 'toyota', 'subaru']\n",
      "['subaru', 'toyota', 'audi', 'bmw']\n"
     ]
    }
   ],
   "source": [
    "cars = ['bmw', 'audi', 'toyota', 'subaru']\n",
    "print(cars)\n",
    "\n",
    "cars.reverse()\n",
    "print(cars)                          # Notice that reverse() doesn’t sort backward alphabetically; it simply\n",
    "                                     # reverses the order of the list:\n",
    "                                     # ['bmw', 'audi', 'toyota', 'subaru']\n",
    "                                     # ['subaru', 'toyota', 'audi', 'bmw']"
   ]
  }
 ],
 "metadata": {
  "kernelspec": {
   "display_name": "Python 3",
   "language": "python",
   "name": "python3"
  },
  "language_info": {
   "codemirror_mode": {
    "name": "ipython",
    "version": 3
   },
   "file_extension": ".py",
   "mimetype": "text/x-python",
   "name": "python",
   "nbconvert_exporter": "python",
   "pygments_lexer": "ipython3",
   "version": "3.13.5"
  }
 },
 "nbformat": 4,
 "nbformat_minor": 5
}
