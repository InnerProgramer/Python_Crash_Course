{
 "cells": [
  {
   "cell_type": "markdown",
   "id": "5a845c5b",
   "metadata": {},
   "source": [
    "# **Your Own List**\n",
    "Think of your favorite mode of transportation, such as a\n",
    "motorcycle or a car, and make a list that stores several examples. Use your list to print\n",
    "a series of statements about these items, such as “I would like to own a Honda\n",
    "motorcycle.”"
   ]
  },
  {
   "cell_type": "code",
   "execution_count": 4,
   "id": "ee2212f6",
   "metadata": {},
   "outputs": [
    {
     "name": "stdout",
     "output_type": "stream",
     "text": [
      "I would love to ride a Harley-Davidson\n",
      "I would love to ride a Yamaha R15\n",
      "I would love to ride a Kawasaki Ninja H2R\n"
     ]
    }
   ],
   "source": [
    "# Here's how we solve this question\n",
    "favorite_transportation_Mode_List = ['Harley-Davidson' , 'Yamaha R15' , 'Kawasaki Ninja H2R']\n",
    "\n",
    "statement = \"I would love to ride a\"\n",
    "\n",
    "a = (f\"{statement} {favorite_transportation_Mode_List[0]}\")\n",
    "b = (f\"{statement} {favorite_transportation_Mode_List[1]}\")\n",
    "c = (f\"{statement} {favorite_transportation_Mode_List[2]}\")\n",
    "\n",
    "print(a)\n",
    "print(b)\n",
    "print(c)"
   ]
  }
 ],
 "metadata": {
  "kernelspec": {
   "display_name": "Python 3",
   "language": "python",
   "name": "python3"
  },
  "language_info": {
   "codemirror_mode": {
    "name": "ipython",
    "version": 3
   },
   "file_extension": ".py",
   "mimetype": "text/x-python",
   "name": "python",
   "nbconvert_exporter": "python",
   "pygments_lexer": "ipython3",
   "version": "3.13.5"
  }
 },
 "nbformat": 4,
 "nbformat_minor": 5
}
