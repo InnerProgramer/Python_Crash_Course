{
 "cells": [
  {
   "cell_type": "markdown",
   "id": "2a8512b4",
   "metadata": {},
   "source": [
    "# **Avoiding Index Errors When Working with Lists**\n",
    "There’s one type of error that’s common to see when you’re working with\n",
    "lists for the first time. Let’s say you have a list with three items, and you ask\n",
    "for the fourth item:\n"
   ]
  },
  {
   "cell_type": "code",
   "execution_count": null,
   "id": "d19ff18c",
   "metadata": {},
   "outputs": [],
   "source": [
    "# motorcycles = ['honda', 'yamaha', 'suzuki']\n",
    "# print(motorcycles[4])                                   # This causes an error Traceback (most recent call last):                                               #  File \"motorcycles.py\", line 2, in <module>\n",
    "                                                          #  print(motorcycles[3])\n",
    "                                                          #        ~~~~~~~~~~~^^^\n",
    "                                                          # IndexError: list index out of range"
   ]
  },
  {
   "cell_type": "markdown",
   "id": "a72f2a42",
   "metadata": {},
   "source": [
    "Python attempts to give you the item at index 3. But when it searches the\n",
    "list, no item in motorcycles has an index of 3. Because of the off-by-one\n",
    "nature of indexing in lists, this error is typical. People think the third item is\n",
    "item number 3, because they start counting at 1. But in Python the third\n",
    "item is number 2, because it starts indexing at 0.\n",
    "An index error means Python can’t find an item at the index you requested.\n",
    "If an index error occurs in your program, try adjusting the index you’re\n",
    "asking for by one. Then run the program again to see if the results are\n",
    "correct."
   ]
  },
  {
   "cell_type": "code",
   "execution_count": 6,
   "id": "fb86521f",
   "metadata": {},
   "outputs": [
    {
     "name": "stdout",
     "output_type": "stream",
     "text": [
      "suzuki\n"
     ]
    }
   ],
   "source": [
    "# Keep in mind that whenever you want to access the last item in a list, you should use the index -1. This will always work, even if your list has changed size since the last time you accessed it:\n",
    "\n",
    "motorcycles = ['honda', 'yamaha', 'suzuki']\n",
    "print(motorcycles[-1]) # The index -1 always returns the last item in a list, in this case the value'suzuki': suzuki\n",
    "\n",
    "\n",
    "# The only time this approach will cause an error is when you request the last item from an empty list:\n",
    "\n",
    "# motorcycles = []\n",
    "# print(motorcycles[-1])  # this causes an error becouse the lsit is empty"
   ]
  }
 ],
 "metadata": {
  "kernelspec": {
   "display_name": "Python 3",
   "language": "python",
   "name": "python3"
  },
  "language_info": {
   "codemirror_mode": {
    "name": "ipython",
    "version": 3
   },
   "file_extension": ".py",
   "mimetype": "text/x-python",
   "name": "python",
   "nbconvert_exporter": "python",
   "pygments_lexer": "ipython3",
   "version": "3.13.5"
  }
 },
 "nbformat": 4,
 "nbformat_minor": 5
}
