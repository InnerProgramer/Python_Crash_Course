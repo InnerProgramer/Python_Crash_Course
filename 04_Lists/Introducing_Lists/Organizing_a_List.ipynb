{
 "cells": [
  {
   "cell_type": "markdown",
   "id": "4730f39c",
   "metadata": {},
   "source": [
    "# **Organizing a List**\n",
    "Often, your lists will be created in an unpredictable order, because you can’t\n",
    "always control the order in which your users provide their data. Although\n",
    "this is unavoidable in most circumstances, you’ll frequently want to present\n",
    "your information in a particular order. Sometimes you’ll want to preserve\n",
    "the original order of your list, and other times you’ll want to change the\n",
    "original order. Python provides a number of different ways to organize your\n",
    "lists, depending on the situation."
   ]
  },
  {
   "cell_type": "markdown",
   "id": "03eb3943",
   "metadata": {},
   "source": [
    "### Sorting a List Permanently with the sort() Method"
   ]
  },
  {
   "cell_type": "code",
   "execution_count": 5,
   "id": "8248fbf4",
   "metadata": {},
   "outputs": [
    {
     "name": "stdout",
     "output_type": "stream",
     "text": [
      "['audi', 'bmw', 'subaru', 'toyota']\n"
     ]
    }
   ],
   "source": [
    "# Python’s sort() method makes it relatively easy to sort a list. Imagine we have a list of cars and want to change the order of the list to store them alphabetically. To keep the task simple, let’s assume that all the values in the list are lowercase:\n",
    "\n",
    "cars = ['bmw', 'audi', 'toyota', 'subaru']\n",
    "cars.sort()\n",
    "print(cars)                                     # The sort() method changes the order of the list permanently. The cars arenow in alphabetical order, and we can never revert to the original order:"
   ]
  },
  {
   "cell_type": "markdown",
   "id": "1ad9683b",
   "metadata": {},
   "source": [
    "### You can also sort this list in reverse-alphabetical order by passing the argument reverse=True to the sort() method. The following example sorts the list of cars in reverse-alphabetical order:"
   ]
  },
  {
   "cell_type": "code",
   "execution_count": null,
   "id": "24737e4f",
   "metadata": {},
   "outputs": [
    {
     "name": "stdout",
     "output_type": "stream",
     "text": [
      "['toyota', 'subaru', 'bmw', 'audi']\n"
     ]
    }
   ],
   "source": [
    "# Again, the order of the list is permanently changed:\n",
    "\n",
    "cars = ['bmw', 'audi', 'toyota', 'subaru']\n",
    "cars.sort(reverse=True)\n",
    "print(cars)                                         "
   ]
  },
  {
   "cell_type": "markdown",
   "id": "d0ea532b",
   "metadata": {},
   "source": [
    "### Sorting a List Temporarily with the sorted() Function\n",
    "To maintain the original order of a list but present it in a sorted order, you\n",
    "can use the sorted() function. The sorted() function lets you display your\n",
    "list in a particular order, but doesn’t affect the actual order of the list."
   ]
  },
  {
   "cell_type": "code",
   "execution_count": null,
   "id": "c7684054",
   "metadata": {},
   "outputs": [
    {
     "name": "stdout",
     "output_type": "stream",
     "text": [
      "Here is the original list:\n",
      "['bmw', 'audi', 'toyota', 'subaru']\n",
      "\n",
      "Here is the sorted list:\n",
      "['audi', 'bmw', 'subaru', 'toyota']\n",
      "\n",
      "Here is the original list again:\n",
      "['bmw', 'audi', 'toyota', 'subaru']\n"
     ]
    }
   ],
   "source": [
    "cars = ['bmw', 'audi', 'toyota', 'subaru']\n",
    "\n",
    "print(\"Here is the original list:\")\n",
    "print(cars)\n",
    "\n",
    "print(\"\\nHere is the sorted list:\")\n",
    "print(sorted(cars))\n",
    "\n",
    "print(\"\\nHere is the original list again:\")\n",
    "print(cars)                                     # Notice that the list still exists in its original order after the sorted()\n",
    "                                                # function has been used. The sorted() function can also accept a\n",
    "                                                # reverse=True argument if you want to display a list in reverse-alphabetical\n",
    "                                                # order."
   ]
  }
 ],
 "metadata": {
  "kernelspec": {
   "display_name": "Python 3",
   "language": "python",
   "name": "python3"
  },
  "language_info": {
   "codemirror_mode": {
    "name": "ipython",
    "version": 3
   },
   "file_extension": ".py",
   "mimetype": "text/x-python",
   "name": "python",
   "nbconvert_exporter": "python",
   "pygments_lexer": "ipython3",
   "version": "3.13.5"
  }
 },
 "nbformat": 4,
 "nbformat_minor": 5
}
