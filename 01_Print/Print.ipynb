{
 "cells": [
  {
   "cell_type": "markdown",
   "id": "f8e314c1",
   "metadata": {},
   "source": [
    "# **Printing Hello World!**"
   ]
  },
  {
   "cell_type": "code",
   "execution_count": null,
   "id": "95ff22e8",
   "metadata": {},
   "outputs": [],
   "source": [
    "# This is how you can print \"Hello World!\" in Python\n",
    "print(\"Hello World!\")"
   ]
  }
 ],
 "metadata": {
  "kernelspec": {
   "display_name": "Python 3",
   "language": "python",
   "name": "python3"
  },
  "language_info": {
   "name": "python",
   "version": "3.13.5"
  }
 },
 "nbformat": 4,
 "nbformat_minor": 5
}
