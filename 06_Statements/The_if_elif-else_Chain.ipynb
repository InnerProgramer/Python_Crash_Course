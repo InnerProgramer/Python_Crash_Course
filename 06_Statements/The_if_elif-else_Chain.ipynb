{
 "cells": [
  {
   "cell_type": "markdown",
   "id": "07aeeddc",
   "metadata": {},
   "source": [
    "# The **if-elif-else Chain**\n",
    "Often, you’ll need to test more than two possible situations, and to evaluate\n",
    "these you can use Python’s if-elif-else syntax. Python executes only one\n",
    "block in an if-elif-else chain. It runs each conditional test in order, until\n",
    "one passes. When a test passes, the code following that test is executed and\n",
    "Python skips the rest of the tests.\n",
    "Many real-world situations involve more than two possible conditions. For\n",
    "example, consider an amusement park that charges different rates for\n",
    "\n",
    "different age groups:\n",
    "Admission for anyone under age 4 is free.\n",
    "Admission for anyone between the ages of 4 and 18 is $25.\n",
    "Admission for anyone age 18 or older is $40.\n",
    "\n",
    "How can we use an if statement to determine a person’s admission rate?\n",
    "The following code tests for the age group of a person and then prints an\n",
    "admission price message:"
   ]
  },
  {
   "cell_type": "code",
   "execution_count": null,
   "id": "46aedb3a",
   "metadata": {},
   "outputs": [
    {
     "name": "stdout",
     "output_type": "stream",
     "text": [
      "Your admission cost 25$\n"
     ]
    }
   ],
   "source": [
    "age = 16\n",
    "\n",
    "if age < 4:\n",
    "    print(\"Your admission cost is $0.\")\n",
    "elif age < 18:\n",
    "    print(\"Your admission cost is $25.\")\n",
    "else:\n",
    "    print(\"Your admission cost is $40.\")"
   ]
  }
 ],
 "metadata": {
  "kernelspec": {
   "display_name": "Python 3",
   "language": "python",
   "name": "python3"
  },
  "language_info": {
   "codemirror_mode": {
    "name": "ipython",
    "version": 3
   },
   "file_extension": ".py",
   "mimetype": "text/x-python",
   "name": "python",
   "nbconvert_exporter": "python",
   "pygments_lexer": "ipython3",
   "version": "3.13.5"
  }
 },
 "nbformat": 4,
 "nbformat_minor": 5
}
