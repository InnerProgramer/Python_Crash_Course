{
 "cells": [
  {
   "cell_type": "markdown",
   "id": "07aeeddc",
   "metadata": {},
   "source": [
    "# The **if-elif-else Chain**\n",
    "Often, you’ll need to test more than two possible situations, and to evaluate\n",
    "these you can use Python’s if-elif-else syntax. Python executes only one\n",
    "block in an if-elif-else chain. It runs each conditional test in order, until\n",
    "one passes. When a test passes, the code following that test is executed and\n",
    "Python skips the rest of the tests.\n",
    "Many real-world situations involve more than two possible conditions. For\n",
    "example, consider an amusement park that charges different rates for\n",
    "\n",
    "different age groups:\n",
    "Admission for anyone under age 4 is free.\n",
    "Admission for anyone between the ages of 4 and 18 is $25.\n",
    "Admission for anyone age 18 or older is $40.\n",
    "\n",
    "How can we use an if statement to determine a person’s admission rate?\n",
    "The following code tests for the age group of a person and then prints an\n",
    "admission price message:"
   ]
  },
  {
   "cell_type": "code",
   "execution_count": null,
   "id": "46aedb3a",
   "metadata": {},
   "outputs": [
    {
     "name": "stdout",
     "output_type": "stream",
     "text": [
      "Your admission cost 25$\n"
     ]
    }
   ],
   "source": [
    "age = 16\n",
    "\n",
    "if age < 4:\n",
    "    print(\"Your admission cost is $0.\")\n",
    "elif age < 18:\n",
    "    print(\"Your admission cost is $25.\")\n",
    "else:\n",
    "    print(\"Your admission cost is $40.\")"
   ]
  },
  {
   "cell_type": "markdown",
   "id": "f9c71346",
   "metadata": {},
   "source": [
    "# **2. More Conditional Tests:** \n",
    "You don’t have to limit the number of tests you create to\n",
    "10. If you want to try more comparisons, write more tests and add them to\n",
    "conditional_tests.py. Have at least one True and one False result for each of the\n",
    "following:\n",
    "Tests for equality and inequality with strings\n",
    "Tests using the lower() method\n",
    "Numerical tests involving equality and inequality, greater than and less than, greater\n",
    "than or equal to, and less than or equal to\n",
    "Tests using the and keyword and the or keyword\n",
    "Test whether an item is in a list\n",
    "Test whether an item is not in a list\n"
   ]
  },
  {
   "cell_type": "code",
   "execution_count": null,
   "id": "e610d6cc",
   "metadata": {},
   "outputs": [],
   "source": [
    "# Equality and inequality\n",
    "\"apple\" == \"apple\"  # True\n",
    "\"apple\" == \"banana\" # False\n",
    "# ------------------------------\n",
    "\"apple\" != \"banana\" # True\n",
    "\"apple\" != \"apple\"  # False\n",
    "\n",
    "\n",
    "# Using lower() method\n",
    "\"Hello\".lower() == \"hello\" # True\n",
    "\"Hello\".lower() == \"hi\"    # False\n",
    "\n",
    "\n",
    "# Numerical tests\n",
    "3 == 3 # True\n",
    "3 == 2 # False\n",
    "# -------------------------------\n",
    "3 != 1 # True\n",
    "3 != 3 # False\n",
    "# -------------------------------\n",
    "10>3  # True\n",
    "10>12 # False\n",
    "# -------------------------------\n",
    "10>2  # True\n",
    "10<3  # False\n",
    "# -------------------------------\n",
    "5 >= 5 # True\n",
    "5 >= 2 # True\n",
    "5 >= 6 # False\n",
    "# -------------------------------\n",
    "5 <= 5 # True\n",
    "5 <= 6 # True\n",
    "5 <= 2 # False\n",
    "\n",
    "# Using and and or\n",
    "(5 > 3 and 3 < 5) # True\n",
    "(5 > 6 and 5 < 2) # False\n",
    "# -------------------------------\n",
    "(5 > 3 or 3 < 5) # True\n",
    "(5 > 6 or 5 < 2) # False\n",
    "\n",
    "# Item in a list\n",
    "\"cat\" in ['cat', 'rabbit', 'fox'] # True\n",
    "\"dog\" in ['cat', 'rabbit', 'fox'] # False\n",
    "# -------------------------------\n",
    "\"lion\" not in ['cat', 'rabbit', 'fox'] # True\n",
    "\"cat\" not in ['cat', 'rabbit', 'fox']  # False\n"
   ]
  }
 ],
 "metadata": {
  "kernelspec": {
   "display_name": "Python 3",
   "language": "python",
   "name": "python3"
  },
  "language_info": {
   "codemirror_mode": {
    "name": "ipython",
    "version": 3
   },
   "file_extension": ".py",
   "mimetype": "text/x-python",
   "name": "python",
   "nbconvert_exporter": "python",
   "pygments_lexer": "ipython3",
   "version": "3.13.5"
  }
 },
 "nbformat": 4,
 "nbformat_minor": 5
}
