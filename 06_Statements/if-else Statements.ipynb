{
 "cells": [
  {
   "cell_type": "markdown",
   "id": "a1ef1a6a",
   "metadata": {},
   "source": [
    "# **if-else Statements**\n",
    "Often, you’ll want to take one action when a conditional test passes and a\n",
    "different action in all other cases. Python’s if-else syntax makes this\n",
    "possible. An if-else block is similar to a simple if statement, but the else\n",
    "statement allows you to define an action or set of actions that are executed\n",
    "when the conditional test fails.\n",
    "We’ll display the same message we had previously if the person is old\n",
    "enough to vote, but this time we’ll add a message for anyone who is not old\n",
    "enough to vote:\n"
   ]
  },
  {
   "cell_type": "code",
   "execution_count": 1,
   "id": "e2dd80f5",
   "metadata": {},
   "outputs": [
    {
     "name": "stdout",
     "output_type": "stream",
     "text": [
      "Sorry, You are too young to vote.\n",
      "Please register to vote as soon as you turn 18!\n"
     ]
    }
   ],
   "source": [
    "age = 17\n",
    "if age == 18:\n",
    "    print(\"You are old enough to vote!\")\n",
    "    print(\"Have you registed\")\n",
    "else:\n",
    "    print(\"Sorry, You are too young to vote.\")\n",
    "    print(\"Please register to vote as soon as you turn 18!\")\n",
    "\n",
    "# If the conditional test 1 passes, the first block of indented prin()calls is\n",
    "# executed. If the test evaluates to False, the else block 2 is executed.\n",
    "# Because age is less than 18 this time, the conditional test fails and the code\n",
    "# in the else block is executed:\n"
   ]
  },
  {
   "cell_type": "markdown",
   "id": "cc894413",
   "metadata": {},
   "source": [
    "This code works because it has only two possible situations to evaluate: a\n",
    "person is either old enough to vote or not old enough to vote. The if-else\n",
    "structure works well in situations in which you want Python to always\n",
    "execute one of two possible actions. In a simple if-else chain like this,\n",
    "one of the two actions will always be executed."
   ]
  }
 ],
 "metadata": {
  "kernelspec": {
   "display_name": "Python 3",
   "language": "python",
   "name": "python3"
  },
  "language_info": {
   "codemirror_mode": {
    "name": "ipython",
    "version": 3
   },
   "file_extension": ".py",
   "mimetype": "text/x-python",
   "name": "python",
   "nbconvert_exporter": "python",
   "pygments_lexer": "ipython3",
   "version": "3.13.5"
  }
 },
 "nbformat": 4,
 "nbformat_minor": 5
}
