{
 "cells": [
  {
   "cell_type": "markdown",
   "id": "86c348cd",
   "metadata": {},
   "source": [
    "# **if Statements**\n",
    "When you understand conditional tests, you can start writing if statements.\n",
    "Several different kinds of if statements exist, and your choice of which to\n",
    "use depends on the number of conditions you need to test. You saw several\n",
    "examples of if statements in the discussion about conditional tests, but now\n",
    "let’s dig deeper into the topic."
   ]
  },
  {
   "cell_type": "code",
   "execution_count": null,
   "id": "54860276",
   "metadata": {},
   "outputs": [],
   "source": [
    "# Simple if Statements The simplest kind of if statement has one test and one action:\n",
    "\n",
    "l = 'Programmer'\n",
    "if l == 'Programmer':\n",
    "    print(\"There is Programmer\")"
   ]
  },
  {
   "cell_type": "markdown",
   "id": "58843e05",
   "metadata": {},
   "source": [
    "You can put any conditional test in the first line and just about any action in\n",
    "the indented block following the test. If the conditional test evaluates to\n",
    "True, Python executes the code following the if statement. If the test\n",
    "evaluates to False, Python ignores the code following the if statement.\n",
    "Let’s say we have a variable representing a person’s age, and we want to\n",
    "know if that person is old enough to vote. The following code tests whether\n",
    "the person can vote:\n"
   ]
  },
  {
   "cell_type": "code",
   "execution_count": 1,
   "id": "c1b3cb35",
   "metadata": {},
   "outputs": [],
   "source": [
    "age = 19\n",
    "if age <= 18:\n",
    "    print(\"You are old enough to vote!\")"
   ]
  },
  {
   "cell_type": "markdown",
   "id": "c296cf0f",
   "metadata": {},
   "source": [
    "Python checks to see whether the value of age is greater than or equal to 18.\n",
    "It is, so Python executes the indented print() call:\n",
    "You are old enough to vote!\n",
    "Indentation plays the same role in if statements as it did in for loops. All\n",
    "indented lines after an if statement will be executed if the test passes, and\n",
    "the entire block of indented lines will be ignored if the test does not pass.\n",
    "You can have as many lines of code as you want in the block following the\n",
    "if statement. Let’s add another line of output if the person is old enough to\n",
    "vote, asking if the individual has registered to vote yet:"
   ]
  },
  {
   "cell_type": "code",
   "execution_count": null,
   "id": "98fe1c03",
   "metadata": {},
   "outputs": [],
   "source": [
    "age = 19\n",
    "if age <= 18:\n",
    "    print(\"You are old enough to vote!\")\n",
    "    print(\"Have you registered to vote yet?\")"
   ]
  },
  {
   "cell_type": "markdown",
   "id": "75c39d0a",
   "metadata": {},
   "source": [
    "The conditional test passes, and both print() calls are indented, so both\n",
    "lines are printed:\n",
    "You are old enough to vote!\n",
    "Have you registered to vote yet?\n",
    "If the value of age is less than 18, this program would produce no output."
   ]
  }
 ],
 "metadata": {
  "kernelspec": {
   "display_name": "Python 3",
   "language": "python",
   "name": "python3"
  },
  "language_info": {
   "codemirror_mode": {
    "name": "ipython",
    "version": 3
   },
   "file_extension": ".py",
   "mimetype": "text/x-python",
   "name": "python",
   "nbconvert_exporter": "python",
   "pygments_lexer": "ipython3",
   "version": "3.13.5"
  }
 },
 "nbformat": 4,
 "nbformat_minor": 5
}
