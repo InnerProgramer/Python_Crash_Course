{
 "cells": [
  {
   "cell_type": "markdown",
   "id": "25aeaf9e",
   "metadata": {},
   "source": [
    "# Using Multiple elif Blocks\n",
    "You can use as many elif blocks in your code as you like. For example, if\n",
    "the amusement park were to implement a discount for seniors, you could\n",
    "add one more conditional test to the code to determine whether someone\n",
    "qualifies for the senior discount. Let’s say that anyone 65 or older pays half\n",
    "the regular admission, or $20:"
   ]
  },
  {
   "cell_type": "code",
   "execution_count": 7,
   "id": "6df9b583",
   "metadata": {},
   "outputs": [
    {
     "name": "stdout",
     "output_type": "stream",
     "text": [
      "Your admission cost is $25.\n"
     ]
    }
   ],
   "source": [
    "age = 12 \n",
    "\n",
    "if age < 4:\n",
    "    price = 0\n",
    "elif age < 19:\n",
    "    price = 25\n",
    "elif age < 65:\n",
    "    price = 40\n",
    "else:\n",
    "    price = 20\n",
    "\n",
    "print(f\"Your admission cost is ${price}.\")"
   ]
  },
  {
   "cell_type": "markdown",
   "id": "f9431a75",
   "metadata": {},
   "source": [
    "Most of this code is unchanged. The second elif block now checks to\n",
    "make sure a person is less than age 65 before assigning them the full\n",
    "admission rate of $40. Notice that the value assigned in the else block\n",
    "needs to be changed to $20, because the only ages that make it to this block\n",
    "are for people 65 or older"
   ]
  },
  {
   "cell_type": "markdown",
   "id": "a6e143f6",
   "metadata": {},
   "source": [
    "### Omitting the else Block\n",
    "Python does not require an else block at the end of an if-elif chain.\n",
    "Sometimes, an else block is useful. Other times, it’s clearer to use an\n",
    "additional elif statement that catches the specific condition of interest:\n"
   ]
  },
  {
   "cell_type": "code",
   "execution_count": 9,
   "id": "2e368166",
   "metadata": {},
   "outputs": [
    {
     "name": "stdout",
     "output_type": "stream",
     "text": [
      "Your admission cost is $25.\n"
     ]
    }
   ],
   "source": [
    "age = 12 \n",
    "\n",
    "if age < 4:\n",
    "    price = 0\n",
    "\n",
    "elif age < 18:\n",
    "    price = 25\n",
    "\n",
    "elif  age < 65:\n",
    "    price = 40\n",
    "\n",
    "elif age >= 65:\n",
    "    price = 20\n",
    "\n",
    "print(f\"Your admission cost is ${price}.\")"
   ]
  },
  {
   "cell_type": "markdown",
   "id": "c249f04e",
   "metadata": {},
   "source": [
    "The final elif block assigns a price of $20 when the person is 65 or older,\n",
    "which is a little clearer than the general else block. With this change, every\n",
    "block of code must pass a specific test in order to be executed.\n",
    "The else block is a catchall statement. It matches any condition that wasn’t\n",
    "matched by a specific if or elif test, and that can sometimes include\n",
    "invalid or even malicious data. If you have a specific final condition you’re\n",
    "testing for, consider using a final elif block and omit the else block. As a\n",
    "result, you’ll be more confident that your code will run only under the\n",
    "correct conditions.\n"
   ]
  },
  {
   "cell_type": "markdown",
   "id": "2bd01e46",
   "metadata": {},
   "source": [
    "### Testing Multiple Conditions\n",
    "The if-elif-else chain is powerful, but it’s only appropriate to use when\n",
    "you just need one test to pass. As soon as Python finds one test that passes,\n",
    "it skips the rest of the tests. This behavior is beneficial, because it’s efficient\n",
    "and allows you to test for one specific condition.\n",
    "However, sometimes it’s important to check all conditions of interest. In\n",
    "this case, you should use a series of simple if statements with no elif or\n",
    "else blocks. This technique makes sense when more than one condition\n",
    "could be True, and you want to act on every condition that is True.\n",
    "Let’s reconsider the pizzeria example. If someone requests a two-topping\n",
    "pizza, you’ll need to be sure to include both toppings on their pizza:\n"
   ]
  },
  {
   "cell_type": "code",
   "execution_count": 14,
   "id": "fc839a76",
   "metadata": {},
   "outputs": [
    {
     "name": "stdout",
     "output_type": "stream",
     "text": [
      "Adding mushrooms.\n",
      "Adding extra cheese.\n",
      "\n",
      "Finished making your pizza!\n"
     ]
    }
   ],
   "source": [
    "requested_Toppings = ['mushrooms', 'extra cheese']\n",
    "\n",
    "if 'mushrooms' in requested_Toppings:\n",
    "    print(f\"Adding mushrooms.\")\n",
    "\n",
    "if 'pepperoni' in requested_Toppings:\n",
    "    print(\"Adding pepperoni.\")\n",
    "\n",
    "if 'extra cheese' in requested_Toppings:\n",
    "    print(\"Adding extra cheese.\")\n",
    "\n",
    "print(\"\\nFinished making your pizza!\")"
   ]
  },
  {
   "cell_type": "markdown",
   "id": "665c133b",
   "metadata": {},
   "source": [
    "We start with a list containing the requested toppings. The first if statement\n",
    "checks to see whether the person requested mushrooms on their pizza. If so,\n",
    "a message is printed confirming that topping. The test for pepperoni is\n",
    "another simple if statement, not an elif or else statement, so this test is\n",
    "run regardless of whether the previous test passed or not. The last if\n",
    "statement checks whether extra cheese was requested, regardless of the\n",
    "results from the first two tests. These three independent tests are executed\n",
    "every time this program is run.\n",
    "Because every condition in this example is evaluated, both mushrooms and\n",
    "extra cheese are added to the pizza:\n"
   ]
  },
  {
   "cell_type": "markdown",
   "id": "e1327006",
   "metadata": {},
   "source": [
    "This code would not work properly if we used an if-elif-else block,\n",
    "because the code would stop running after only one test passes. Here’s what\n",
    "that would look like:\n"
   ]
  },
  {
   "cell_type": "code",
   "execution_count": 15,
   "id": "a320110f",
   "metadata": {},
   "outputs": [
    {
     "name": "stdout",
     "output_type": "stream",
     "text": [
      "Adding mushrooms.\n",
      "\n",
      "Finished making your pizza!\n"
     ]
    }
   ],
   "source": [
    "requested_Toppings = ['mushrooms', 'extra cheese']\n",
    "\n",
    "if 'mushrooms' in requested_Toppings:\n",
    "    print(\"Adding mushrooms.\")\n",
    "elif 'pepperoni' in requested_Toppings:\n",
    "    print(\"Adding pepperoni.\")\n",
    "elif 'extra cheese' in requested_Toppings:\n",
    "    print(\"Adding extra cheese.\")\n",
    "\n",
    "print(\"\\nFinished making your pizza!\")"
   ]
  },
  {
   "cell_type": "markdown",
   "id": "b45d8c3c",
   "metadata": {},
   "source": [
    "The test for 'mushrooms' is the first test to pass, so mushrooms are added to\n",
    "the pizza. However, the values 'extra cheese' and 'pepperoni' are never\n",
    "checked, because Python doesn’t run any tests beyond the first test that\n",
    "passes in an if-elif-else chain. The customer’s first topping will be\n",
    "added, but all of their other toppings will be misse"
   ]
  }
 ],
 "metadata": {
  "kernelspec": {
   "display_name": "Python 3",
   "language": "python",
   "name": "python3"
  },
  "language_info": {
   "codemirror_mode": {
    "name": "ipython",
    "version": 3
   },
   "file_extension": ".py",
   "mimetype": "text/x-python",
   "name": "python",
   "nbconvert_exporter": "python",
   "pygments_lexer": "ipython3",
   "version": "3.13.5"
  }
 },
 "nbformat": 4,
 "nbformat_minor": 5
}
