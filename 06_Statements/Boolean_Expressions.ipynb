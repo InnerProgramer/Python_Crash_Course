{
 "cells": [
  {
   "cell_type": "markdown",
   "id": "21d79397",
   "metadata": {},
   "source": [
    "# **Boolean Expressions**\n",
    "As you learn more about programming, you’ll hear the term Boolean\n",
    "expression at some point. A Boolean expression is just another name for a\n",
    "conditional test. A Boolean value is either True or False, just like the value\n",
    "of a conditional expression after it has been evaluated.\n",
    "Boolean values are often used to keep track of certain conditions, such as\n",
    "whether a game is running or whether a user can edit certain content on a\n",
    "website:"
   ]
  },
  {
   "cell_type": "code",
   "execution_count": null,
   "id": "57145ae4",
   "metadata": {},
   "outputs": [],
   "source": [
    "game_active = True\n",
    "can_edit = False\n",
    "\n",
    "# Boolean values provide an efficient way to track the state of a program or a\n",
    "# particular condition that is important in your program"
   ]
  }
 ],
 "metadata": {
  "language_info": {
   "name": "python"
  }
 },
 "nbformat": 4,
 "nbformat_minor": 5
}
