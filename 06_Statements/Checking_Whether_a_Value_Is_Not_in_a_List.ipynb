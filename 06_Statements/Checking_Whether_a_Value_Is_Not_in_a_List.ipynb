{
 "cells": [
  {
   "cell_type": "markdown",
   "id": "94cf8066",
   "metadata": {},
   "source": [
    "# **Checking Whether a Value Is Not in a List**\n",
    "Other times, it’s important to know if a value does not appear in a list. You\n",
    "can use the keyword not in this situation. For example, consider a list of\n",
    "users who are banned from commenting in a forum. You can check whether\n",
    "a user has been banned before allowing that person to submit a comment:\n"
   ]
  },
  {
   "cell_type": "code",
   "execution_count": null,
   "id": "a0ca5791",
   "metadata": {},
   "outputs": [
    {
     "name": "stdout",
     "output_type": "stream",
     "text": [
      "Marie, You can post a response if you wish.\n"
     ]
    }
   ],
   "source": [
    "banned_users = ['andrew', 'carolina', 'david']\n",
    "user = 'marie'\n",
    "\n",
    "if user not in banned_users:\n",
    "    print(f\"{user.title()}, You can post a response if you wish.\")\n",
    "\n",
    "# The if statement here reads quite clearly. If the value of user is not in the\n",
    "# list banned_users, Python returns True and executes the indented line.\n",
    "# The user 'marie' is not in the list banned_users, so she sees a message\n",
    "# inviting her to post a response:"
   ]
  }
 ],
 "metadata": {
  "kernelspec": {
   "display_name": "Python 3",
   "language": "python",
   "name": "python3"
  },
  "language_info": {
   "codemirror_mode": {
    "name": "ipython",
    "version": 3
   },
   "file_extension": ".py",
   "mimetype": "text/x-python",
   "name": "python",
   "nbconvert_exporter": "python",
   "pygments_lexer": "ipython3",
   "version": "3.13.5"
  }
 },
 "nbformat": 4,
 "nbformat_minor": 5
}
