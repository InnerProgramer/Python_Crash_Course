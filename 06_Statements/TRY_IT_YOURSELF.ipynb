{
 "cells": [
  {
   "cell_type": "markdown",
   "id": "56e035ad",
   "metadata": {},
   "source": [
    "# **1. Conditional Tests:**\n",
    "Write a series of conditional tests. Print a statement describing\n",
    "each test and your prediction for the results of each test. Your code should look\n",
    "something like this:\n",
    "\n",
    "car = 'subaru'\n",
    "print(\"Is car == 'subaru'? I predict True.\")\n",
    "print(car == 'subaru')\n",
    "print(\"\\nIs car == 'audi'? I predict False.\")\n",
    "print(car == 'audi')\n",
    "\n",
    "Look closely at your results, and make sure you understand why each line evaluates to\n",
    "True or False.\n",
    "Create at least 10 tests. Have at least 5 tests evaluate to True and another 5 tests\n",
    "evaluate to False."
   ]
  },
  {
   "cell_type": "code",
   "execution_count": null,
   "id": "b97f3048",
   "metadata": {},
   "outputs": [
    {
     "name": "stdout",
     "output_type": "stream",
     "text": [
      "Is car == 'Rangrover'I predict True\n",
      "True\n",
      "\n",
      "Is car == 'audi'I predict Fales\n",
      "False\n",
      "Is fruit == 'Rangrover'I predict True\n",
      "True\n",
      "\n",
      "Is car == 'audi'I predict Fales\n",
      "False\n"
     ]
    }
   ],
   "source": [
    "# 1. Conditiional Test\n",
    "car = 'Rangrover'\n",
    "print(\"Is car == 'Rangrover' I predict True\")\n",
    "print(car == 'Rangrover')\n",
    "\n",
    "print(\"\\nIs car == 'audi' I predict Fales\")\n",
    "print(car == 'audi')"
   ]
  },
  {
   "cell_type": "code",
   "execution_count": null,
   "id": "b463ecd7",
   "metadata": {},
   "outputs": [],
   "source": [
    "# 2. Conditiional Test\n",
    "fruit = 'Apple'\n",
    "print(\"Is fruit == 'Rangrover' I predict True\")\n",
    "print(fruit == 'Apple')\n",
    "\n",
    "print(\"\\nIs car == 'audi' I predict Fales\")\n",
    "print(fruit == 'Banana')"
   ]
  },
  {
   "cell_type": "code",
   "execution_count": null,
   "id": "0a6dab48",
   "metadata": {},
   "outputs": [
    {
     "name": "stdout",
     "output_type": "stream",
     "text": [
      "Is animal == 'Dog'I predict True\n",
      "True\n",
      "\n",
      "Is animal == 'cat'I predict Fales\n",
      "False\n"
     ]
    }
   ],
   "source": [
    "# 3. Conditiional Test\n",
    "animal = 'Dog'\n",
    "print(\"Is animal == 'Dog' I predict True\")\n",
    "print(animal == 'Dog')\n",
    "\n",
    "print(\"\\nIs animal == 'cat' I predict Fales\")\n",
    "print(animal == 'cat')"
   ]
  },
  {
   "cell_type": "code",
   "execution_count": null,
   "id": "93b608f6",
   "metadata": {},
   "outputs": [
    {
     "name": "stdout",
     "output_type": "stream",
     "text": [
      "Is phone == 'Vivo'I predict True\n",
      "True\n",
      "\n",
      "Is phone == 'Vivo'I predict Fales\n",
      "True\n"
     ]
    }
   ],
   "source": [
    "# 4. Conditiional Test\n",
    "phone = 'Vivo'\n",
    "print(\"Is phone == 'Vivo' I predict True\")\n",
    "print(phone == 'Vivo')\n",
    "\n",
    "print(\"\\nIs phone == 'Nokia' I predict Fales\")\n",
    "print(phone == 'Nokia')"
   ]
  },
  {
   "cell_type": "code",
   "execution_count": 8,
   "id": "64a6882d",
   "metadata": {},
   "outputs": [
    {
     "name": "stdout",
     "output_type": "stream",
     "text": [
      "Is Ram == '12GB' I predict True\n",
      "True\n",
      "\n",
      "Is Ram == '128GB' I predict Fales\n",
      "False\n"
     ]
    }
   ],
   "source": [
    "# 5. Conditiional Test\n",
    "Ram = '12GB'\n",
    "print(\"Is Ram == '12GB' I predict True\")\n",
    "print(Ram == '12GB')\n",
    "\n",
    "print(\"\\nIs Ram == '128GB' I predict Fales\")\n",
    "print(Ram == '128GB')"
   ]
  }
 ],
 "metadata": {
  "kernelspec": {
   "display_name": "Python 3",
   "language": "python",
   "name": "python3"
  },
  "language_info": {
   "codemirror_mode": {
    "name": "ipython",
    "version": 3
   },
   "file_extension": ".py",
   "mimetype": "text/x-python",
   "name": "python",
   "nbconvert_exporter": "python",
   "pygments_lexer": "ipython3",
   "version": "3.13.5"
  }
 },
 "nbformat": 4,
 "nbformat_minor": 5
}
