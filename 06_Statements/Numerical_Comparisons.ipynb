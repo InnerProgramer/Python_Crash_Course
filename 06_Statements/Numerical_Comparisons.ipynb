{
 "cells": [
  {
   "cell_type": "markdown",
   "id": "384ac2b6",
   "metadata": {},
   "source": [
    "# **Numerical Comparisons**\n",
    "Testing numerical values is pretty straightforward. For example, the\n",
    "following code checks whether a person is 18 years old:"
   ]
  },
  {
   "cell_type": "code",
   "execution_count": 1,
   "id": "5bc52db3",
   "metadata": {},
   "outputs": [
    {
     "data": {
      "text/plain": [
       "True"
      ]
     },
     "execution_count": 1,
     "metadata": {},
     "output_type": "execute_result"
    }
   ],
   "source": [
    "age = 18\n",
    "age == 18"
   ]
  },
  {
   "cell_type": "markdown",
   "id": "56f27cd9",
   "metadata": {},
   "source": [
    "You can also test to see if two numbers are not equal. For example, the\n",
    "following code prints a message if the given answer is not correct:"
   ]
  },
  {
   "cell_type": "code",
   "execution_count": null,
   "id": "3f40bc40",
   "metadata": {},
   "outputs": [
    {
     "name": "stdout",
     "output_type": "stream",
     "text": [
      "The answer is not correct\n"
     ]
    }
   ],
   "source": [
    "answer =  10\n",
    "if answer != 34:\n",
    "    print(\"The answer is not correct\")\n",
    "\n",
    "# Also we can make a program like this through using the if and Numerical Comparisons\n",
    "ans = 0\n",
    "u = int(input(\"Enter a Number: \"))\n",
    "\n",
    "if u != 3:   \n",
    "    ans += u\n",
    "    print(f\"The answer is not correct {ans}\")\n",
    "else:        \n",
    "    ans = u\n",
    "    print(f\"The answer {ans} is correct\")"
   ]
  },
  {
   "cell_type": "markdown",
   "id": "8171e2c1",
   "metadata": {},
   "source": [
    "You can include various mathematical comparisons in your conditional\n",
    "statements as well, such as less than, less than or equal to, greater than, and\n",
    "greater than or equal to:"
   ]
  },
  {
   "cell_type": "code",
   "execution_count": 3,
   "id": "af5a8fc1",
   "metadata": {},
   "outputs": [
    {
     "data": {
      "text/plain": [
       "False"
      ]
     },
     "execution_count": 3,
     "metadata": {},
     "output_type": "execute_result"
    }
   ],
   "source": [
    "age = 19\n",
    "age < 21   # Return TRUE becouse the age is less than 21\n",
    "\n",
    "age <= 21  # Return TRUE becouse the age not less then or equal to the 21\n",
    "\n",
    "age > 21   # Return FALSE becouse the is not greater than 21\n",
    "\n",
    "age >= 21  # Return FALSE becouse the age is not equal of less than\n",
    "\n"
   ]
  },
  {
   "cell_type": "markdown",
   "id": "b759cb1f",
   "metadata": {},
   "source": [
    "## **Using and to Check Multiple Conditions**\n",
    "To check whether two conditions are both True simultaneously, use the\n",
    "keyword and to combine the two conditional tests; if each test passes, the\n",
    "overall expression evaluates to True. If either test fails or if both tests fail,\n",
    "the expression evaluates to False.\n",
    "For example, you can check whether two people are both over 21 by using\n",
    "the following test:\n"
   ]
  },
  {
   "cell_type": "code",
   "execution_count": 5,
   "id": "0559ff91",
   "metadata": {},
   "outputs": [
    {
     "data": {
      "text/plain": [
       "True"
      ]
     },
     "execution_count": 5,
     "metadata": {},
     "output_type": "execute_result"
    }
   ],
   "source": [
    "age_0 = 22\n",
    "age_1 = 18\n",
    "\n",
    "age_0 >= 21 and age_1 >= 21\n",
    "\n",
    "# Both is Fales becouse first one is saying that age_0 is less than or equal to 21 but the age_0 is 22 so that was fales\n",
    "# second one is saying that age_1 is greater then or equale to 21 but the age_1 is 18 to it is less then 21 so that's why this is also fales\n",
    "age_1 = 22\n",
    "age_0 >= 21 and age_1 >= 21 \n",
    "\n",
    "# These both are True becouse the age_0 is greater then the 21 so its true\n",
    "# and age_1 is geater then the 14 so its also True\n"
   ]
  },
  {
   "cell_type": "markdown",
   "id": "287f7966",
   "metadata": {},
   "source": [
    "First, we define two ages, age_0 and age_1. Then we check whether both\n",
    "ages are 21 or older. The test on the left passes, but the test on the right\n",
    "fails, so the overall conditional expression evaluates to False. We then\n",
    "change age_1 to 22. The value of age_1 is now greater than 21, so both\n",
    "individual tests pass, causing the overall conditional expression to evaluate\n",
    "as True.\n"
   ]
  },
  {
   "cell_type": "markdown",
   "id": "4d1a9fa4",
   "metadata": {},
   "source": [
    "To improve readability, you can use parentheses around the individual tests,\n",
    "but they are not required. If you use parentheses, your test would look like\n",
    "this:\n"
   ]
  },
  {
   "cell_type": "code",
   "execution_count": null,
   "id": "54590ff4",
   "metadata": {},
   "outputs": [],
   "source": [
    "age_0 = 22\n",
    "age_1 = 18\n",
    "age_0 >= 21 and age_1 >= 21\n",
    "\n",
    "\n",
    "\n",
    "age_1 = 18\n",
    "age_0 >= 21 and age_1 >= 21 "
   ]
  },
  {
   "cell_type": "markdown",
   "id": "7d668669",
   "metadata": {},
   "source": [
    "To find out whether a particular value is already in a list, use the keyword\n",
    "in. Let’s consider some code you might write for a pizzeria. We’ll make a\n",
    "list of toppings a customer has requested for a pizza and then check whether\n",
    "certain toppings are in the list.\n"
   ]
  },
  {
   "cell_type": "code",
   "execution_count": 8,
   "id": "684f2522",
   "metadata": {},
   "outputs": [
    {
     "data": {
      "text/plain": [
       "False"
      ]
     },
     "execution_count": 8,
     "metadata": {},
     "output_type": "execute_result"
    }
   ],
   "source": [
    "requested_toppings = ['mushrooms', 'onions', 'pineapple']\n",
    "'mushrooms' in requested_toppings  # True becouse the mushrooms are in the list\n",
    "\n",
    "'pepperoni' in requested_toppings  # Fales becouse the pepperoni is not in list"
   ]
  },
  {
   "cell_type": "markdown",
   "id": "fb282413",
   "metadata": {},
   "source": [
    "The keyword in tells Python to check for the existence of 'mushrooms' and\n",
    "'pepperoni' in the list requested_toppings. This technique is quite\n",
    "powerful because you can create a list of essential values, and then easily\n",
    "check whether the value you’re testing matches one of the values in the list.\n"
   ]
  }
 ],
 "metadata": {
  "kernelspec": {
   "display_name": "Python 3",
   "language": "python",
   "name": "python3"
  },
  "language_info": {
   "codemirror_mode": {
    "name": "ipython",
    "version": 3
   },
   "file_extension": ".py",
   "mimetype": "text/x-python",
   "name": "python",
   "nbconvert_exporter": "python",
   "pygments_lexer": "ipython3",
   "version": "3.13.5"
  }
 },
 "nbformat": 4,
 "nbformat_minor": 5
}
