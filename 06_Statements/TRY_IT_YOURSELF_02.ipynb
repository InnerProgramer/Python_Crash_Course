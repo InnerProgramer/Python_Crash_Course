{
 "cells": [
  {
   "cell_type": "markdown",
   "id": "2add2bcc",
   "metadata": {},
   "source": [
    "# **TRY IT YOURSELF**"
   ]
  },
  {
   "cell_type": "markdown",
   "id": "bd71fa67",
   "metadata": {},
   "source": [
    "## **Alien Colors #1:**\n",
    "Imagine an alien was just shot down in a game. Create a\n",
    "variable called alien_color and assign it a value of 'green', 'yellow', or 'red'.\n",
    "Write an if statement to test whether the alien’s color is green. If it is, print a message\n",
    "that the player just earned 5 points.\n",
    "Write one version of this program that passes the if test and another that fails. (The\n",
    "version that fails will have no output.)"
   ]
  },
  {
   "cell_type": "code",
   "execution_count": null,
   "id": "2826fc71",
   "metadata": {},
   "outputs": [
    {
     "name": "stdout",
     "output_type": "stream",
     "text": [
      "player just earned 5 points!.\n"
     ]
    }
   ],
   "source": [
    "alien_color = 'green'\n",
    "if alien_color == 'green':\n",
    "    print(\"The player just earned 5 points!.\")\n",
    "\n",
    "alien_color = 'red'\n",
    "if alien_color == 'green':\n",
    "    print(\"The player just earned 5 points!.\")"
   ]
  },
  {
   "cell_type": "markdown",
   "id": "931a3a60",
   "metadata": {},
   "source": [
    "## **Alien Colors #2:** \n",
    "Choose a color for an alien as you did in above Exercise, and write\n",
    "an if-else chain.\n",
    "If the alien’s color is green, print a statement that the player just earned 5 points for\n",
    "shooting the alien.\n",
    "If the alien’s color isn’t green, print a statement that the player just earned 10 points.\n",
    "Write one version of this program that runs the if block and another that runs the else\n",
    "block.\n"
   ]
  },
  {
   "cell_type": "code",
   "execution_count": null,
   "id": "60a0d90c",
   "metadata": {},
   "outputs": [
    {
     "name": "stdout",
     "output_type": "stream",
     "text": [
      "The player just earned 5 points.\n",
      "The player earned 10 points.\n"
     ]
    }
   ],
   "source": [
    "# If statement\n",
    "alien_color = 'green'\n",
    "\n",
    "if alien_color == 'green':\n",
    "    print(\"The player just earned 5 points.\")\n",
    "else:\n",
    "    print(\"The player just earned 10 points.\")\n",
    "\n",
    "# If else\n",
    "alien_color = 'green'\n",
    "\n",
    "if alien_color == 'red':\n",
    "    print(\"The player just earned 5 points.\")\n",
    "else:\n",
    "    print(\"The player earned 10 points.\")"
   ]
  }
 ],
 "metadata": {
  "kernelspec": {
   "display_name": "Python 3",
   "language": "python",
   "name": "python3"
  },
  "language_info": {
   "codemirror_mode": {
    "name": "ipython",
    "version": 3
   },
   "file_extension": ".py",
   "mimetype": "text/x-python",
   "name": "python",
   "nbconvert_exporter": "python",
   "pygments_lexer": "ipython3",
   "version": "3.13.5"
  }
 },
 "nbformat": 4,
 "nbformat_minor": 5
}
