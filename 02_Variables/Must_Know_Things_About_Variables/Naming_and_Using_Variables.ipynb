{
 "cells": [
  {
   "cell_type": "markdown",
   "id": "d409ebf8",
   "metadata": {},
   "source": [
    "# **Ways of Naming and Using Variables**\n",
    "When naming variables in Python, you must follow some basic rules to avoid errors and keep your code clear. Variable names can include letters, numbers, and underscores, but they must begin with a letter or an underscore—not a number. Spaces are not allowed, so underscores should be used to separate words when needed. It’s also important to avoid using Python's built-in keywords or function names as variable names. Good variable names should be short, clear, and meaningful. Be cautious with characters like l and O, as they can be confused with the numbers 1 and 0. With time and practice, writing proper variable names becomes easier and improves code readability. All kinds of examples related to these rules are provided below."
   ]
  },
  {
   "cell_type": "code",
   "execution_count": null,
   "id": "a254046b",
   "metadata": {},
   "outputs": [],
   "source": [
    "# 1. Spaces are NOT allowed. Use underscores instead.\n",
    "\n",
    "# My Name = \"Inner Programmer\"      # Invalid: contains spaces\n",
    "My_Name = \"Inner Programmer\"        # Correct"
   ]
  },
  {
   "cell_type": "code",
   "execution_count": null,
   "id": "b9d8a6a1",
   "metadata": {},
   "outputs": [],
   "source": [
    "# 2. Variable names CANNOT start with a number.\n",
    "\n",
    "# 1stStudent = \"Programmer1\"        # Invalid: starts with a number\n",
    "firstStudent = \"Programmer1\"        # Correct\n",
    "student1 = \"Programmer2\"            # Correct"
   ]
  },
  {
   "cell_type": "code",
   "execution_count": null,
   "id": "a603832a",
   "metadata": {},
   "outputs": [],
   "source": [
    "# 3. Special characters like @, $, %, -, etc., are NOT allowed.\n",
    "\n",
    "# user-name = \"Ahsan\"              # Invalid: contains hyphen\n",
    "# $value = 10                      # Invalid: starts with $\n",
    "user_name = \"Inner Progammer\"      # Correct\n",
    "value100 = 10                      # Correct"
   ]
  },
  {
   "cell_type": "code",
   "execution_count": 9,
   "id": "47603ece",
   "metadata": {},
   "outputs": [],
   "source": [
    "# 4. Avoid using Python reserved **keywords** (like `for`, `if`, `print`, etc.)\n",
    "\n",
    "# if = \"yes\"                       # Invalid: 'if' is a keyword\n",
    "# print = \"message\"                # Invalid: 'print' is a built-in function\n",
    "message = \"Hello\"                  # Correct\n",
    "output_message = \"Hello\"           # Correct"
   ]
  },
  {
   "cell_type": "code",
   "execution_count": null,
   "id": "c38bc9e9",
   "metadata": {},
   "outputs": [],
   "source": [
    "# 5. A variable CAN start with an underscore.\n",
    "\n",
    "_name = \"Private\"                   #  Valid\n",
    "_temp = 45                          #  Valid"
   ]
  },
  {
   "cell_type": "code",
   "execution_count": 11,
   "id": "6fb0b5e6",
   "metadata": {},
   "outputs": [],
   "source": [
    "# 6. Be careful with letters like **l (L)** and **O**, which look like **1** and **0**\n",
    "\n",
    "# O1 = \"Confusing\"                  #  Avoid: looks like 01\n",
    "# l0ve = \"Confusing\"                #  Avoid: looks like 10\n",
    "love_message = \"Clear\"              #  Better and more readable\n"
   ]
  },
  {
   "cell_type": "code",
   "execution_count": null,
   "id": "825e43e0",
   "metadata": {},
   "outputs": [],
   "source": [
    "# 7. Use short but meaningful names\n",
    "\n",
    "# x = \"Inner programer\"              #  Valid but not clear\n",
    "# n = 25                             #  Valid but not descriptive\n",
    "student_name = \"Inner Programmer\"    #  Better and readable\n",
    "age = 25                             #  Clear and meaningful"
   ]
  }
 ],
 "metadata": {
  "kernelspec": {
   "display_name": "Python 3",
   "language": "python",
   "name": "python3"
  },
  "language_info": {
   "codemirror_mode": {
    "name": "ipython",
    "version": 3
   },
   "file_extension": ".py",
   "mimetype": "text/x-python",
   "name": "python",
   "nbconvert_exporter": "python",
   "pygments_lexer": "ipython3",
   "version": "3.13.5"
  }
 },
 "nbformat": 4,
 "nbformat_minor": 5
}
