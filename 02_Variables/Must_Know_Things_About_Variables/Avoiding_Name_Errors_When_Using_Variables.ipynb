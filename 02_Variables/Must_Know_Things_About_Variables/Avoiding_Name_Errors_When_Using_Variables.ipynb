{
 "cells": [
  {
   "cell_type": "markdown",
   "id": "003e256b",
   "metadata": {},
   "source": [
    "# **Avoiding Name Errors When Using Variables**\n",
    "The Python interpreter doesn't spellcheck your code, but it\n",
    "does ensure that variable names are spelled consistently. For example,\n",
    "watch what happens when we spell message incorrectly in the line that\n",
    "defines the variable:"
   ]
  },
  {
   "cell_type": "code",
   "execution_count": null,
   "id": "8515b73a",
   "metadata": {},
   "outputs": [],
   "source": [
    "mesage = \"This is a message with a typo\"\n",
    "print(mesage)      \n",
    "\n",
    "# The variable names match, so Python sees no issue. Programming\n",
    "# languages are strict, but they disregard good and bad spelling. As a result,\n",
    "# you don’t need to consider English spelling and grammar rules when you’re\n",
    "# trying to create variable names and writing code."
   ]
  }
 ],
 "metadata": {
  "language_info": {
   "name": "python"
  }
 },
 "nbformat": 4,
 "nbformat_minor": 5
}
