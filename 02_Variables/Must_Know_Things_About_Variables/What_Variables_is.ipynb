{
 "cells": [
  {
   "cell_type": "markdown",
   "id": "aa2b8419",
   "metadata": {},
   "source": [
    "# **What Are Variables?**\n",
    "In both mathematics and programming, a variable is a symbolic name that holds a value. You can think of it as a labeled container that stores data such as a number, word, or other information. The main purpose of a variable is to store values so they can be reused and manipulated throughout a program or calculation without needing to rewrite them each time. Just like labeling a jar to know what’s inside, we assign a name to a value to make it easier to understand and use in our logic.\n",
    "\n",
    "In Python, variables make programs more readable and flexible. You can change the value of a variable at any time, and the rest of the code using that variable will automatically reflect the new value. Variable names should follow certain rules: they must begin with a letter or an underscore, can include letters, numbers, and underscores, but cannot start with a number or include spaces or special symbols. In summary, variables are essential for storing and managing data efficiently in both math and programming."
   ]
  },
  {
   "cell_type": "code",
   "execution_count": 1,
   "id": "84823736",
   "metadata": {},
   "outputs": [
    {
     "name": "stdout",
     "output_type": "stream",
     "text": [
      "61\n"
     ]
    }
   ],
   "source": [
    "a = 12            # 'a' is a variable that stores the integer value 12\n",
    "b = 49            # 'b' is a variable that stores the integer value 49\n",
    "\n",
    "result = a + b    # 'result' is a variable that stores the sum of 'a' and 'b'\n",
    "print(result)     # This will display the value of 'result', which is the sum of 'a'\n",
    "# Output: 61"
   ]
  },
  {
   "cell_type": "code",
   "execution_count": 2,
   "id": "697628dc",
   "metadata": {},
   "outputs": [
    {
     "name": "stdout",
     "output_type": "stream",
     "text": [
      "61\n"
     ]
    }
   ],
   "source": [
    "# but you can also do this in easy and short way use drictly print function\n",
    "print(a + b)     # This will directly display the sum of 'a' and 'b'\n",
    "# Output: 61"
   ]
  }
 ],
 "metadata": {
  "kernelspec": {
   "display_name": "Python 3",
   "language": "python",
   "name": "python3"
  },
  "language_info": {
   "codemirror_mode": {
    "name": "ipython",
    "version": 3
   },
   "file_extension": ".py",
   "mimetype": "text/x-python",
   "name": "python",
   "nbconvert_exporter": "python",
   "pygments_lexer": "ipython3",
   "version": "3.13.5"
  }
 },
 "nbformat": 4,
 "nbformat_minor": 5
}
