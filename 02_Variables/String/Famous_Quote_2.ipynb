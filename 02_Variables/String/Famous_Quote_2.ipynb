{
 "cells": [
  {
   "cell_type": "markdown",
   "id": "e2e0832a",
   "metadata": {},
   "source": [
    "# **Famous Quote 2**\n",
    "Repeat Exercise 2-5, but this time, represent the famous\n",
    "person’s name using a variable called famous_person. Then compose your message\n",
    "and represent it with a new variable called message. Print your message.\n"
   ]
  },
  {
   "cell_type": "code",
   "execution_count": 3,
   "id": "9057888d",
   "metadata": {},
   "outputs": [
    {
     "name": "stdout",
     "output_type": "stream",
     "text": [
      "Napoleon Hill once said: \"A winner never quits, and a quitter never wins.\"\n"
     ]
    }
   ],
   "source": [
    "author_name = \"Napoleon Hill\"\n",
    "message = f'{author_name} once said: \"A winner never quits, and a quitter never wins.\"'\n",
    "print(message)"
   ]
  }
 ],
 "metadata": {
  "kernelspec": {
   "display_name": "Python 3",
   "language": "python",
   "name": "python3"
  },
  "language_info": {
   "codemirror_mode": {
    "name": "ipython",
    "version": 3
   },
   "file_extension": ".py",
   "mimetype": "text/x-python",
   "name": "python",
   "nbconvert_exporter": "python",
   "pygments_lexer": "ipython3",
   "version": "3.13.5"
  }
 },
 "nbformat": 4,
 "nbformat_minor": 5
}
