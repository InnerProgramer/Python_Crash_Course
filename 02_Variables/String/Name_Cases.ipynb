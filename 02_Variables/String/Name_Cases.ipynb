{
 "cells": [
  {
   "cell_type": "markdown",
   "id": "42908aaf",
   "metadata": {},
   "source": [
    "# **Name Cases**\n",
    " Use a variable to represent a person’s name, and then print that\n",
    "person’s name in lowercase, uppercase, and title case."
   ]
  },
  {
   "cell_type": "code",
   "execution_count": null,
   "id": "5dbf80e3",
   "metadata": {},
   "outputs": [
    {
     "name": "stdout",
     "output_type": "stream",
     "text": [
      "Inner Programmer\n"
     ]
    }
   ],
   "source": [
    "# This will make the name First Letter Capital\n",
    "name = \"iNneR ProgRamMer\"\n",
    "print(name.title())"
   ]
  },
  {
   "cell_type": "code",
   "execution_count": 10,
   "id": "3fea1742",
   "metadata": {},
   "outputs": [
    {
     "name": "stdout",
     "output_type": "stream",
     "text": [
      "INNER PROGRAMMER\n"
     ]
    }
   ],
   "source": [
    "# This will the all letters capital\n",
    "name_2 = \"iNneR ProgRamMer\"\n",
    "print(name_2.upper())"
   ]
  },
  {
   "cell_type": "code",
   "execution_count": 19,
   "id": "7d43950d",
   "metadata": {},
   "outputs": [
    {
     "name": "stdout",
     "output_type": "stream",
     "text": [
      "inner programmer\n"
     ]
    }
   ],
   "source": [
    "# This will man all letters lower cases\n",
    "name_3 = \"iNneR ProgRamMer\"\n",
    "print(name_3.lower())"
   ]
  }
 ],
 "metadata": {
  "kernelspec": {
   "display_name": "Python 3",
   "language": "python",
   "name": "python3"
  },
  "language_info": {
   "codemirror_mode": {
    "name": "ipython",
    "version": 3
   },
   "file_extension": ".py",
   "mimetype": "text/x-python",
   "name": "python",
   "nbconvert_exporter": "python",
   "pygments_lexer": "ipython3",
   "version": "3.13.5"
  }
 },
 "nbformat": 4,
 "nbformat_minor": 5
}
