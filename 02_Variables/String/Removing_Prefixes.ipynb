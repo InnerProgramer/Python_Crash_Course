{
 "cells": [
  {
   "cell_type": "markdown",
   "id": "85ac8748",
   "metadata": {},
   "source": [
    "# **Removing Prefixes**\n",
    "Sometimes, when we’re working with text in Python, we might want to remove a specific part from the beginning of a string. For example, website links often start with \"https://\" — but we may want to remove that part to keep the link shorter and easier to read. In Python, we can use the .removeprefix() method to do this. It checks if the string starts with something, like \"https://\" — and if it does, it removes it. The original text stays the same unless we save the new version in a variable. This is useful when you want to clean up website links, file names, or any text that has extra stuff at the beginning.\n",
    "\n"
   ]
  },
  {
   "cell_type": "code",
   "execution_count": 36,
   "id": "41cc8b70",
   "metadata": {},
   "outputs": [
    {
     "data": {
      "text/plain": [
       "'www.InnerProgammer.com'"
      ]
     },
     "execution_count": 36,
     "metadata": {},
     "output_type": "execute_result"
    }
   ],
   "source": [
    "# This is How use this prefix to remove a specific part from the beginning of a string\n",
    "# like this: \n",
    "Web_Url = 'https://www.InnerProgammer.com'\n",
    "Web_Url.removeprefix('https://')     # Output: 'www.InnerProgammer.com'"
   ]
  }
 ],
 "metadata": {
  "kernelspec": {
   "display_name": "Python 3",
   "language": "python",
   "name": "python3"
  },
  "language_info": {
   "codemirror_mode": {
    "name": "ipython",
    "version": 3
   },
   "file_extension": ".py",
   "mimetype": "text/x-python",
   "name": "python",
   "nbconvert_exporter": "python",
   "pygments_lexer": "ipython3",
   "version": "3.13.5"
  }
 },
 "nbformat": 4,
 "nbformat_minor": 5
}
