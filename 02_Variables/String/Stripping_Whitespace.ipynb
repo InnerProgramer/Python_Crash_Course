{
 "cells": [
  {
   "cell_type": "markdown",
   "id": "5e367b8e",
   "metadata": {},
   "source": [
    "# **Stripping Whitespace**\n",
    "Extra whitespace can be confusing in your programs. To programmers,\n",
    "'python' and 'python ' look pretty much the same. But to a program, they\n",
    "are two different strings. Python detects the extra space in 'python ' and\n",
    "considers it significant unless you tell it otherwise.\n",
    "It’s important to think about whitespace, because often you’ll want to\n",
    "compare two strings to determine whether they are the same. For example,\n",
    "one important instance might involve checking people’s usernames when\n",
    "they log in to a website. Extra whitespace can be confusing in much simpler\n",
    "situations as well. Fortunately, Python makes it easy to eliminate extra\n",
    "whitespace from data that people enter.\n",
    "Python can look for extra whitespace on the right and left sides of a string.\n",
    "To ensure that no whitespace exists at the right side of a string, use the\n",
    "rstrip() method:"
   ]
  },
  {
   "cell_type": "code",
   "execution_count": 9,
   "id": "e41e4af8",
   "metadata": {},
   "outputs": [
    {
     "data": {
      "text/plain": [
       "'python'"
      ]
     },
     "execution_count": 9,
     "metadata": {},
     "output_type": "execute_result"
    }
   ],
   "source": [
    "# this is how we use rstrip() to remove trailing whitespace\n",
    "\n",
    "favorite_language = 'python '\n",
    "favorite_language\n",
    "'python '                   # Output: 'python'\n",
    "favorite_language.rstrip()"
   ]
  },
  {
   "cell_type": "markdown",
   "id": "a1c3c1d1",
   "metadata": {},
   "source": [
    "To remove the whitespace from the string, you strip the whitespace from the\n",
    "right side of the string and then associate this new value with the original\n",
    "variable. Changing a variable’s value is done often in programming. This\n",
    "is how a variable’s value can be updated as a program is executed or in\n",
    "response to user input.\n",
    "You can also strip whitespace from the left side of a string using the\n",
    "lstrip() method, or from both sides at once using strip():"
   ]
  },
  {
   "cell_type": "code",
   "execution_count": 24,
   "id": "d26159ef",
   "metadata": {},
   "outputs": [
    {
     "name": "stdout",
     "output_type": "stream",
     "text": [
      "Python\n",
      "Python\n",
      "Python\n"
     ]
    }
   ],
   "source": [
    "# --rstrip() removes trailing whitespace from the string--\n",
    "I_Love = 'Python '\n",
    "print(I_Love.rstrip())            # Output: 'Python'\n",
    "\n",
    "# --lstrip() removes leading whitespace form the string--\n",
    "I_Love1 = ' Python'\n",
    "print(I_Love1.lstrip())            # Output: 'Python'\n",
    "\n",
    "# --strip() removes both leading and trailing whitespace from the string--\n",
    "I_Love2 = ' Python '\n",
    "print(I_Love2.strip())             # Output: 'Python'"
   ]
  }
 ],
 "metadata": {
  "kernelspec": {
   "display_name": "Python 3",
   "language": "python",
   "name": "python3"
  },
  "language_info": {
   "codemirror_mode": {
    "name": "ipython",
    "version": 3
   },
   "file_extension": ".py",
   "mimetype": "text/x-python",
   "name": "python",
   "nbconvert_exporter": "python",
   "pygments_lexer": "ipython3",
   "version": "3.13.5"
  }
 },
 "nbformat": 4,
 "nbformat_minor": 5
}
