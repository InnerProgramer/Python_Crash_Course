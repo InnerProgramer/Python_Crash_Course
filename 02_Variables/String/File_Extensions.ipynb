{
 "cells": [
  {
   "cell_type": "markdown",
   "id": "c98c9ce9",
   "metadata": {},
   "source": [
    "# **File Extensions**\n",
    "Python has a removesuffix() method that works exactly like\n",
    "removeprefix(). Assign the value 'python_notes.txt' to a variable called filename.\n",
    "Then use the removesuffix() method to display the filename without the file extension,\n",
    "like some file browsers do."
   ]
  },
  {
   "cell_type": "code",
   "execution_count": 4,
   "id": "1ca90d3a",
   "metadata": {},
   "outputs": [
    {
     "name": "stdout",
     "output_type": "stream",
     "text": [
      "python_notes\n"
     ]
    }
   ],
   "source": [
    "a = \"python_notes.txt\"\n",
    "b = a.removesuffix('.txt')\n",
    "print(b)"
   ]
  }
 ],
 "metadata": {
  "kernelspec": {
   "display_name": "Python 3",
   "language": "python",
   "name": "python3"
  },
  "language_info": {
   "codemirror_mode": {
    "name": "ipython",
    "version": 3
   },
   "file_extension": ".py",
   "mimetype": "text/x-python",
   "name": "python",
   "nbconvert_exporter": "python",
   "pygments_lexer": "ipython3",
   "version": "3.13.5"
  }
 },
 "nbformat": 4,
 "nbformat_minor": 5
}
