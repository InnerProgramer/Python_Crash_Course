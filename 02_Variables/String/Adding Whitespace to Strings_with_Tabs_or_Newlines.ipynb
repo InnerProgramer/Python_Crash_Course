{
 "cells": [
  {
   "cell_type": "markdown",
   "id": "7be8fbc7",
   "metadata": {},
   "source": [
    "# **Adding Whitespace to Strings with Tabs or Newlines**\n",
    "Whitespace in programming refers to characters that do not produce visible marks on the screen, such as spaces, tabs, and newline (end-of-line) symbols. These characters are essential for formatting output, making code and results easier to read and understand. For example, spaces separate words, tabs can indent lines to highlight structure, and newlines break text into separate lines. By thoughtfully using whitespace, you can organize your program’s output so that information is presented clearly to users.\n",
    "\n",
    "To insert a tab space within your text, use the escape sequence \\t. This tells Python to add a horizontal tab at that position in the string, which can help align or indent your output for better readability."
   ]
  },
  {
   "cell_type": "code",
   "execution_count": null,
   "id": "17239066",
   "metadata": {},
   "outputs": [],
   "source": [
    "# we use \\t to add a new line in the string\n",
    "\n",
    "print(\"Python\") # Output: Python\n",
    "\n",
    "print(\"\\tPython\")   # Output:     Python (with a tab space before Python)"
   ]
  },
  {
   "cell_type": "code",
   "execution_count": null,
   "id": "c1eeeace",
   "metadata": {},
   "outputs": [
    {
     "name": "stdout",
     "output_type": "stream",
     "text": [
      "Python\n",
      "Java\n",
      "C\n",
      "C++\n",
      "javascript\n",
      "These all are progamming languages\n"
     ]
    }
   ],
   "source": [
    "# to add a new line in the string we use \\n\n",
    "\n",
    "print(\"Python\\nJava\\nC\\nC++\\njavascript\\nThese all are progamming languages\")  # Output: #Python\n",
    "                                                                                         #Java\n",
    "                                                                                         #C\n",
    "                                                                                         #C++\n",
    "                                                                                         #javascript\n",
    "                                                                                         #These all are progamming languages"
   ]
  },
  {
   "cell_type": "markdown",
   "id": "e10d9805",
   "metadata": {},
   "source": [
    "##### You can also combine tabs and newlines in a single string. The string \"\\n\\t\" tells Python to move to a new line, and start the next line with a tab. The following example shows how you can use a one-line string to generate four lines of output:"
   ]
  },
  {
   "cell_type": "code",
   "execution_count": 6,
   "id": "b2463488",
   "metadata": {},
   "outputs": [
    {
     "name": "stdout",
     "output_type": "stream",
     "text": [
      "Languages:\n",
      "\tPython\n",
      "\tC\n",
      "\tJavaScript\n"
     ]
    }
   ],
   "source": [
    "# like this:\n",
    "\n",
    "print(\"Languages:\\n\\tPython\\n\\tC\\n\\tJavaScript\")  # Output: Languages:\n",
    "\t                                                              # Python\n",
    "\t                                                              # C\n",
    "\t                                                              # JavaScript\n"
   ]
  }
 ],
 "metadata": {
  "kernelspec": {
   "display_name": "Python 3",
   "language": "python",
   "name": "python3"
  },
  "language_info": {
   "codemirror_mode": {
    "name": "ipython",
    "version": 3
   },
   "file_extension": ".py",
   "mimetype": "text/x-python",
   "name": "python",
   "nbconvert_exporter": "python",
   "pygments_lexer": "ipython3",
   "version": "3.13.5"
  }
 },
 "nbformat": 4,
 "nbformat_minor": 5
}
