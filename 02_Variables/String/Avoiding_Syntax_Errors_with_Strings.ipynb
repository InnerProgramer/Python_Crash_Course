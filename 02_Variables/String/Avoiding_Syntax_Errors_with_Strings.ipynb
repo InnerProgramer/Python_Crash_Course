{
 "cells": [
  {
   "cell_type": "markdown",
   "id": "8094014c",
   "metadata": {},
   "source": [
    "# **Avoiding Syntax Errors with Strings**\n",
    "One kind of error that you might see with some regularity is a syntax error.\n",
    "A syntax error occurs when Python doesn’t recognize a section of your\n",
    "program as valid Python code. For example, if you use an apostrophe\n",
    "within single quotes, you’ll produce an error. This happens because Python\n",
    "interprets everything between the first single quote and the apostrophe as a\n",
    "string. It then tries to interpret the rest of the text as Python code, which\n",
    "causes errors."
   ]
  },
  {
   "cell_type": "code",
   "execution_count": 3,
   "id": "83fce85c",
   "metadata": {},
   "outputs": [
    {
     "name": "stdout",
     "output_type": "stream",
     "text": [
      "I told my friend, 'Python is my favorite language!'\n"
     ]
    }
   ],
   "source": [
    "# Here’s how to use single and double quotes correctly.\n",
    "\n",
    "I_Told_My_Friend = \"I told my friend, 'Python is my favorite language!'\"\n",
    "print(I_Told_My_Friend)  # Output: I told my friend, 'Python is my favorite language!'"
   ]
  },
  {
   "cell_type": "markdown",
   "id": "c3686bfc",
   "metadata": {},
   "source": [
    "###### However, if you use single quotes, Python can’t identify where the string should end:\n"
   ]
  },
  {
   "cell_type": "code",
   "execution_count": null,
   "id": "ab07fa9c",
   "metadata": {},
   "outputs": [],
   "source": [
    "# This is an unidentified String and if you run it cause syntax errors\n",
    "\n",
    "# Message = 'One of Python's strengths is its diverse community.'"
   ]
  }
 ],
 "metadata": {
  "kernelspec": {
   "display_name": "Python 3",
   "language": "python",
   "name": "python3"
  },
  "language_info": {
   "codemirror_mode": {
    "name": "ipython",
    "version": 3
   },
   "file_extension": ".py",
   "mimetype": "text/x-python",
   "name": "python",
   "nbconvert_exporter": "python",
   "pygments_lexer": "ipython3",
   "version": "3.13.5"
  }
 },
 "nbformat": 4,
 "nbformat_minor": 5
}
