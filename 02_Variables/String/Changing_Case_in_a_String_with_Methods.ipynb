{
 "cells": [
  {
   "cell_type": "markdown",
   "id": "f28fba76",
   "metadata": {},
   "source": [
    "# **Let’s explore some of the ways you can use strings.**\n",
    " Changing the Case of a String Using Methods  One of the easiest things you can do with a string is change how its letters are capitalized. The example below shows how Python can adjust the case   of words in a string—see if you can figure out what each line does."
   ]
  },
  {
   "cell_type": "code",
   "execution_count": null,
   "id": "0588d2f0",
   "metadata": {},
   "outputs": [],
   "source": [
    "name = \"inner programmer\"\n",
    "print(name.title()) # this will capitalize the first letter of each words that the name string contains"
   ]
  },
  {
   "cell_type": "markdown",
   "id": "dc1411cd",
   "metadata": {},
   "source": [
    "##### In this example, the variable name refers to the lowercase string \"inner programer\". The title() method appears after the variable inside the print() function. A method is an action that Python can perform on a piece of data. The dot (.) in name.title() tells Python to apply the title() method to the variable name. Methods are always followed by parentheses because they may require extra information to work. In this case, title() doesn't need any additional input, so the parentheses are empty. The title() method converts each word in the string to title case, meaning the first letter of each word becomes uppercase. This is helpful when you want to display names consistently. For example, you might want your program to recognize the inputs \"inner\", \"INNER\", or \"Inner\" as the same name and display them all as Inner The Programer. Python also provides other methods to change strings to all uppercase or all lowercase letters, as shown below."
   ]
  },
  {
   "cell_type": "code",
   "execution_count": null,
   "id": "86e2ef4b",
   "metadata": {},
   "outputs": [
    {
     "name": "stdout",
     "output_type": "stream",
     "text": [
      "INNER PROGRAMMER\n",
      "inner programmer\n"
     ]
    }
   ],
   "source": [
    "name = \"iNnEr PrOGraMmer\" # i wrote the name string in a different way\n",
    "print(name.upper()) # this will convert the name string to all uppercase letters\n",
    "print(name.lower()) # this will convert the name string to all lowercase letters\n",
    "\n",
    "# The lower() method is particularly useful for storing data. You typically\n",
    "# won’t want to trust the capitalization that your users provide, so you’ll\n",
    "# convert strings to lowercase before storing them. Then when you want to\n",
    "# display the information, you’ll use the case that makes the most sense for\n",
    "# each string."
   ]
  }
 ],
 "metadata": {
  "kernelspec": {
   "display_name": "Python 3",
   "language": "python",
   "name": "python3"
  },
  "language_info": {
   "codemirror_mode": {
    "name": "ipython",
    "version": 3
   },
   "file_extension": ".py",
   "mimetype": "text/x-python",
   "name": "python",
   "nbconvert_exporter": "python",
   "pygments_lexer": "ipython3",
   "version": "3.13.5"
  }
 },
 "nbformat": 4,
 "nbformat_minor": 5
}
