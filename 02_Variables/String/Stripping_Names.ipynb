{
 "cells": [
  {
   "cell_type": "markdown",
   "id": "14753fe9",
   "metadata": {},
   "source": [
    "# **Stripping Names**\n",
    "Use a variable to represent a person’s name, and include some\n",
    "whitespace characters at the beginning and end of the name. Make sure you use each\n",
    "character combination, \"\\t\" and \"\\n\", at least once Print the name once, so the whitespace around the name is displayed. Then print the\n",
    "name using each of the three stripping functions, lstrip(), rstrip(), and strip()."
   ]
  },
  {
   "cell_type": "code",
   "execution_count": 12,
   "id": "d59cf6c5",
   "metadata": {},
   "outputs": [
    {
     "name": "stdout",
     "output_type": "stream",
     "text": [
      "This is the real line without any modification:\n",
      "\t\n",
      " Inner Programmer \n",
      "\t\n",
      "\n",
      "Using lstrip():\n",
      "Inner Programmer \n",
      "\t\n",
      "\n",
      "Using rstrip():\n",
      "\t\n",
      " Inner Programmer\n",
      "\n",
      "Using strip():\n",
      "Inner Programmer\n"
     ]
    }
   ],
   "source": [
    "# Store the name with extra whitespace using \\t (tab) and \\n (newline) \n",
    "name = \"\\t\\n Inner Programmer \\n\\t\"\n",
    "\n",
    "# Print original name with whitespace\n",
    "print(\"This is the real line without any modification:\")\n",
    "print(name)\n",
    "\n",
    "# Apply lstrip()\n",
    "print(\"\\nUsing lstrip():\")\n",
    "print(name.lstrip())\n",
    "\n",
    "# Apply rstrip()\n",
    "print(\"\\nUsing rstrip():\")\n",
    "print(name.rstrip())\n",
    "\n",
    "# Apply strip()\n",
    "print(\"\\nUsing strip():\")\n",
    "print(name.strip())\n"
   ]
  }
 ],
 "metadata": {
  "kernelspec": {
   "display_name": "Python 3",
   "language": "python",
   "name": "python3"
  },
  "language_info": {
   "codemirror_mode": {
    "name": "ipython",
    "version": 3
   },
   "file_extension": ".py",
   "mimetype": "text/x-python",
   "name": "python",
   "nbconvert_exporter": "python",
   "pygments_lexer": "ipython3",
   "version": "3.13.5"
  }
 },
 "nbformat": 4,
 "nbformat_minor": 5
}
