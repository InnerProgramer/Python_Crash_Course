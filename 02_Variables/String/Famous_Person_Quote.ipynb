{
 "cells": [
  {
   "cell_type": "markdown",
   "id": "d9a6e624",
   "metadata": {},
   "source": [
    "# **Famous Quote**\n",
    "Find a quote from a famous person you admire. Print the quote\n",
    "and the name of its author. Your output should look something like the following,\n",
    "including the quotation marks:\n",
    "Albert Einstein once said, “A person who never made a mistake never tried\n",
    "anything new.”\n"
   ]
  },
  {
   "cell_type": "code",
   "execution_count": 1,
   "id": "44d4c96c",
   "metadata": {},
   "outputs": [
    {
     "name": "stdout",
     "output_type": "stream",
     "text": [
      "Albert Einstein once said, “A person who never made a mistake never tried anything new.”\n"
     ]
    }
   ],
   "source": [
    "# The take the quote as same as in example\n",
    "a = 'Albert Einstein once said, “A person who never made a mistake never tried anything new.”'\n",
    "\n",
    "print(a) "
   ]
  }
 ],
 "metadata": {
  "kernelspec": {
   "display_name": "Python 3",
   "language": "python",
   "name": "python3"
  },
  "language_info": {
   "codemirror_mode": {
    "name": "ipython",
    "version": 3
   },
   "file_extension": ".py",
   "mimetype": "text/x-python",
   "name": "python",
   "nbconvert_exporter": "python",
   "pygments_lexer": "ipython3",
   "version": "3.13.5"
  }
 },
 "nbformat": 4,
 "nbformat_minor": 5
}
