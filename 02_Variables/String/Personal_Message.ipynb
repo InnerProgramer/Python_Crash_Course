{
 "cells": [
  {
   "cell_type": "markdown",
   "id": "28c498ef",
   "metadata": {},
   "source": [
    "# **Personal Message**\n",
    "Use a variable to represent a person’s name, and print a\n",
    "message to that person. Your message should be simple, such as, “Hello Eric, would\n",
    "you like to learn some Python today?”\n"
   ]
  },
  {
   "cell_type": "code",
   "execution_count": 8,
   "id": "0faf7537",
   "metadata": {},
   "outputs": [
    {
     "name": "stdout",
     "output_type": "stream",
     "text": [
      "Hello Inner Programmer, would you like to learn some Python today?\n"
     ]
    }
   ],
   "source": [
    "\n",
    "name = \"Inner Programmer\"\n",
    "\n",
    "massage = f\"Hello {name}, would you like to learn some Python today?\"\n",
    "print(massage)"
   ]
  }
 ],
 "metadata": {
  "kernelspec": {
   "display_name": "Python 3",
   "language": "python",
   "name": "python3"
  },
  "language_info": {
   "codemirror_mode": {
    "name": "ipython",
    "version": 3
   },
   "file_extension": ".py",
   "mimetype": "text/x-python",
   "name": "python",
   "nbconvert_exporter": "python",
   "pygments_lexer": "ipython3",
   "version": "3.13.5"
  }
 },
 "nbformat": 4,
 "nbformat_minor": 5
}
