{
 "cells": [
  {
   "cell_type": "markdown",
   "id": "5d4196bf",
   "metadata": {},
   "source": [
    "# **What Is a String**\n",
    "In Python, a string is a data type used to store text. A string is simply a sequence of characters, which can include letters, numbers, spaces, or symbols, all enclosed in quotes. For example, \"Hello\", '123', and \"Python is fun!\" are all strings. Strings are one of the most commonly used data types because they allow you to work with names, messages, user input, and much more. While strings may seem basic at first, Python provides many powerful ways to manipulate and use them in your programs.\n",
    "\n"
   ]
  },
  {
   "cell_type": "code",
   "execution_count": 10,
   "id": "732b02fd",
   "metadata": {},
   "outputs": [
    {
     "data": {
      "text/plain": [
       "'This is also a string.'"
      ]
     },
     "execution_count": 10,
     "metadata": {},
     "output_type": "execute_result"
    }
   ],
   "source": [
    "# A string is a series of characters. Anything inside quotes is considered a\n",
    "# string in Python, and you can use single or double quotes around your\n",
    "# strings like this:\n",
    "\"This is a string.\"\n",
    "'This is also a string.'\n",
    " "
   ]
  },
  {
   "cell_type": "code",
   "execution_count": 3,
   "id": "6796eb40",
   "metadata": {},
   "outputs": [
    {
     "data": {
      "text/plain": [
       "\"One of Python's strengths is its diverse and supportive community.\""
      ]
     },
     "execution_count": 3,
     "metadata": {},
     "output_type": "execute_result"
    }
   ],
   "source": [
    "# This flexibility allows you to use quotes and apostrophes within your strings:\n",
    "'I told my friend, \"Python is my favorite language!\"'\n",
    "\"The language 'Python' is named after Monty Python, not the snake.\"\n",
    "\"One of Python's strengths is its diverse and supportive community.\""
   ]
  }
 ],
 "metadata": {
  "kernelspec": {
   "display_name": "Python 3",
   "language": "python",
   "name": "python3"
  },
  "language_info": {
   "codemirror_mode": {
    "name": "ipython",
    "version": 3
   },
   "file_extension": ".py",
   "mimetype": "text/x-python",
   "name": "python",
   "nbconvert_exporter": "python",
   "pygments_lexer": "ipython3",
   "version": "3.13.5"
  }
 },
 "nbformat": 4,
 "nbformat_minor": 5
}
