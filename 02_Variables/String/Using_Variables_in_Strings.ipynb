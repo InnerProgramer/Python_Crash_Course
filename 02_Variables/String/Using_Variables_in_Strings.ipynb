{
 "cells": [
  {
   "cell_type": "markdown",
   "id": "30ee4b5c",
   "metadata": {},
   "source": [
    "# **Using Variables in Strings**\n",
    "In many situations, you’ll want to include the value of a variable directly within a string. This is especially useful when you need to create dynamic messages or combine pieces of information. For example, imagine you're storing a person's first name and last name in two separate variables—you may want to combine these values to display the person's full name in a clean and readable format. This approach is commonly used in programs that interact with users, generate reports, or display personalized output."
   ]
  },
  {
   "cell_type": "code",
   "execution_count": 2,
   "id": "809186d9",
   "metadata": {},
   "outputs": [
    {
     "name": "stdout",
     "output_type": "stream",
     "text": [
      "Inner Programmer\n"
     ]
    }
   ],
   "source": [
    "first_name = \"Inner\"\n",
    "last_name = \"Programmer\"\n",
    "full_name = f\"{first_name} {last_name}\"\n",
    "print(full_name)  # Output: Inner Programmer"
   ]
  }
 ],
 "metadata": {
  "kernelspec": {
   "display_name": "Python 3",
   "language": "python",
   "name": "python3"
  },
  "language_info": {
   "codemirror_mode": {
    "name": "ipython",
    "version": 3
   },
   "file_extension": ".py",
   "mimetype": "text/x-python",
   "name": "python",
   "nbconvert_exporter": "python",
   "pygments_lexer": "ipython3",
   "version": "3.13.5"
  }
 },
 "nbformat": 4,
 "nbformat_minor": 5
}
