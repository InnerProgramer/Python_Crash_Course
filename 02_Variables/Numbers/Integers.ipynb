{
 "cells": [
  {
   "cell_type": "markdown",
   "id": "1a5eb951",
   "metadata": {},
   "source": [
    "# **Integers**\n",
    "Numbers are used quite often in programming to keep score in games,\n",
    "represent data in visualizations, store information in web applications, and\n",
    "so on. Python treats numbers in several different ways, depending on how\n",
    "they’re being used. Let’s first look at how Python manages integers,\n",
    "because they’re the simplest to work with."
   ]
  },
  {
   "cell_type": "code",
   "execution_count": null,
   "id": "bf5474b7",
   "metadata": {},
   "outputs": [
    {
     "name": "stdout",
     "output_type": "stream",
     "text": [
      "9\n",
      "2\n",
      "12\n",
      "1.5\n"
     ]
    }
   ],
   "source": [
    "# You can add (+), subtract (-), multiply (*), and divide (/) integers in Python.\n",
    "a = 5 + 4      # Result = 9 \n",
    "b = 3 - 1      # Result = 2\n",
    "c = 2 * 6      # Result = 12\n",
    "d = 3 / 2      # Result = 1.5\n",
    "print(a)\n",
    "print(b)\n",
    "print(c)\n",
    "print(d)"
   ]
  },
  {
   "cell_type": "markdown",
   "id": "918ba9b6",
   "metadata": {},
   "source": [
    "In a terminal session, Python simply returns the result of the operation.\n",
    "Python uses two multiplication symbols to represent exponents:\n"
   ]
  },
  {
   "cell_type": "code",
   "execution_count": null,
   "id": "f1a61525",
   "metadata": {},
   "outputs": [
    {
     "name": "stdout",
     "output_type": "stream",
     "text": [
      "9\n",
      "27\n",
      "1000000\n"
     ]
    }
   ],
   "source": [
    "a = 3 ** 2    # Result = 9\n",
    "b = 3 ** 3    # Result = 27\n",
    "c = 10 ** 6   # Result = 1000000\n",
    "print(a)\n",
    "print(b)\n",
    "print(c)"
   ]
  },
  {
   "cell_type": "markdown",
   "id": "e572b80c",
   "metadata": {},
   "source": [
    "Python supports the order of operations too, so you can use multiple\n",
    "operations in one expression. You can also use parentheses to modify the\n",
    "order of operations so Python can evaluate your expression in the order you\n",
    "specify. For example:\n"
   ]
  },
  {
   "cell_type": "code",
   "execution_count": null,
   "id": "eec3a2c1",
   "metadata": {},
   "outputs": [
    {
     "name": "stdout",
     "output_type": "stream",
     "text": [
      "14\n",
      "20\n"
     ]
    }
   ],
   "source": [
    "a = 2 + 3*4         # Result = 14\n",
    "b = (2 + 3) * 4     # Result = 20\n",
    "print(a)\n",
    "print(b)"
   ]
  }
 ],
 "metadata": {
  "kernelspec": {
   "display_name": "Python 3",
   "language": "python",
   "name": "python3"
  },
  "language_info": {
   "codemirror_mode": {
    "name": "ipython",
    "version": 3
   },
   "file_extension": ".py",
   "mimetype": "text/x-python",
   "name": "python",
   "nbconvert_exporter": "python",
   "pygments_lexer": "ipython3",
   "version": "3.13.5"
  }
 },
 "nbformat": 4,
 "nbformat_minor": 5
}
