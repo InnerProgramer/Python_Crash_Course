{
 "cells": [
  {
   "cell_type": "markdown",
   "id": "05e5dc11",
   "metadata": {},
   "source": [
    "# **Integers and Floats**\n",
    "In Python, numbers are divided into two main types: integers and floats. Integers are whole numbers without decimal points, while floats are numbers that include a decimal point. When performing calculations, if a float is involved, Python automatically returns the result as a float to maintain accuracy. Python also allows the use of underscores in large numbers to improve readability, without affecting the actual value. Additionally, Python supports multiple assignment, which means you can assign values to multiple variables in a single line, making your code cleaner and more organized."
   ]
  },
  {
   "cell_type": "code",
   "execution_count": null,
   "id": "8e9bb0ad",
   "metadata": {},
   "outputs": [
    {
     "name": "stdout",
     "output_type": "stream",
     "text": [
      "2.0\n"
     ]
    }
   ],
   "source": [
    "# When you divide any two numbers, even if they are integers that result in a\n",
    "# whole number, you’ll always get a float: \n",
    "\n",
    "a = 10/5\n",
    "print(a) # Result = 2.0"
   ]
  },
  {
   "cell_type": "markdown",
   "id": "00d746b2",
   "metadata": {},
   "source": [
    "##### If you mix an integer and a float in any other operation, you’ll get a float as well:"
   ]
  },
  {
   "cell_type": "code",
   "execution_count": null,
   "id": "d174960e",
   "metadata": {},
   "outputs": [
    {
     "name": "stdout",
     "output_type": "stream",
     "text": [
      "3.0\n",
      "6.0\n",
      "9.0\n"
     ]
    }
   ],
   "source": [
    "a = 1 + 2.0      # Result = 3.0\n",
    "b = 2 * 3.0      # Result = 6.0\n",
    "c = 3.0 ** 2     # Result = 9.0\n",
    "print(a)\n",
    "print(b)\n",
    "print(c)\n",
    "\n",
    "# Python defaults to a float in any operation that uses a float, even if the output is a whole number."
   ]
  }
 ],
 "metadata": {
  "kernelspec": {
   "display_name": "Python 3",
   "language": "python",
   "name": "python3"
  },
  "language_info": {
   "codemirror_mode": {
    "name": "ipython",
    "version": 3
   },
   "file_extension": ".py",
   "mimetype": "text/x-python",
   "name": "python",
   "nbconvert_exporter": "python",
   "pygments_lexer": "ipython3",
   "version": "3.13.5"
  }
 },
 "nbformat": 4,
 "nbformat_minor": 5
}
