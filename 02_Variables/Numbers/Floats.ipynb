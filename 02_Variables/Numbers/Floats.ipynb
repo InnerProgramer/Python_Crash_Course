{
 "cells": [
  {
   "cell_type": "markdown",
   "id": "99759c20",
   "metadata": {},
   "source": [
    "# **Floats**\n",
    "Python calls any number with a decimal point a float. This term is used in\n",
    "most programming languages, and it refers to the fact that a decimal point\n",
    "can appear at any position in a number. Every programming language must\n",
    "be carefully designed to properly manage decimal numbers so numbers\n",
    "behave appropriately, no matter where the decimal point appears.\n",
    "For the most part, you can use floats without worrying about how they\n",
    "behave. Simply enter the numbers you want to use, and Python will most\n",
    "likely do what you expect:\n"
   ]
  },
  {
   "cell_type": "code",
   "execution_count": null,
   "id": "65669ed2",
   "metadata": {},
   "outputs": [
    {
     "name": "stdout",
     "output_type": "stream",
     "text": [
      "0.2\n",
      "0.4\n",
      "0.2\n",
      "0.4\n"
     ]
    }
   ],
   "source": [
    "# Floats Behave Expectedly\n",
    "a = 0.1 + 0.1\n",
    "b = 0.2 + 0.2\n",
    "c = 2 * 0.1\n",
    "d = 2 * 0.2\n",
    "print(a)\n",
    "print(b)\n",
    "print(c)\n",
    "print(d)"
   ]
  },
  {
   "cell_type": "markdown",
   "id": "bedcffa6",
   "metadata": {},
   "source": [
    "##### However, be aware that you can sometimes get an arbitrary number of decimal places in your answer:"
   ]
  },
  {
   "cell_type": "code",
   "execution_count": null,
   "id": "1f153425",
   "metadata": {},
   "outputs": [
    {
     "name": "stdout",
     "output_type": "stream",
     "text": [
      "0.30000000000000004\n",
      "0.30000000000000004\n"
     ]
    }
   ],
   "source": [
    "# sometimes get an arbitrary number of decimal places\n",
    "a = 0.2 + 0.1\n",
    "b = 3 * 0.1\n",
    "print(a)\n",
    "print(b)"
   ]
  }
 ],
 "metadata": {
  "kernelspec": {
   "display_name": "Python 3",
   "language": "python",
   "name": "python3"
  },
  "language_info": {
   "codemirror_mode": {
    "name": "ipython",
    "version": 3
   },
   "file_extension": ".py",
   "mimetype": "text/x-python",
   "name": "python",
   "nbconvert_exporter": "python",
   "pygments_lexer": "ipython3",
   "version": "3.13.5"
  }
 },
 "nbformat": 4,
 "nbformat_minor": 5
}
