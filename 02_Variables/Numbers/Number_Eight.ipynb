{
 "cells": [
  {
   "cell_type": "markdown",
   "id": "6b0ec140",
   "metadata": {},
   "source": [
    "# **Number Eight**\n",
    "Write addition, subtraction, multiplication, and division operations\n",
    "that each result in the number 8. Be sure to enclose your operations in print() calls to\n",
    "see the results. You should create four lines that look like this: print(5+3) Your output should be four lines, with the number 8 appearing once on each line."
   ]
  },
  {
   "cell_type": "code",
   "execution_count": 5,
   "id": "d9db5d63",
   "metadata": {},
   "outputs": [
    {
     "name": "stdout",
     "output_type": "stream",
     "text": [
      "8\n",
      "8\n",
      "8\n",
      "8\n"
     ]
    }
   ],
   "source": [
    "# 2-9. Number Eight\n",
    "\n",
    "# Addition\n",
    "print(3 + 5)\n",
    "\n",
    "# Subtraction\n",
    "print(11 - 3)\n",
    "\n",
    "# Multiplication\n",
    "print(2 * 4)\n",
    "\n",
    "# Division\n",
    "print(16 // 2)\n"
   ]
  }
 ],
 "metadata": {
  "kernelspec": {
   "display_name": "Python 3",
   "language": "python",
   "name": "python3"
  },
  "language_info": {
   "codemirror_mode": {
    "name": "ipython",
    "version": 3
   },
   "file_extension": ".py",
   "mimetype": "text/x-python",
   "name": "python",
   "nbconvert_exporter": "python",
   "pygments_lexer": "ipython3",
   "version": "3.13.5"
  }
 },
 "nbformat": 4,
 "nbformat_minor": 5
}
