{
 "cells": [
  {
   "cell_type": "markdown",
   "id": "e344c2eb",
   "metadata": {},
   "source": [
    "# **Underscores in Numbers**\n",
    "When you’re writing long numbers, you can group digits using underscores\n",
    "to make large numbers more readable:"
   ]
  },
  {
   "cell_type": "code",
   "execution_count": null,
   "id": "573eb9e8",
   "metadata": {},
   "outputs": [
    {
     "name": "stdout",
     "output_type": "stream",
     "text": [
      "14000000000\n"
     ]
    }
   ],
   "source": [
    "universe_age = 14_000_000_000\n",
    "print(universe_age)           # When you print a number that was defined using underscores, Python prints\n",
    "# only the digits: Result = 14000000000"
   ]
  },
  {
   "cell_type": "markdown",
   "id": "e51465f9",
   "metadata": {},
   "source": [
    "###### Python ignores the underscores when storing these kinds of values. Even if you don’t group the digits in threes, the value will still be unaffected. To Python, 1000 is the same as 1_000, which is the same as 10_00. This feature works for both integers and floats.\n"
   ]
  }
 ],
 "metadata": {
  "kernelspec": {
   "display_name": "Python 3",
   "language": "python",
   "name": "python3"
  },
  "language_info": {
   "codemirror_mode": {
    "name": "ipython",
    "version": 3
   },
   "file_extension": ".py",
   "mimetype": "text/x-python",
   "name": "python",
   "nbconvert_exporter": "python",
   "pygments_lexer": "ipython3",
   "version": "3.13.5"
  }
 },
 "nbformat": 4,
 "nbformat_minor": 5
}
