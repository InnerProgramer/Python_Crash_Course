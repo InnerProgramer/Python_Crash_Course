{
 "cells": [
  {
   "cell_type": "markdown",
   "id": "1c0474fa",
   "metadata": {},
   "source": [
    "# **Favorite Number**\n",
    " Use a variable to represent your favorite number. Then, using\n",
    "that variable, create a message that reveals your favorite number. Print that message.\n"
   ]
  },
  {
   "cell_type": "code",
   "execution_count": 3,
   "id": "142cd15c",
   "metadata": {},
   "outputs": [
    {
     "name": "stdout",
     "output_type": "stream",
     "text": [
      "My favorite number is 7\n"
     ]
    }
   ],
   "source": [
    "\n",
    "favorite_number = 7\n",
    "\n",
    "message = f\"My favorite number is {favorite_number}\"\n",
    "\n",
    "print(message)                                             # Result = My favorite number is 7\n"
   ]
  }
 ],
 "metadata": {
  "kernelspec": {
   "display_name": "Python 3",
   "language": "python",
   "name": "python3"
  },
  "language_info": {
   "codemirror_mode": {
    "name": "ipython",
    "version": 3
   },
   "file_extension": ".py",
   "mimetype": "text/x-python",
   "name": "python",
   "nbconvert_exporter": "python",
   "pygments_lexer": "ipython3",
   "version": "3.13.5"
  }
 },
 "nbformat": 4,
 "nbformat_minor": 5
}
