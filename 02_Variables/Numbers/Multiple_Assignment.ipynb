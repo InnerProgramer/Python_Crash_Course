{
 "cells": [
  {
   "cell_type": "markdown",
   "id": "a9c4a467",
   "metadata": {},
   "source": [
    "# **Multiple Assignment** \n",
    "You can assign values to more than one variable using just a single line of\n",
    "code. This can help shorten your programs and make them easier to read;\n",
    "you’ll use this technique most often when initializing a set of numbers.\n",
    "For example, here’s how you can initialize the variables x, y, and z to zero:"
   ]
  },
  {
   "cell_type": "code",
   "execution_count": 8,
   "id": "d34cb137",
   "metadata": {},
   "outputs": [
    {
     "name": "stdout",
     "output_type": "stream",
     "text": [
      "0 0 0\n"
     ]
    }
   ],
   "source": [
    "x, y, z = 0, 0, 0\n",
    "print(x, y, z)       # You need to separate the variable names with commas, and do the same\n",
    "                     # with the values, and Python will assign each value to its respective variable.\n",
    "                     # As long as the number of values matches the number of variables, Python\n",
    "                     # will match them up correctly"
   ]
  },
  {
   "cell_type": "markdown",
   "id": "dc11f307",
   "metadata": {},
   "source": [
    "##### **Constants**\n",
    "##### A constant is a variable whose value stays the same throughout the life of a program. Python doesn’t have built-in constant types, but Python programmers use all capital letters to indicate a variable should be treated as a constant and never be changed:"
   ]
  },
  {
   "cell_type": "code",
   "execution_count": null,
   "id": "a99930e3",
   "metadata": {},
   "outputs": [],
   "source": [
    "# Here Like This:\n",
    "MAX_CONNECTIONS = 5000                      # When you want to treat a variable as a constant in your code, write the name of the variable in all capital letters.\n"
   ]
  }
 ],
 "metadata": {
  "kernelspec": {
   "display_name": "Python 3",
   "language": "python",
   "name": "python3"
  },
  "language_info": {
   "codemirror_mode": {
    "name": "ipython",
    "version": 3
   },
   "file_extension": ".py",
   "mimetype": "text/x-python",
   "name": "python",
   "nbconvert_exporter": "python",
   "pygments_lexer": "ipython3",
   "version": "3.13.5"
  }
 },
 "nbformat": 4,
 "nbformat_minor": 5
}
